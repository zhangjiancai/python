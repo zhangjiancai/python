{
 "cells": [
  {
   "cell_type": "code",
   "execution_count": 19,
   "metadata": {},
   "outputs": [],
   "source": [
    "import pandas as pd"
   ]
  },
  {
   "cell_type": "code",
   "execution_count": 20,
   "metadata": {},
   "outputs": [],
   "source": [
    "df = pd.read_csv('labvalue_final.csv')"
   ]
  },
  {
   "cell_type": "code",
   "execution_count": 21,
   "metadata": {},
   "outputs": [],
   "source": [
    "groups = df.groupby('subject_id')"
   ]
  },
  {
   "cell_type": "code",
   "execution_count": 22,
   "metadata": {},
   "outputs": [],
   "source": [
    "groups_item = df.groupby('itemid')"
   ]
  },
  {
   "cell_type": "code",
   "execution_count": null,
   "metadata": {},
   "outputs": [],
   "source": [
    "for name, group in groups:\n",
    "    # 遍历组内每一行\n",
    "    for index, row in group.iterrows():\n",
    "        # 取出当前行的值\n",
    "        current_value = row['hadm_id']\n",
    "        # 取出组内第一行的值\n",
    "        first_value = group.iloc[0]['hadm_id']\n",
    "        if(current_value != first_value):\n",
    "            #如果不等于，那么我们要将其保留并取出另一列的值\n",
    "            for \n",
    "        else:\n",
    "            df[]\n"
   ]
  },
  {
   "cell_type": "code",
   "execution_count": 29,
   "metadata": {},
   "outputs": [],
   "source": [
    "def checkingroup(group,cow_name):\n",
    "    if len(group) > 1 :\n",
    "        for index ,row in group.iterrows():\n",
    "            first_row = group.nth[1:]['cow_name']"
   ]
  },
  {
   "cell_type": "code",
   "execution_count": 27,
   "metadata": {},
   "outputs": [],
   "source": [
    "df_privot = df.pivot(columns='itemid',values='valuenum')"
   ]
  },
  {
   "cell_type": "code",
   "execution_count": 28,
   "metadata": {},
   "outputs": [],
   "source": [
    "def ab (df):\n",
    "    return df.values\n",
    "\n",
    "df_final = df.groupby(['subject_id','hadm_id'])['itemid'].apply(ab)\n",
    "#df_final=df.reset_index()\n"
   ]
  },
  {
   "cell_type": "code",
   "execution_count": 30,
   "metadata": {},
   "outputs": [],
   "source": [
    "df_join=df.join(df_privot,how='inner')"
   ]
  },
  {
   "cell_type": "code",
   "execution_count": null,
   "metadata": {},
   "outputs": [],
   "source": [
    "df_final_f = df_join.groupby(['subject_id'])list(df_join)# 正则, 索引名包含1的"
   ]
  }
 ],
 "metadata": {
  "kernelspec": {
   "display_name": "Python 3",
   "language": "python",
   "name": "python3"
  },
  "language_info": {
   "codemirror_mode": {
    "name": "ipython",
    "version": 3
   },
   "file_extension": ".py",
   "mimetype": "text/x-python",
   "name": "python",
   "nbconvert_exporter": "python",
   "pygments_lexer": "ipython3",
   "version": "3.11.2"
  },
  "orig_nbformat": 4
 },
 "nbformat": 4,
 "nbformat_minor": 2
}
