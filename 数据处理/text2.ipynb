{
 "cells": [
  {
   "cell_type": "code",
   "execution_count": 1,
   "metadata": {},
   "outputs": [
    {
     "name": "stdout",
     "output_type": "stream",
     "text": [
      "group\n",
      "A    5\n",
      "B    7\n",
      "C    9\n",
      "Name: value, dtype: int64\n"
     ]
    }
   ],
   "source": [
    "import pandas as pd\n",
    "\n",
    "# 创建一个数据集\n",
    "df = pd.DataFrame({'group': ['A', 'B', 'C', 'A', 'B', 'C'],\n",
    "                   'value': [1, 2, 3, 4, 5, 6]})\n",
    "\n",
    "# 按照group列进行分组\n",
    "grouped = df.groupby('group')\n",
    "\n",
    "# 对每一组的value列求和\n",
    "result = grouped['value'].sum()\n",
    "\n",
    "print(result)\n"
   ]
  },
  {
   "cell_type": "code",
   "execution_count": 5,
   "metadata": {},
   "outputs": [
    {
     "name": "stdout",
     "output_type": "stream",
     "text": [
      "Group\n",
      "A    2\n",
      "B    5\n",
      "C    7\n",
      "Name: Value, dtype: int64\n"
     ]
    }
   ],
   "source": [
    "import pandas as pd\n",
    "\n",
    "# 创建示例数据集\n",
    "data = {'Group': ['A', 'A', 'A', 'B', 'B', 'C', 'C', 'C', 'C'],\n",
    "        'Value': [1, 2, 3, 4, 5, 6, 7, 8, 9]}\n",
    "df = pd.DataFrame(data)\n",
    "\n",
    "# 按照分组条件 Group 进行分组，然后取出每个组内的第3行的第2列元素\n",
    "result = df.groupby('Group').nth(1)['Value']\n",
    "print(result)\n"
   ]
  },
  {
   "cell_type": "code",
   "execution_count": 10,
   "metadata": {},
   "outputs": [
    {
     "name": "stdout",
     "output_type": "stream",
     "text": [
      "Group A, Row 0: 3 is not greater than 3\n",
      "Group A, Row 1: 5 is greater than 3\n",
      "Group B, Row 2: 1 is not greater than 1\n",
      "Group B, Row 3: 7 is greater than 1\n",
      "Group B, Row 4: 2 is greater than 1\n",
      "Group C, Row 5: 6 is not greater than 6\n"
     ]
    }
   ],
   "source": [
    "import pandas as pd\n",
    "\n",
    "# 创建示例数据\n",
    "df = pd.DataFrame({\n",
    "    'group': ['A', 'A', 'B', 'B', 'B', 'C'],\n",
    "    'value': [3, 5, 1, 7, 2, 6]\n",
    "})\n",
    "\n",
    "# 以 group 列进行分组\n",
    "grouped = df.groupby('group')\n",
    "\n",
    "# 遍历每个组\n",
    "for name, group in grouped:\n",
    "    # 遍历组内每一行\n",
    "    for index, row in group.iterrows():\n",
    "        # 取出当前行的值\n",
    "        current_value = row['value']\n",
    "        # 取出组内第一行的值\n",
    "        first_value = group.iloc[0]['value']\n",
    "        # 比较当前行的值与第一行的值\n",
    "        if current_value > first_value:\n",
    "            print(f\"Group {name}, Row {index}: {current_value} is greater than {first_value}\")\n",
    "        else:\n",
    "            print(f\"Group {name}, Row {index}: {current_value} is not greater than {first_value}\")\n"
   ]
  },
  {
   "cell_type": "code",
   "execution_count": 9,
   "metadata": {},
   "outputs": [
    {
     "name": "stdout",
     "output_type": "stream",
     "text": [
      "  key   A\n",
      "0  K0  A0\n",
      "1  K1  A1\n",
      "2  K2  A2\n",
      "3  K3  A3\n",
      "4  K4  A4\n",
      "5  K5  A5\n",
      "  key   B\n",
      "0  K0  B0\n",
      "1  K1  B1\n",
      "2  K2  B2\n",
      "  key_caller   A key_other   B\n",
      "0         K0  A0        K0  B0\n",
      "1         K1  A1        K1  B1\n",
      "2         K2  A2        K2  B2\n"
     ]
    }
   ],
   "source": [
    "df1 = pd.DataFrame({'key': ['K0', 'K1', 'K2', 'K3', 'K4', 'K5'],\n",
    "\t\t\t\t\t   'A': ['A0', 'A1', 'A2', 'A3', 'A4', 'A5']})\n",
    "df2 = pd.DataFrame({'key': ['K0', 'K1', 'K2'],\n",
    "\t\t\t\t\t   'B': ['B0', 'B1', 'B2']})\n",
    "\n",
    "# lsuffix和rsuffix设置连接的后缀名\n",
    "df3 = df1.join(df2,lsuffix='_caller', rsuffix='_other',how='inner')\n",
    "\n",
    "print(df1)\n",
    "print(df2)\n",
    "print(df3)\t"
   ]
  }
 ],
 "metadata": {
  "kernelspec": {
   "display_name": "Python 3",
   "language": "python",
   "name": "python3"
  },
  "language_info": {
   "codemirror_mode": {
    "name": "ipython",
    "version": 3
   },
   "file_extension": ".py",
   "mimetype": "text/x-python",
   "name": "python",
   "nbconvert_exporter": "python",
   "pygments_lexer": "ipython3",
   "version": "3.11.2"
  },
  "orig_nbformat": 4
 },
 "nbformat": 4,
 "nbformat_minor": 2
}
