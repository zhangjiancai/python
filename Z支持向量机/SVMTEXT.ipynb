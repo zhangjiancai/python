{
 "cells": [
  {
   "cell_type": "code",
   "execution_count": 11,
   "metadata": {},
   "outputs": [],
   "source": [
    "import cupy as np\n",
    "import matplotlib.pyplot as plt\n",
    "from sklearn.svm import SVC\n",
    "import struct,os\n",
    "#from thundersvm import SVC\n",
    "from sklearn.datasets import make_blobs\n",
    "from numpy import append,array,int8,uint8,zeros\n",
    "from array import array as pyarray\n",
    "from sklearn.metrics import accuracy_score, classification_report\n"
   ]
  },
  {
   "cell_type": "code",
   "execution_count": 12,
   "metadata": {},
   "outputs": [],
   "source": [
    "# 自定义加载函数load_mnist\n",
    "def load_mnist(image_file,label_file,path=r\"C:\\Users\\zjc20\\Downloads\\python\\Z支持向量机\\Fashion-MNIST\\raw\"):\n",
    "    digits=np.arange(10)\n",
    "\n",
    "    fname_image = os.path.join(path,image_file)\n",
    "    fname_label = os.path.join(path, label_file)\n",
    "\n",
    "    flbl = open(fname_label,'rb')\n",
    "    magic_nr, size = struct.unpack(\">II\", flbl.read(8))\n",
    "    lbl = pyarray(\"b\",flbl.read())\n",
    "    flbl.close()\n",
    "\n",
    "    fimg = open(fname_image,'rb')\n",
    "    magic_nr, size, rows, cols = struct.unpack(\">IIII\", fimg.read(16))\n",
    "    img = pyarray(\"B\",fimg.read())\n",
    "    fimg.close()\n",
    "\n",
    "    ind = [ k for k in range(size) if lbl[k] in digits ]\n",
    "    N = len(ind)\n",
    "\n",
    "    images = zeros((N, rows*cols),dtype = uint8)\n",
    "    labels = zeros((N,1), dtype = int8)\n",
    "    for i in range(len(ind)):\n",
    "        images[i] = array(img[ind[i]*rows*cols : (ind[i]+1)*rows*cols]).reshape((1,rows*cols))\n",
    "        labels[i] = lbl[ind[i]]\n",
    "    return images,labels"
   ]
  },
  {
   "cell_type": "code",
   "execution_count": 13,
   "metadata": {},
   "outputs": [],
   "source": [
    "# 加载数据\n",
    "train_image, train_label = load_mnist('train-images-idx3-ubyte', 'train-labels-idx1-ubyte')\n",
    "test_image, test_label = load_mnist('t10k-images-idx3-ubyte','t10k-labels-idx1-ubyte')"
   ]
  },
  {
   "cell_type": "code",
   "execution_count": 14,
   "metadata": {},
   "outputs": [
    {
     "name": "stdout",
     "output_type": "stream",
     "text": [
      "60000\n",
      "10000\n",
      "60000\n",
      "10000\n"
     ]
    }
   ],
   "source": [
    "# 首先进行数据归一化\n",
    "# 现在已经得到了image数组和label数组，在使用模型进行分类之前，有必要进行数据的归一化处理\n",
    "# 常用的数据归一化处理方式：min-max标准化和Z-score标准化方法。下面，采用min-max标准化将数据进行归一化处理\n",
    "train_image = [im/255.0 for im in train_image]\n",
    "test_image = [im/255.0 for im in test_image]\n",
    "\n",
    "print(len(train_image))\n",
    "print(len(test_image))\n",
    "print(len(train_label))\n",
    "print(len(test_label))"
   ]
  },
  {
   "cell_type": "code",
   "execution_count": 15,
   "metadata": {},
   "outputs": [],
   "source": [
    "modelSVM = SVC(kernel='linear', C=100,cache_size=1024,max_iter=10000,)  # SVC 建模：使用 SVC类，线性核函数\n"
   ]
  },
  {
   "cell_type": "code",
   "execution_count": 16,
   "metadata": {},
   "outputs": [
    {
     "name": "stderr",
     "output_type": "stream",
     "text": [
      "C:\\Users\\zjc20\\AppData\\Roaming\\Python\\Python311\\site-packages\\sklearn\\utils\\validation.py:1111: DataConversionWarning: A column-vector y was passed when a 1d array was expected. Please change the shape of y to (n_samples, ), for example using ravel().\n",
      "  y = column_or_1d(y, warn=True)\n"
     ]
    }
   ],
   "source": [
    "modelSVM.fit(train_image,train_label)  # 用样本集 X,y 训练 SVM 模型\n"
   ]
  },
  {
   "cell_type": "code",
   "execution_count": null,
   "metadata": {},
   "outputs": [],
   "source": [
    "predict = modelSVM(test_image)\n",
    "\n",
    "print(\"accuracy score: %.4lf\"% accuracy_score(predict,test_label))\n",
    "print(\"classfication report for %s:\\n%s\\n\"%(lr, classification_report(test_label, predict)))"
   ]
  }
 ],
 "metadata": {
  "kernelspec": {
   "display_name": "Python 3.11.0 64-bit",
   "language": "python",
   "name": "python3"
  },
  "language_info": {
   "codemirror_mode": {
    "name": "ipython",
    "version": 3
   },
   "file_extension": ".py",
   "mimetype": "text/x-python",
   "name": "python",
   "nbconvert_exporter": "python",
   "pygments_lexer": "ipython3",
   "version": "3.11.0"
  },
  "orig_nbformat": 4,
  "vscode": {
   "interpreter": {
    "hash": "5238573367df39f7286bb46f9ff5f08f63a01a80960060ce41e3c79b190280fa"
   }
  }
 },
 "nbformat": 4,
 "nbformat_minor": 2
}
