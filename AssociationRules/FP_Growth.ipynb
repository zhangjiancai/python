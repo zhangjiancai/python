{
 "cells": [
  {
   "cell_type": "code",
   "execution_count": 1,
   "metadata": {},
   "outputs": [],
   "source": [
    "from datetime import datetime\n",
    "import os\n",
    "import matplotlib.pyplot as plt\n",
    "import numpy as np"
   ]
  },
  {
   "cell_type": "code",
   "execution_count": 2,
   "metadata": {},
   "outputs": [],
   "source": [
    "data_set =[['Bread','Milk'],\n",
    "           ['Bread', 'Diaper', 'Beer', 'Eggs'],\n",
    "           ['Milk', 'Diaper', 'Beer', 'Coke'],\n",
    "           ['Bread', 'Milk', 'Diaper', 'Beer'],\n",
    "           ['Bread', 'Milk', 'Diaper', 'Coke']]"
   ]
  },
  {
   "cell_type": "code",
   "execution_count": 3,
   "metadata": {},
   "outputs": [],
   "source": [
    "DATA_SET_FROZENSET = set()\n",
    "for t1 in data_set: \n",
    "    for item2 in t1:\n",
    "        item_set = frozenset([item2])\n",
    "        DATA_SET_FROZENSET.add(item2)\n"
   ]
  },
  {
   "cell_type": "code",
   "execution_count": null,
   "metadata": {},
   "outputs": [],
   "source": []
  },
  {
   "cell_type": "code",
   "execution_count": 4,
   "metadata": {},
   "outputs": [],
   "source": [
    "support_data = {}\n",
    "t_num = float(len(data_set))\n",
    "\n",
    "def generate_Lk_by_Ck(Ck, min_sup):\n",
    "        \"\"\"\n",
    "        Generate Lk by executing a delete policy from Ck.\n",
    "        Args:\n",
    "            data_set: A list of transactions. Each transaction con tains several items.\n",
    "            Ck: A set which contains all all frequent candidate k-itemsets.\n",
    "            min_sup: The minimum support.最小的支持度\n",
    "            support_data: A dictionary. The key is frequent itemset and the value is support.\n",
    "        Returns:\n",
    "            Lk: A set which contains all all frequent k-itemsets.\n",
    "        \"\"\"\n",
    "        \n",
    "        \n",
    "        Lk = set()  #建立一个名为LK的集合\n",
    "        item_count = {}\n",
    "        for t in data_set:\n",
    "            for item in Ck:\n",
    "                if item.issubset(t):\n",
    "                    if item not in item_count:\n",
    "                        item_count[item] = 1\n",
    "                    else:\n",
    "                        item_count[item] += 1\n",
    "\n",
    "        for item in item_count:\n",
    "            if (item_count[item] / t_num) >= min_sup:\n",
    "                Lk.add(item)\n",
    "                support_data[item] = item_count[item] / t_num\n",
    "\n",
    "        return Lk"
   ]
  },
  {
   "cell_type": "code",
   "execution_count": 5,
   "metadata": {},
   "outputs": [
    {
     "ename": "AttributeError",
     "evalue": "'str' object has no attribute 'issubset'",
     "output_type": "error",
     "traceback": [
      "\u001b[1;31m---------------------------------------------------------------------------\u001b[0m",
      "\u001b[1;31mAttributeError\u001b[0m                            Traceback (most recent call last)",
      "Cell \u001b[1;32mIn[5], line 1\u001b[0m\n\u001b[1;32m----> 1\u001b[0m generate_Lk_by_Ck(DATA_SET_FROZENSET,\u001b[39m0.05\u001b[39;49m)\n",
      "Cell \u001b[1;32mIn[4], line 21\u001b[0m, in \u001b[0;36mgenerate_Lk_by_Ck\u001b[1;34m(Ck, min_sup)\u001b[0m\n\u001b[0;32m     19\u001b[0m \u001b[39mfor\u001b[39;00m t \u001b[39min\u001b[39;00m data_set:\n\u001b[0;32m     20\u001b[0m     \u001b[39mfor\u001b[39;00m item \u001b[39min\u001b[39;00m Ck:\n\u001b[1;32m---> 21\u001b[0m         \u001b[39mif\u001b[39;00m item\u001b[39m.\u001b[39;49missubset(t):\n\u001b[0;32m     22\u001b[0m             \u001b[39mif\u001b[39;00m item \u001b[39mnot\u001b[39;00m \u001b[39min\u001b[39;00m item_count:\n\u001b[0;32m     23\u001b[0m                 item_count[item] \u001b[39m=\u001b[39m \u001b[39m1\u001b[39m\n",
      "\u001b[1;31mAttributeError\u001b[0m: 'str' object has no attribute 'issubset'"
     ]
    }
   ],
   "source": [
    "generate_Lk_by_Ck(DATA_SET_FROZENSET,0.05)"
   ]
  },
  {
   "cell_type": "code",
   "execution_count": 10,
   "metadata": {},
   "outputs": [
    {
     "name": "stdout",
     "output_type": "stream",
     "text": [
      "True\n"
     ]
    }
   ],
   "source": [
    "x = {\"a\", \"b\", \"c\"}\n",
    "y = {\"f\", \"e\", \"d\", \"c\", \"b\", \"a\"}\n",
    " \n",
    "z = x.issubset(y) \n",
    " \n",
    "print(z)\n"
   ]
  },
  {
   "cell_type": "code",
   "execution_count": 8,
   "metadata": {},
   "outputs": [
    {
     "ename": "AttributeError",
     "evalue": "'str' object has no attribute 'issubset'",
     "output_type": "error",
     "traceback": [
      "\u001b[1;31m---------------------------------------------------------------------------\u001b[0m",
      "\u001b[1;31mAttributeError\u001b[0m                            Traceback (most recent call last)",
      "Cell \u001b[1;32mIn[8], line 4\u001b[0m\n\u001b[0;32m      2\u001b[0m \u001b[39mfor\u001b[39;00m t \u001b[39min\u001b[39;00m data_set:\n\u001b[0;32m      3\u001b[0m     \u001b[39mfor\u001b[39;00m item \u001b[39min\u001b[39;00m DATA_SET_FROZENSET:\n\u001b[1;32m----> 4\u001b[0m         \u001b[39mif\u001b[39;00m item\u001b[39m.\u001b[39;49missubset(t):\n\u001b[0;32m      5\u001b[0m             \u001b[39mif\u001b[39;00m item \u001b[39mnot\u001b[39;00m \u001b[39min\u001b[39;00m item_count:\n\u001b[0;32m      6\u001b[0m                 item_count[item] \u001b[39m=\u001b[39m \u001b[39m1\u001b[39m\n",
      "\u001b[1;31mAttributeError\u001b[0m: 'str' object has no attribute 'issubset'"
     ]
    }
   ],
   "source": [
    "item_count = {}\n",
    "for t in data_set:\n",
    "    for item in DATA_SET_FROZENSET:\n",
    "        if item.issubset(t):\n",
    "            if item not in item_count:\n",
    "                item_count[item] = 1\n",
    "            else:\n",
    "                item_count[item] += 1\n"
   ]
  },
  {
   "cell_type": "code",
   "execution_count": 12,
   "metadata": {},
   "outputs": [
    {
     "data": {
      "text/plain": [
       "{'a', 'b', 'c'}"
      ]
     },
     "execution_count": 12,
     "metadata": {},
     "output_type": "execute_result"
    }
   ],
   "source": [
    "#x & y"
   ]
  },
  {
   "cell_type": "code",
   "execution_count": 13,
   "metadata": {},
   "outputs": [
    {
     "ename": "",
     "evalue": "",
     "output_type": "error",
     "traceback": [
      "\u001b[1;31mThe Kernel crashed while executing code in the the current cell or a previous cell. Please review the code in the cell(s) to identify a possible cause of the failure. Click <a href='https://aka.ms/vscodeJupyterKernelCrash'>here</a> for more info. View Jupyter <a href='command:jupyter.viewOutput'>log</a> for further details."
     ]
    }
   ],
   "source": [
    "df = DATA_SET_FROZENSET.copy()\n"
   ]
  }
 ],
 "metadata": {
  "kernelspec": {
   "display_name": "Python 3.11.0 64-bit (microsoft store)",
   "language": "python",
   "name": "python3"
  },
  "language_info": {
   "codemirror_mode": {
    "name": "ipython",
    "version": 3
   },
   "file_extension": ".py",
   "mimetype": "text/x-python",
   "name": "python",
   "nbconvert_exporter": "python",
   "pygments_lexer": "ipython3",
   "version": "3.11.0"
  },
  "orig_nbformat": 4,
  "vscode": {
   "interpreter": {
    "hash": "36b4f0bb1171169ce7b652aa8b75d075435a7a681f2b1dabdf631d733aa34ed1"
   }
  }
 },
 "nbformat": 4,
 "nbformat_minor": 2
}
