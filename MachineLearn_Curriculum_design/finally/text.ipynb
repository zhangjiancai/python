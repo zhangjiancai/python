{
 "cells": [
  {
   "cell_type": "code",
   "execution_count": 1,
   "metadata": {},
   "outputs": [
    {
     "name": "stderr",
     "output_type": "stream",
     "text": [
      "[nltk_data] Downloading package averaged_perceptron_tagger to\n",
      "[nltk_data]     C:\\Users\\zjc20\\AppData\\Roaming\\nltk_data...\n",
      "[nltk_data]   Unzipping taggers\\averaged_perceptron_tagger.zip.\n",
      "[nltk_data] Downloading package punkt to\n",
      "[nltk_data]     C:\\Users\\zjc20\\AppData\\Roaming\\nltk_data...\n",
      "[nltk_data]   Unzipping tokenizers\\punkt.zip.\n",
      "[nltk_data] Downloading package brown to\n",
      "[nltk_data]     C:\\Users\\zjc20\\AppData\\Roaming\\nltk_data...\n",
      "[nltk_data]   Unzipping corpora\\brown.zip.\n",
      "[nltk_data] Downloading package wordnet to\n",
      "[nltk_data]     C:\\Users\\zjc20\\AppData\\Roaming\\nltk_data...\n",
      "[nltk_data]   Package wordnet is already up-to-date!\n"
     ]
    },
    {
     "data": {
      "text/plain": [
       "True"
      ]
     },
     "execution_count": 1,
     "metadata": {},
     "output_type": "execute_result"
    }
   ],
   "source": [
    "import nltk\n",
    "nltk.download('averaged_perceptron_tagger')\n",
    "nltk.download('punkt')\n",
    "nltk.download('brown')\n",
    "nltk.download('wordnet')"
   ]
  },
  {
   "cell_type": "code",
   "execution_count": 2,
   "metadata": {},
   "outputs": [],
   "source": [
    "# coding:utf-8\n",
    "from textblob import TextBlob\n",
    " \n",
    "text = 'I love natural language processing! i do not like you'\n",
    "blob = TextBlob(text)"
   ]
  },
  {
   "cell_type": "code",
   "execution_count": 3,
   "metadata": {},
   "outputs": [
    {
     "name": "stdout",
     "output_type": "stream",
     "text": [
      "词性标注\n",
      "[('I', 'PRP'), ('love', 'VBP'), ('natural', 'JJ'), ('language', 'NN'), ('processing', 'NN'), ('i', 'NNS'), ('do', 'VBP'), ('not', 'RB'), ('like', 'IN'), ('you', 'PRP')]\n"
     ]
    }
   ],
   "source": [
    "print('词性标注')\n",
    "print(blob.tags)"
   ]
  },
  {
   "cell_type": "code",
   "execution_count": 4,
   "metadata": {},
   "outputs": [
    {
     "name": "stdout",
     "output_type": "stream",
     "text": [
      "稀疏矩阵特征值\n",
      "   (0, 5)\t1\n",
      "  (0, 4)\t1\n",
      "  (0, 7)\t1\n",
      "  (0, 6)\t2\n",
      "  (0, 2)\t1\n",
      "  (0, 0)\t1\n",
      "  (1, 5)\t1\n",
      "  (1, 4)\t1\n",
      "  (1, 7)\t1\n",
      "  (1, 2)\t1\n",
      "  (1, 3)\t2\n",
      "  (1, 1)\t1\n",
      "二维矩阵特征值：\n",
      " [[1 0 1 0 1 1 2 1]\n",
      " [0 1 1 2 1 1 0 1]]\n"
     ]
    }
   ],
   "source": [
    "# 文本特征提取\n",
    "from sklearn.feature_extraction.text import CountVectorizer\n",
    " \n",
    "# 数据集\n",
    "data = ['life is short, i like like AI 123', 'life is short, i dislike dislike AI 321']\n",
    " \n",
    " \n",
    "# 提取特征值，转化为稀疏矩阵\n",
    "def Count_Sparse():\n",
    "    # 1、实例化转换器类\n",
    "    transfer = CountVectorizer()\n",
    " \n",
    "    # 2、提取特征值\n",
    "    feature_data = transfer.fit_transform(data)\n",
    " \n",
    "    print('稀疏矩阵特征值\\n', feature_data)\n",
    "   # print('特征名字：', transfer.get_feature_names())\n",
    " \n",
    " \n",
    "# 提取特征值，转化为二维矩阵\n",
    "def Count_Matrix():\n",
    "    # 1、实例化转换器类\n",
    "    transfer = CountVectorizer()\n",
    " \n",
    "    # 2、提取特征值\n",
    "    feature_data = transfer.fit_transform(data)\n",
    " \n",
    "    print('二维矩阵特征值：\\n', feature_data.toarray())\n",
    "  #  print('特征名字：', transfer.get_feature_names())\n",
    " \n",
    " \n",
    "if __name__ == '__main__':\n",
    "    Count_Sparse()        #稀疏矩阵（特征值）\n",
    "    Count_Matrix()        #二维矩阵（特征值）"
   ]
  }
 ],
 "metadata": {
  "kernelspec": {
   "display_name": "Python 3",
   "language": "python",
   "name": "python3"
  },
  "language_info": {
   "codemirror_mode": {
    "name": "ipython",
    "version": 3
   },
   "file_extension": ".py",
   "mimetype": "text/x-python",
   "name": "python",
   "nbconvert_exporter": "python",
   "pygments_lexer": "ipython3",
   "version": "3.11.1"
  },
  "orig_nbformat": 4,
  "vscode": {
   "interpreter": {
    "hash": "36b4f0bb1171169ce7b652aa8b75d075435a7a681f2b1dabdf631d733aa34ed1"
   }
  }
 },
 "nbformat": 4,
 "nbformat_minor": 2
}
