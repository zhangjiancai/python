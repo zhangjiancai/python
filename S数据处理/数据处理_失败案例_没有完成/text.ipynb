{
 "cells": [
  {
   "cell_type": "code",
   "execution_count": null,
   "metadata": {},
   "outputs": [],
   "source": [
    "import pandas as pd"
   ]
  },
  {
   "cell_type": "code",
   "execution_count": null,
   "metadata": {},
   "outputs": [],
   "source": [
    "df = pd.read_csv('labvalue_final.csv')"
   ]
  },
  {
   "cell_type": "code",
   "execution_count": null,
   "metadata": {},
   "outputs": [],
   "source": [
    "groups = df.groupby('subject_id')"
   ]
  },
  {
   "cell_type": "code",
   "execution_count": null,
   "metadata": {},
   "outputs": [],
   "source": [
    "groups_item = df.groupby('itemid')"
   ]
  },
  {
   "cell_type": "code",
   "execution_count": null,
   "metadata": {},
   "outputs": [],
   "source": [
    "for name, group in groups:\n",
    "    # 遍历组内每一行\n",
    "    for index, row in group.iterrows():\n",
    "        # 取出当前行的值\n",
    "        current_value = row['hadm_id']\n",
    "        # 取出组内第一行的值\n",
    "        first_value = group.iloc[0]['hadm_id']\n",
    "        if(current_value != first_value):\n",
    "            #如果不等于，那么我们要将其保留并取出另一列的值\n",
    "            for \n",
    "        else:\n",
    "            df[]\n"
   ]
  },
  {
   "cell_type": "code",
   "execution_count": null,
   "metadata": {},
   "outputs": [],
   "source": [
    "def checkingroup(group,cow_name):\n",
    "    if len(group) > 1 :\n",
    "        for index ,row in group.iterrows():\n",
    "            first_row = group.nth[1:]['cow_name']"
   ]
  },
  {
   "cell_type": "code",
   "execution_count": null,
   "metadata": {},
   "outputs": [],
   "source": [
    "df_privot = df.pivot(columns='itemid',values='valuenum')"
   ]
  },
  {
   "cell_type": "code",
   "execution_count": 40,
   "metadata": {},
   "outputs": [],
   "source": [
    "def ab (df):\n",
    "    return df.values\n",
    "\n",
    "df_final = df.groupby(['subject_id','hadm_id'])['itemid'].apply(ab)\n",
    "#df_final=df.reset_index()\n"
   ]
  },
  {
   "cell_type": "code",
   "execution_count": null,
   "metadata": {},
   "outputs": [],
   "source": [
    "df_join=df.join(df_privot,how='inner')"
   ]
  },
  {
   "cell_type": "code",
   "execution_count": 42,
   "metadata": {},
   "outputs": [
    {
     "ename": "TypeError",
     "evalue": "Series.name must be a hashable type",
     "output_type": "error",
     "traceback": [
      "\u001b[1;31m---------------------------------------------------------------------------\u001b[0m",
      "\u001b[1;31mTypeError\u001b[0m                                 Traceback (most recent call last)",
      "File \u001b[1;32m~\\AppData\\Local\\Packages\\PythonSoftwareFoundation.Python.3.11_qbz5n2kfra8p0\\LocalCache\\local-packages\\Python311\\site-packages\\pandas\\core\\groupby\\groupby.py:1549\u001b[0m, in \u001b[0;36mGroupBy.apply\u001b[1;34m(self, func, *args, **kwargs)\u001b[0m\n\u001b[0;32m   1548\u001b[0m \u001b[39mtry\u001b[39;00m:\n\u001b[1;32m-> 1549\u001b[0m     result \u001b[39m=\u001b[39m \u001b[39mself\u001b[39;49m\u001b[39m.\u001b[39;49m_python_apply_general(f, \u001b[39mself\u001b[39;49m\u001b[39m.\u001b[39;49m_selected_obj)\n\u001b[0;32m   1550\u001b[0m \u001b[39mexcept\u001b[39;00m \u001b[39mTypeError\u001b[39;00m:\n\u001b[0;32m   1551\u001b[0m     \u001b[39m# gh-20949\u001b[39;00m\n\u001b[0;32m   1552\u001b[0m     \u001b[39m# try again, with .apply acting as a filtering\u001b[39;00m\n\u001b[1;32m   (...)\u001b[0m\n\u001b[0;32m   1556\u001b[0m     \u001b[39m# fails on *some* columns, e.g. a numeric operation\u001b[39;00m\n\u001b[0;32m   1557\u001b[0m     \u001b[39m# on a string grouper column\u001b[39;00m\n",
      "File \u001b[1;32m~\\AppData\\Local\\Packages\\PythonSoftwareFoundation.Python.3.11_qbz5n2kfra8p0\\LocalCache\\local-packages\\Python311\\site-packages\\pandas\\core\\groupby\\groupby.py:1630\u001b[0m, in \u001b[0;36mGroupBy._python_apply_general\u001b[1;34m(self, f, data, not_indexed_same, is_transform, is_agg)\u001b[0m\n\u001b[0;32m   1628\u001b[0m     override_group_keys \u001b[39m=\u001b[39m \u001b[39mTrue\u001b[39;00m\n\u001b[1;32m-> 1630\u001b[0m \u001b[39mreturn\u001b[39;00m \u001b[39mself\u001b[39;49m\u001b[39m.\u001b[39;49m_wrap_applied_output(\n\u001b[0;32m   1631\u001b[0m     data,\n\u001b[0;32m   1632\u001b[0m     values,\n\u001b[0;32m   1633\u001b[0m     not_indexed_same,\n\u001b[0;32m   1634\u001b[0m     override_group_keys\u001b[39m=\u001b[39;49mis_transform \u001b[39mor\u001b[39;49;00m override_group_keys,\n\u001b[0;32m   1635\u001b[0m )\n",
      "File \u001b[1;32m~\\AppData\\Local\\Packages\\PythonSoftwareFoundation.Python.3.11_qbz5n2kfra8p0\\LocalCache\\local-packages\\Python311\\site-packages\\pandas\\core\\groupby\\generic.py:1049\u001b[0m, in \u001b[0;36mDataFrameGroupBy._wrap_applied_output\u001b[1;34m(self, data, values, not_indexed_same, override_group_keys)\u001b[0m\n\u001b[0;32m   1044\u001b[0m \u001b[39mif\u001b[39;00m \u001b[39misinstance\u001b[39m(first_not_none, (np\u001b[39m.\u001b[39mndarray, Index)):\n\u001b[0;32m   1045\u001b[0m     \u001b[39m# GH#1738: values is list of arrays of unequal lengths\u001b[39;00m\n\u001b[0;32m   1046\u001b[0m     \u001b[39m#  fall through to the outer else clause\u001b[39;00m\n\u001b[0;32m   1047\u001b[0m     \u001b[39m# TODO: sure this is right?  we used to do this\u001b[39;00m\n\u001b[0;32m   1048\u001b[0m     \u001b[39m#  after raising AttributeError above\u001b[39;00m\n\u001b[1;32m-> 1049\u001b[0m     \u001b[39mreturn\u001b[39;00m \u001b[39mself\u001b[39;49m\u001b[39m.\u001b[39;49mobj\u001b[39m.\u001b[39;49m_constructor_sliced(\n\u001b[0;32m   1050\u001b[0m         values, index\u001b[39m=\u001b[39;49mkey_index, name\u001b[39m=\u001b[39;49m\u001b[39mself\u001b[39;49m\u001b[39m.\u001b[39;49m_selection\n\u001b[0;32m   1051\u001b[0m     )\n\u001b[0;32m   1052\u001b[0m \u001b[39melif\u001b[39;00m \u001b[39mnot\u001b[39;00m \u001b[39misinstance\u001b[39m(first_not_none, Series):\n\u001b[0;32m   1053\u001b[0m     \u001b[39m# values are not series or array-like but scalars\u001b[39;00m\n\u001b[0;32m   1054\u001b[0m     \u001b[39m# self._selection not passed through to Series as the\u001b[39;00m\n\u001b[0;32m   1055\u001b[0m     \u001b[39m# result should not take the name of original selection\u001b[39;00m\n\u001b[0;32m   1056\u001b[0m     \u001b[39m# of columns\u001b[39;00m\n",
      "File \u001b[1;32m~\\AppData\\Local\\Packages\\PythonSoftwareFoundation.Python.3.11_qbz5n2kfra8p0\\LocalCache\\local-packages\\Python311\\site-packages\\pandas\\core\\series.py:384\u001b[0m, in \u001b[0;36mSeries.__init__\u001b[1;34m(self, data, index, dtype, name, copy, fastpath)\u001b[0m\n\u001b[0;32m    382\u001b[0m \u001b[39melse\u001b[39;00m:\n\u001b[1;32m--> 384\u001b[0m     name \u001b[39m=\u001b[39m ibase\u001b[39m.\u001b[39;49mmaybe_extract_name(name, data, \u001b[39mtype\u001b[39;49m(\u001b[39mself\u001b[39;49m))\n\u001b[0;32m    386\u001b[0m     \u001b[39mif\u001b[39;00m is_empty_data(data) \u001b[39mand\u001b[39;00m dtype \u001b[39mis\u001b[39;00m \u001b[39mNone\u001b[39;00m:\n\u001b[0;32m    387\u001b[0m         \u001b[39m# gh-17261\u001b[39;00m\n",
      "File \u001b[1;32m~\\AppData\\Local\\Packages\\PythonSoftwareFoundation.Python.3.11_qbz5n2kfra8p0\\LocalCache\\local-packages\\Python311\\site-packages\\pandas\\core\\indexes\\base.py:7426\u001b[0m, in \u001b[0;36mmaybe_extract_name\u001b[1;34m(name, obj, cls)\u001b[0m\n\u001b[0;32m   7425\u001b[0m \u001b[39mif\u001b[39;00m \u001b[39mnot\u001b[39;00m is_hashable(name):\n\u001b[1;32m-> 7426\u001b[0m     \u001b[39mraise\u001b[39;00m \u001b[39mTypeError\u001b[39;00m(\u001b[39mf\u001b[39m\u001b[39m\"\u001b[39m\u001b[39m{\u001b[39;00m\u001b[39mcls\u001b[39m\u001b[39m.\u001b[39m\u001b[39m__name__\u001b[39m\u001b[39m}\u001b[39;00m\u001b[39m.name must be a hashable type\u001b[39m\u001b[39m\"\u001b[39m)\n\u001b[0;32m   7428\u001b[0m \u001b[39mreturn\u001b[39;00m name\n",
      "\u001b[1;31mTypeError\u001b[0m: Series.name must be a hashable type",
      "\nDuring handling of the above exception, another exception occurred:\n",
      "\u001b[1;31mTypeError\u001b[0m                                 Traceback (most recent call last)",
      "Cell \u001b[1;32mIn[42], line 60\u001b[0m\n\u001b[0;32m      1\u001b[0m \u001b[39mdef\u001b[39;00m \u001b[39mab\u001b[39m (df):\n\u001b[0;32m      2\u001b[0m     \u001b[39mreturn\u001b[39;00m df\u001b[39m.\u001b[39mvalues\n\u001b[0;32m      4\u001b[0m df_final_f \u001b[39m=\u001b[39m df_join\u001b[39m.\u001b[39;49mgroupby([\u001b[39m'\u001b[39;49m\u001b[39msubject_id\u001b[39;49m\u001b[39m'\u001b[39;49m,\u001b[39m'\u001b[39;49m\u001b[39mhadm_id\u001b[39;49m\u001b[39m'\u001b[39;49m])[[\u001b[39m'\u001b[39;49m\u001b[39mcharttime\u001b[39;49m\u001b[39m'\u001b[39;49m,\n\u001b[0;32m      5\u001b[0m  \u001b[39m'\u001b[39;49m\u001b[39mstoretime\u001b[39;49m\u001b[39m'\u001b[39;49m,\n\u001b[0;32m      6\u001b[0m  \u001b[39m'\u001b[39;49m\u001b[39mitemid\u001b[39;49m\u001b[39m'\u001b[39;49m,\n\u001b[0;32m      7\u001b[0m  \u001b[39m'\u001b[39;49m\u001b[39mvaluenum\u001b[39;49m\u001b[39m'\u001b[39;49m,\n\u001b[0;32m      8\u001b[0m  \u001b[39m'\u001b[39;49m\u001b[39mvalueuom\u001b[39;49m\u001b[39m'\u001b[39;49m,\n\u001b[0;32m      9\u001b[0m  \u001b[39m'\u001b[39;49m\u001b[39mref_range_lower\u001b[39;49m\u001b[39m'\u001b[39;49m,\n\u001b[0;32m     10\u001b[0m  \u001b[39m'\u001b[39;49m\u001b[39mref_range_upper\u001b[39;49m\u001b[39m'\u001b[39;49m,\n\u001b[0;32m     11\u001b[0m  \u001b[39m'\u001b[39;49m\u001b[39mwhite_blood_cells\u001b[39;49m\u001b[39m'\u001b[39;49m,\n\u001b[0;32m     12\u001b[0m  \u001b[39m'\u001b[39;49m\u001b[39mred_blood_cells\u001b[39;49m\u001b[39m'\u001b[39;49m,\n\u001b[0;32m     13\u001b[0m  \u001b[39m'\u001b[39;49m\u001b[39mrdw\u001b[39;49m\u001b[39m'\u001b[39;49m,\n\u001b[0;32m     14\u001b[0m  \u001b[39m'\u001b[39;49m\u001b[39mhemoglobin\u001b[39;49m\u001b[39m'\u001b[39;49m,\n\u001b[0;32m     15\u001b[0m  \u001b[39m'\u001b[39;49m\u001b[39mhematocrit\u001b[39;49m\u001b[39m'\u001b[39;49m,\n\u001b[0;32m     16\u001b[0m  \u001b[39m'\u001b[39;49m\u001b[39mplatelet_count\u001b[39;49m\u001b[39m'\u001b[39;49m,\n\u001b[0;32m     17\u001b[0m  \u001b[39m'\u001b[39;49m\u001b[39mheart_rate\u001b[39;49m\u001b[39m'\u001b[39;49m,\n\u001b[0;32m     18\u001b[0m  \u001b[39m'\u001b[39;49m\u001b[39minr\u001b[39;49m\u001b[39m'\u001b[39;49m,\n\u001b[0;32m     19\u001b[0m  \u001b[39m'\u001b[39;49m\u001b[39murea_nitrogen\u001b[39;49m\u001b[39m'\u001b[39;49m,\n\u001b[0;32m     20\u001b[0m  \u001b[39m'\u001b[39;49m\u001b[39mcreatinine\u001b[39;49m\u001b[39m'\u001b[39;49m,\n\u001b[0;32m     21\u001b[0m  \u001b[39m'\u001b[39;49m\u001b[39mglucose\u001b[39;49m\u001b[39m'\u001b[39;49m,\n\u001b[0;32m     22\u001b[0m  \u001b[39m'\u001b[39;49m\u001b[39mpotassium\u001b[39;49m\u001b[39m'\u001b[39;49m,\n\u001b[0;32m     23\u001b[0m  \u001b[39m'\u001b[39;49m\u001b[39msodium\u001b[39;49m\u001b[39m'\u001b[39;49m,\n\u001b[0;32m     24\u001b[0m  \u001b[39m'\u001b[39;49m\u001b[39mchloride\u001b[39;49m\u001b[39m'\u001b[39;49m,\n\u001b[0;32m     25\u001b[0m  \u001b[39m'\u001b[39;49m\u001b[39mmagnesium\u001b[39;49m\u001b[39m'\u001b[39;49m,\n\u001b[0;32m     26\u001b[0m  \u001b[39m'\u001b[39;49m\u001b[39mcalcium\u001b[39;49m\u001b[39m'\u001b[39;49m,\n\u001b[0;32m     27\u001b[0m  \u001b[39m'\u001b[39;49m\u001b[39mbasophils_abs\u001b[39;49m\u001b[39m'\u001b[39;49m,\n\u001b[0;32m     28\u001b[0m  \u001b[39m'\u001b[39;49m\u001b[39meosinophils_abs\u001b[39;49m\u001b[39m'\u001b[39;49m,\n\u001b[0;32m     29\u001b[0m  \u001b[39m'\u001b[39;49m\u001b[39mlymphocytes_abs\u001b[39;49m\u001b[39m'\u001b[39;49m,\n\u001b[0;32m     30\u001b[0m  \u001b[39m'\u001b[39;49m\u001b[39mmonocytes_abs\u001b[39;49m\u001b[39m'\u001b[39;49m,\n\u001b[0;32m     31\u001b[0m  \u001b[39m'\u001b[39;49m\u001b[39mbasophils\u001b[39;49m\u001b[39m'\u001b[39;49m,\n\u001b[0;32m     32\u001b[0m  \u001b[39m'\u001b[39;49m\u001b[39meosinophils\u001b[39;49m\u001b[39m'\u001b[39;49m,\n\u001b[0;32m     33\u001b[0m  \u001b[39m'\u001b[39;49m\u001b[39mlymphocytes\u001b[39;49m\u001b[39m'\u001b[39;49m,\n\u001b[0;32m     34\u001b[0m  \u001b[39m'\u001b[39;49m\u001b[39mmonocytes\u001b[39;49m\u001b[39m'\u001b[39;49m,\n\u001b[0;32m     35\u001b[0m  \u001b[39m'\u001b[39;49m\u001b[39mc_reactive_protein\u001b[39;49m\u001b[39m'\u001b[39;49m,\n\u001b[0;32m     36\u001b[0m  \u001b[39m50806\u001b[39;49m,\n\u001b[0;32m     37\u001b[0m  \u001b[39m50809\u001b[39;49m,\n\u001b[0;32m     38\u001b[0m  \u001b[39m50811\u001b[39;49m,\n\u001b[0;32m     39\u001b[0m  \u001b[39m50822\u001b[39;49m,\n\u001b[0;32m     40\u001b[0m  \u001b[39m50824\u001b[39;49m,\n\u001b[0;32m     41\u001b[0m  \u001b[39m50889\u001b[39;49m,\n\u001b[0;32m     42\u001b[0m  \u001b[39m50893\u001b[39;49m,\n\u001b[0;32m     43\u001b[0m  \u001b[39m50912\u001b[39;49m,\n\u001b[0;32m     44\u001b[0m  \u001b[39m50960\u001b[39;49m,\n\u001b[0;32m     45\u001b[0m  \u001b[39m51006\u001b[39;49m,\n\u001b[0;32m     46\u001b[0m  \u001b[39m51133\u001b[39;49m,\n\u001b[0;32m     47\u001b[0m  \u001b[39m51146\u001b[39;49m,\n\u001b[0;32m     48\u001b[0m  \u001b[39m51200\u001b[39;49m,\n\u001b[0;32m     49\u001b[0m  \u001b[39m51221\u001b[39;49m,\n\u001b[0;32m     50\u001b[0m  \u001b[39m51237\u001b[39;49m,\n\u001b[0;32m     51\u001b[0m  \u001b[39m51244\u001b[39;49m,\n\u001b[0;32m     52\u001b[0m  \u001b[39m51245\u001b[39;49m,\n\u001b[0;32m     53\u001b[0m  \u001b[39m51254\u001b[39;49m,\n\u001b[0;32m     54\u001b[0m  \u001b[39m51265\u001b[39;49m,\n\u001b[0;32m     55\u001b[0m  \u001b[39m51277\u001b[39;49m,\n\u001b[0;32m     56\u001b[0m  \u001b[39m51279\u001b[39;49m,\n\u001b[0;32m     57\u001b[0m  \u001b[39m52069\u001b[39;49m,\n\u001b[0;32m     58\u001b[0m  \u001b[39m52073\u001b[39;49m,\n\u001b[0;32m     59\u001b[0m  \u001b[39m52074\u001b[39;49m,\n\u001b[1;32m---> 60\u001b[0m  \u001b[39m52769\u001b[39;49m]]\u001b[39m.\u001b[39;49mapply(ab)\n",
      "File \u001b[1;32m~\\AppData\\Local\\Packages\\PythonSoftwareFoundation.Python.3.11_qbz5n2kfra8p0\\LocalCache\\local-packages\\Python311\\site-packages\\pandas\\core\\groupby\\groupby.py:1560\u001b[0m, in \u001b[0;36mGroupBy.apply\u001b[1;34m(self, func, *args, **kwargs)\u001b[0m\n\u001b[0;32m   1550\u001b[0m     \u001b[39mexcept\u001b[39;00m \u001b[39mTypeError\u001b[39;00m:\n\u001b[0;32m   1551\u001b[0m         \u001b[39m# gh-20949\u001b[39;00m\n\u001b[0;32m   1552\u001b[0m         \u001b[39m# try again, with .apply acting as a filtering\u001b[39;00m\n\u001b[1;32m   (...)\u001b[0m\n\u001b[0;32m   1556\u001b[0m         \u001b[39m# fails on *some* columns, e.g. a numeric operation\u001b[39;00m\n\u001b[0;32m   1557\u001b[0m         \u001b[39m# on a string grouper column\u001b[39;00m\n\u001b[0;32m   1559\u001b[0m         \u001b[39mwith\u001b[39;00m \u001b[39mself\u001b[39m\u001b[39m.\u001b[39m_group_selection_context():\n\u001b[1;32m-> 1560\u001b[0m             \u001b[39mreturn\u001b[39;00m \u001b[39mself\u001b[39;49m\u001b[39m.\u001b[39;49m_python_apply_general(f, \u001b[39mself\u001b[39;49m\u001b[39m.\u001b[39;49m_selected_obj)\n\u001b[0;32m   1562\u001b[0m \u001b[39mreturn\u001b[39;00m result\n",
      "File \u001b[1;32m~\\AppData\\Local\\Packages\\PythonSoftwareFoundation.Python.3.11_qbz5n2kfra8p0\\LocalCache\\local-packages\\Python311\\site-packages\\pandas\\core\\groupby\\groupby.py:1630\u001b[0m, in \u001b[0;36mGroupBy._python_apply_general\u001b[1;34m(self, f, data, not_indexed_same, is_transform, is_agg)\u001b[0m\n\u001b[0;32m   1623\u001b[0m     \u001b[39m# We want to behave as if `self.group_keys=False` when reconstructing\u001b[39;00m\n\u001b[0;32m   1624\u001b[0m     \u001b[39m# the object. However, we don't want to mutate the stateful GroupBy\u001b[39;00m\n\u001b[0;32m   1625\u001b[0m     \u001b[39m# object, so we just override it.\u001b[39;00m\n\u001b[0;32m   1626\u001b[0m     \u001b[39m# When this deprecation is enforced then override_group_keys\u001b[39;00m\n\u001b[0;32m   1627\u001b[0m     \u001b[39m# may be removed.\u001b[39;00m\n\u001b[0;32m   1628\u001b[0m     override_group_keys \u001b[39m=\u001b[39m \u001b[39mTrue\u001b[39;00m\n\u001b[1;32m-> 1630\u001b[0m \u001b[39mreturn\u001b[39;00m \u001b[39mself\u001b[39;49m\u001b[39m.\u001b[39;49m_wrap_applied_output(\n\u001b[0;32m   1631\u001b[0m     data,\n\u001b[0;32m   1632\u001b[0m     values,\n\u001b[0;32m   1633\u001b[0m     not_indexed_same,\n\u001b[0;32m   1634\u001b[0m     override_group_keys\u001b[39m=\u001b[39;49mis_transform \u001b[39mor\u001b[39;49;00m override_group_keys,\n\u001b[0;32m   1635\u001b[0m )\n",
      "File \u001b[1;32m~\\AppData\\Local\\Packages\\PythonSoftwareFoundation.Python.3.11_qbz5n2kfra8p0\\LocalCache\\local-packages\\Python311\\site-packages\\pandas\\core\\groupby\\generic.py:1049\u001b[0m, in \u001b[0;36mDataFrameGroupBy._wrap_applied_output\u001b[1;34m(self, data, values, not_indexed_same, override_group_keys)\u001b[0m\n\u001b[0;32m   1042\u001b[0m key_index \u001b[39m=\u001b[39m \u001b[39mself\u001b[39m\u001b[39m.\u001b[39mgrouper\u001b[39m.\u001b[39mresult_index \u001b[39mif\u001b[39;00m \u001b[39mself\u001b[39m\u001b[39m.\u001b[39mas_index \u001b[39melse\u001b[39;00m \u001b[39mNone\u001b[39;00m\n\u001b[0;32m   1044\u001b[0m \u001b[39mif\u001b[39;00m \u001b[39misinstance\u001b[39m(first_not_none, (np\u001b[39m.\u001b[39mndarray, Index)):\n\u001b[0;32m   1045\u001b[0m     \u001b[39m# GH#1738: values is list of arrays of unequal lengths\u001b[39;00m\n\u001b[0;32m   1046\u001b[0m     \u001b[39m#  fall through to the outer else clause\u001b[39;00m\n\u001b[0;32m   1047\u001b[0m     \u001b[39m# TODO: sure this is right?  we used to do this\u001b[39;00m\n\u001b[0;32m   1048\u001b[0m     \u001b[39m#  after raising AttributeError above\u001b[39;00m\n\u001b[1;32m-> 1049\u001b[0m     \u001b[39mreturn\u001b[39;00m \u001b[39mself\u001b[39;49m\u001b[39m.\u001b[39;49mobj\u001b[39m.\u001b[39;49m_constructor_sliced(\n\u001b[0;32m   1050\u001b[0m         values, index\u001b[39m=\u001b[39;49mkey_index, name\u001b[39m=\u001b[39;49m\u001b[39mself\u001b[39;49m\u001b[39m.\u001b[39;49m_selection\n\u001b[0;32m   1051\u001b[0m     )\n\u001b[0;32m   1052\u001b[0m \u001b[39melif\u001b[39;00m \u001b[39mnot\u001b[39;00m \u001b[39misinstance\u001b[39m(first_not_none, Series):\n\u001b[0;32m   1053\u001b[0m     \u001b[39m# values are not series or array-like but scalars\u001b[39;00m\n\u001b[0;32m   1054\u001b[0m     \u001b[39m# self._selection not passed through to Series as the\u001b[39;00m\n\u001b[0;32m   1055\u001b[0m     \u001b[39m# result should not take the name of original selection\u001b[39;00m\n\u001b[0;32m   1056\u001b[0m     \u001b[39m# of columns\u001b[39;00m\n\u001b[0;32m   1057\u001b[0m     \u001b[39mif\u001b[39;00m \u001b[39mself\u001b[39m\u001b[39m.\u001b[39mas_index:\n",
      "File \u001b[1;32m~\\AppData\\Local\\Packages\\PythonSoftwareFoundation.Python.3.11_qbz5n2kfra8p0\\LocalCache\\local-packages\\Python311\\site-packages\\pandas\\core\\series.py:384\u001b[0m, in \u001b[0;36mSeries.__init__\u001b[1;34m(self, data, index, dtype, name, copy, fastpath)\u001b[0m\n\u001b[0;32m    380\u001b[0m         index \u001b[39m=\u001b[39m data\u001b[39m.\u001b[39mindex\n\u001b[0;32m    382\u001b[0m \u001b[39melse\u001b[39;00m:\n\u001b[1;32m--> 384\u001b[0m     name \u001b[39m=\u001b[39m ibase\u001b[39m.\u001b[39;49mmaybe_extract_name(name, data, \u001b[39mtype\u001b[39;49m(\u001b[39mself\u001b[39;49m))\n\u001b[0;32m    386\u001b[0m     \u001b[39mif\u001b[39;00m is_empty_data(data) \u001b[39mand\u001b[39;00m dtype \u001b[39mis\u001b[39;00m \u001b[39mNone\u001b[39;00m:\n\u001b[0;32m    387\u001b[0m         \u001b[39m# gh-17261\u001b[39;00m\n\u001b[0;32m    388\u001b[0m         warnings\u001b[39m.\u001b[39mwarn(\n\u001b[0;32m    389\u001b[0m             \u001b[39m\"\u001b[39m\u001b[39mThe default dtype for empty Series will be \u001b[39m\u001b[39m'\u001b[39m\u001b[39mobject\u001b[39m\u001b[39m'\u001b[39m\u001b[39m instead \u001b[39m\u001b[39m\"\u001b[39m\n\u001b[0;32m    390\u001b[0m             \u001b[39m\"\u001b[39m\u001b[39mof \u001b[39m\u001b[39m'\u001b[39m\u001b[39mfloat64\u001b[39m\u001b[39m'\u001b[39m\u001b[39m in a future version. Specify a dtype explicitly \u001b[39m\u001b[39m\"\u001b[39m\n\u001b[1;32m   (...)\u001b[0m\n\u001b[0;32m    393\u001b[0m             stacklevel\u001b[39m=\u001b[39mfind_stack_level(),\n\u001b[0;32m    394\u001b[0m         )\n",
      "File \u001b[1;32m~\\AppData\\Local\\Packages\\PythonSoftwareFoundation.Python.3.11_qbz5n2kfra8p0\\LocalCache\\local-packages\\Python311\\site-packages\\pandas\\core\\indexes\\base.py:7426\u001b[0m, in \u001b[0;36mmaybe_extract_name\u001b[1;34m(name, obj, cls)\u001b[0m\n\u001b[0;32m   7424\u001b[0m \u001b[39m# GH#29069\u001b[39;00m\n\u001b[0;32m   7425\u001b[0m \u001b[39mif\u001b[39;00m \u001b[39mnot\u001b[39;00m is_hashable(name):\n\u001b[1;32m-> 7426\u001b[0m     \u001b[39mraise\u001b[39;00m \u001b[39mTypeError\u001b[39;00m(\u001b[39mf\u001b[39m\u001b[39m\"\u001b[39m\u001b[39m{\u001b[39;00m\u001b[39mcls\u001b[39m\u001b[39m.\u001b[39m\u001b[39m__name__\u001b[39m\u001b[39m}\u001b[39;00m\u001b[39m.name must be a hashable type\u001b[39m\u001b[39m\"\u001b[39m)\n\u001b[0;32m   7428\u001b[0m \u001b[39mreturn\u001b[39;00m name\n",
      "\u001b[1;31mTypeError\u001b[0m: Series.name must be a hashable type"
     ]
    }
   ],
   "source": [
    "def ab (df):\n",
    "    results = []\n",
    "    for \n",
    "    return df.values\n",
    "\n",
    "df_final_f = df_join.groupby(['subject_id','hadm_id'])[['charttime',\n",
    " 'storetime',\n",
    " 'itemid',\n",
    " 'valuenum',\n",
    " 'valueuom',\n",
    " 'ref_range_lower',\n",
    " 'ref_range_upper',\n",
    " 'white_blood_cells',\n",
    " 'red_blood_cells',\n",
    " 'rdw',\n",
    " 'hemoglobin',\n",
    " 'hematocrit',\n",
    " 'platelet_count',\n",
    " 'heart_rate',\n",
    " 'inr',\n",
    " 'urea_nitrogen',\n",
    " 'creatinine',\n",
    " 'glucose',\n",
    " 'potassium',\n",
    " 'sodium',\n",
    " 'chloride',\n",
    " 'magnesium',\n",
    " 'calcium',\n",
    " 'basophils_abs',\n",
    " 'eosinophils_abs',\n",
    " 'lymphocytes_abs',\n",
    " 'monocytes_abs',\n",
    " 'basophils',\n",
    " 'eosinophils',\n",
    " 'lymphocytes',\n",
    " 'monocytes',\n",
    " 'c_reactive_protein',\n",
    " 50806,\n",
    " 50809,\n",
    " 50811,\n",
    " 50822,\n",
    " 50824,\n",
    " 50889,\n",
    " 50893,\n",
    " 50912,\n",
    " 50960,\n",
    " 51006,\n",
    " 51133,\n",
    " 51146,\n",
    " 51200,\n",
    " 51221,\n",
    " 51237,\n",
    " 51244,\n",
    " 51245,\n",
    " 51254,\n",
    " 51265,\n",
    " 51277,\n",
    " 51279,\n",
    " 52069,\n",
    " 52073,\n",
    " 52074,\n",
    " 52769]].apply(ab)"
   ]
  },
  {
   "cell_type": "code",
   "execution_count": null,
   "metadata": {},
   "outputs": [],
   "source": [
    "df_final_f = df_join.groupby(['subject_id'])[50806,50809,50811,50822,50824, 50889, 50893,50912, 50960, 51006, 51133, 51146, 51200, 51221, 51237, 51244, 51245, 51254, 51265, 51277,51279, 52069, 52073, 52074, 52769].apply(ab)"
   ]
  },
  {
   "cell_type": "code",
   "execution_count": null,
   "metadata": {},
   "outputs": [],
   "source": [
    "df_final_f = df_join.groupby(['subject_id'])['50806','50809','50811','50822','50824', '50889', '50893','50912', '50960', '51006', '51133', '51146', '51200', '51221', '51237', '51244', '51245', '51254', '51265', '51277','51279', '52069', '52073', '52074', '52769']"
   ]
  },
  {
   "cell_type": "code",
   "execution_count": 41,
   "metadata": {},
   "outputs": [
    {
     "data": {
      "text/plain": [
       "['subject_id',\n",
       " 'hadm_id',\n",
       " 'charttime',\n",
       " 'storetime',\n",
       " 'itemid',\n",
       " 'valuenum',\n",
       " 'valueuom',\n",
       " 'ref_range_lower',\n",
       " 'ref_range_upper',\n",
       " 'white_blood_cells',\n",
       " 'red_blood_cells',\n",
       " 'rdw',\n",
       " 'hemoglobin',\n",
       " 'hematocrit',\n",
       " 'platelet_count',\n",
       " 'heart_rate',\n",
       " 'inr',\n",
       " 'urea_nitrogen',\n",
       " 'creatinine',\n",
       " 'glucose',\n",
       " 'potassium',\n",
       " 'sodium',\n",
       " 'chloride',\n",
       " 'magnesium',\n",
       " 'calcium',\n",
       " 'basophils_abs',\n",
       " 'eosinophils_abs',\n",
       " 'lymphocytes_abs',\n",
       " 'monocytes_abs',\n",
       " 'basophils',\n",
       " 'eosinophils',\n",
       " 'lymphocytes',\n",
       " 'monocytes',\n",
       " 'c_reactive_protein',\n",
       " 50806,\n",
       " 50809,\n",
       " 50811,\n",
       " 50822,\n",
       " 50824,\n",
       " 50889,\n",
       " 50893,\n",
       " 50912,\n",
       " 50960,\n",
       " 51006,\n",
       " 51133,\n",
       " 51146,\n",
       " 51200,\n",
       " 51221,\n",
       " 51237,\n",
       " 51244,\n",
       " 51245,\n",
       " 51254,\n",
       " 51265,\n",
       " 51277,\n",
       " 51279,\n",
       " 52069,\n",
       " 52073,\n",
       " 52074,\n",
       " 52769]"
      ]
     },
     "execution_count": 41,
     "metadata": {},
     "output_type": "execute_result"
    }
   ],
   "source": [
    "list(df_join)"
   ]
  }
 ],
 "metadata": {
  "kernelspec": {
   "display_name": "Python 3",
   "language": "python",
   "name": "python3"
  },
  "language_info": {
   "codemirror_mode": {
    "name": "ipython",
    "version": 3
   },
   "file_extension": ".py",
   "mimetype": "text/x-python",
   "name": "python",
   "nbconvert_exporter": "python",
   "pygments_lexer": "ipython3",
   "version": "3.11.2"
  },
  "orig_nbformat": 4
 },
 "nbformat": 4,
 "nbformat_minor": 2
}
