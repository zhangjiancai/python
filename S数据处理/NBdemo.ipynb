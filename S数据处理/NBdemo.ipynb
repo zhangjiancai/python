{
 "cells": [
  {
   "cell_type": "code",
   "execution_count": 18,
   "metadata": {},
   "outputs": [],
   "source": [
    "from sklearn import tree\n",
    "from sklearn import svm\n",
    "from sklearn.naive_bayes import GaussianNB\n",
    "import pandas as pd\n",
    "import numpy as np\n",
    "##import curses  ##这一步本来是要将warning去掉的。就是将输入的数据转化为dataframe格式，发现不行。放弃。"
   ]
  },
  {
   "cell_type": "code",
   "execution_count": 19,
   "metadata": {},
   "outputs": [
    {
     "name": "stdout",
     "output_type": "stream",
     "text": [
      "       0    1    2    3  4\n",
      "0    5.0  3.6  1.4  0.2  0\n",
      "1    5.4  3.9  1.7  0.4  0\n",
      "2    4.6  3.4  1.4  0.3  0\n",
      "3    5.0  3.4  1.5  0.2  0\n",
      "4    4.4  2.9  1.4  0.2  0\n",
      "..   ...  ...  ...  ... ..\n",
      "130  6.7  3.0  5.2  2.3  2\n",
      "131  6.3  2.5  5.0  1.9  2\n",
      "132  6.5  3.0  5.2  2.0  2\n",
      "133  6.2  3.4  5.4  2.3  2\n",
      "134  5.9  3.0  5.1  1.8  2\n",
      "\n",
      "[135 rows x 5 columns]\n"
     ]
    }
   ],
   "source": [
    "data_url = \"iris.csv\"\n",
    "df = pd.read_csv(data_url,header = None ,skiprows= 1)\n",
    "##df.columns = [\"1\",\"2\",\"3\"]\n",
    "print (df)"
   ]
  },
  {
   "cell_type": "code",
   "execution_count": 20,
   "metadata": {},
   "outputs": [
    {
     "name": "stdout",
     "output_type": "stream",
     "text": [
      "       1    2    3\n",
      "0    3.6  1.4  0.2\n",
      "1    3.9  1.7  0.4\n",
      "2    3.4  1.4  0.3\n",
      "3    3.4  1.5  0.2\n",
      "4    2.9  1.4  0.2\n",
      "..   ...  ...  ...\n",
      "130  3.0  5.2  2.3\n",
      "131  2.5  5.0  1.9\n",
      "132  3.0  5.2  2.0\n",
      "133  3.4  5.4  2.3\n",
      "134  3.0  5.1  1.8\n",
      "\n",
      "[135 rows x 3 columns]\n",
      "0      0\n",
      "1      0\n",
      "2      0\n",
      "3      0\n",
      "4      0\n",
      "      ..\n",
      "130    2\n",
      "131    2\n",
      "132    2\n",
      "133    2\n",
      "134    2\n",
      "Name: 4, Length: 135, dtype: int64\n"
     ]
    }
   ],
   "source": [
    "##x = df.np.array[:, 1:4]\n",
    "x = df.iloc[:,1:4]\n",
    "y = df.iloc[:, 4]\n",
    "print (x)\n",
    "print (y)"
   ]
  },
  {
   "cell_type": "code",
   "execution_count": 21,
   "metadata": {},
   "outputs": [
    {
     "name": "stdout",
     "output_type": "stream",
     "text": [
      "GaussianNB()\n"
     ]
    }
   ],
   "source": [
    "##import curses\n",
    "\n",
    "\n",
    "clf = GaussianNB()\n",
    "clf = clf.fit(x, y)\n",
    "print (clf)\n",
    "##clf = pd.DataFrame(clf,columns=)"
   ]
  },
  {
   "cell_type": "code",
   "execution_count": 22,
   "metadata": {},
   "outputs": [
    {
     "name": "stdout",
     "output_type": "stream",
     "text": [
      "    Unnamed: 0  Sepal.Length  Sepal.Width  Petal.Length  Petal.Width  \\\n",
      "0            1           5.1          3.5           1.4          0.2   \n",
      "1            8           5.0          3.4           1.5          0.2   \n",
      "2            9           4.4          2.9           1.4          0.2   \n",
      "3           10           4.9          3.1           1.5          0.1   \n",
      "4           11           5.4          3.7           1.5          0.2   \n",
      "5           12           4.8          3.4           1.6          0.2   \n",
      "6           13           4.8          3.0           1.4          0.1   \n",
      "7           52           6.4          3.2           4.5          1.5   \n",
      "8           53           6.9          3.1           4.9          1.5   \n",
      "9           54           5.5          2.3           4.0          1.3   \n",
      "10          75           6.4          2.9           4.3          1.3   \n",
      "11         122           5.6          2.8           4.9          2.0   \n",
      "12         123           7.7          2.8           6.7          2.0   \n",
      "\n",
      "       Species  \n",
      "0       setosa  \n",
      "1       setosa  \n",
      "2       setosa  \n",
      "3       setosa  \n",
      "4       setosa  \n",
      "5       setosa  \n",
      "6       setosa  \n",
      "7   versicolor  \n",
      "8   versicolor  \n",
      "9   versicolor  \n",
      "10  versicolor  \n",
      "11   virginica  \n",
      "12   virginica  \n"
     ]
    }
   ],
   "source": [
    "data_urltest = \"iristest.csv\"\n",
    "dftest = pd.read_csv(data_urltest)\n",
    "print (dftest)"
   ]
  },
  {
   "cell_type": "code",
   "execution_count": 23,
   "metadata": {},
   "outputs": [
    {
     "name": "stdout",
     "output_type": "stream",
     "text": [
      "    Sepal.Length  Sepal.Width  Petal.Length\n",
      "0            5.1          3.5           1.4\n",
      "1            5.0          3.4           1.5\n",
      "2            4.4          2.9           1.4\n",
      "3            4.9          3.1           1.5\n",
      "4            5.4          3.7           1.5\n",
      "5            4.8          3.4           1.6\n",
      "6            4.8          3.0           1.4\n",
      "7            6.4          3.2           4.5\n",
      "8            6.9          3.1           4.9\n",
      "9            5.5          2.3           4.0\n",
      "10           6.4          2.9           4.3\n",
      "11           5.6          2.8           4.9\n",
      "12           7.7          2.8           6.7\n"
     ]
    }
   ],
   "source": [
    "xtest = dftest.iloc[:, 1:4]\n",
    "print(xtest)"
   ]
  },
  {
   "cell_type": "code",
   "execution_count": 24,
   "metadata": {},
   "outputs": [
    {
     "name": "stdout",
     "output_type": "stream",
     "text": [
      "[1 1 1 1 1 1 1 2 2 2 2 2 2]\n"
     ]
    },
    {
     "name": "stderr",
     "output_type": "stream",
     "text": [
      "c:\\Users\\zjc20\\Downloads\\python\\venv\\lib\\site-packages\\sklearn\\base.py:443: UserWarning: X has feature names, but GaussianNB was fitted without feature names\n",
      "  warnings.warn(\n"
     ]
    }
   ],
   "source": [
    "print(clf.predict(xtest))"
   ]
  }
 ],
 "metadata": {
  "kernelspec": {
   "display_name": "Python 3.10.8 ('venv': venv)",
   "language": "python",
   "name": "python3"
  },
  "language_info": {
   "codemirror_mode": {
    "name": "ipython",
    "version": 3
   },
   "file_extension": ".py",
   "mimetype": "text/x-python",
   "name": "python",
   "nbconvert_exporter": "python",
   "pygments_lexer": "ipython3",
   "version": "3.10.8"
  },
  "orig_nbformat": 4,
  "vscode": {
   "interpreter": {
    "hash": "548deecd5b2f7e43ddb8581aaff139642d02d46924a95eea6eedc919c0f06e01"
   }
  }
 },
 "nbformat": 4,
 "nbformat_minor": 2
}
