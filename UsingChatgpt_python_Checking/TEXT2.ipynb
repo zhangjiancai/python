{
 "cells": [
  {
   "cell_type": "code",
   "execution_count": null,
   "metadata": {},
   "outputs": [],
   "source": [
    "import tkinter as tk\n",
    "from tkinter import messagebox, ttk\n",
    "\n",
    "# 创建主窗口\n",
    "root = tk.Tk()\n",
    "root.title(\"漂亮的界面\")\n",
    "\n",
    "\n",
    "# 创建功能列表\n",
    "def option1():\n",
    "    messagebox.showinfo(\"选项 1\", \"您选择了选项 1\")\n",
    "\n",
    "def option2():\n",
    "    messagebox.showinfo(\"选项 2\", \"您选择了选项 2\")\n",
    "\n",
    "def option3():\n",
    "    messagebox.showinfo(\"选项 3\", \"您选择了选项 3\")\n",
    "\n",
    "# 创建选项\n",
    "options = [(\"选项 1\", option1),\n",
    "           (\"选项 2\", option2),\n",
    "           (\"选项 3\", option3)]\n",
    "\n",
    "for option in options:\n",
    "    tk.Button(root, text=option[0], command=option[1]).pack()\n",
    "\n",
    "# 运行程序\n",
    "root.mainloop()"
   ]
  },
  {
   "cell_type": "code",
   "execution_count": 14,
   "metadata": {},
   "outputs": [],
   "source": [
    "import tkinter as tk\n",
    "from tkinter import messagebox, ttk\n",
    "\n",
    "# 创建主窗口\n",
    "root = tk.Tk()\n",
    "root.title(\"漂亮的界面\")\n",
    "\n",
    "# 创建功能列表\n",
    "def option1():\n",
    "    scale1 = tk.Scale(root, from_=0, to=100, orient=tk.HORIZONTAL)\n",
    "    scale1.pack()\n",
    "    value = scale1.get()\n",
    "    messagebox.showinfo(\"选项 1\", \"您选择了选项 1，滑动条的值为：\" + str(value))\n",
    "\n",
    "def option2():\n",
    "    scale2 = tk.Scale(root, from_=0, to=100, orient=tk.HORIZONTAL)\n",
    "    scale2.pack()\n",
    "    value = scale2.get()\n",
    "    messagebox.showinfo(\"选项 2\", \"您选择了选项 2，滑动条的值为：\" + str(value))\n",
    "\n",
    "def option3():\n",
    "    scale3 = tk.Scale(root, from_=0, to=100, orient=tk.HORIZONTAL)\n",
    "    scale3.pack()\n",
    "    value = scale3.get()\n",
    "    messagebox.showinfo(\"选项 3\", \"您选择了选项 3，滑动条的值为：\" + str(value))\n",
    "\n",
    "\n",
    "\n",
    "# 创建选项\n",
    "options = [(\"选项 1\", option1),\n",
    "           (\"选项 2\", option2),\n",
    "           (\"选项 3\", option3)]\n",
    "\n",
    "frame = tk.Frame(root)\n",
    "for option in options:\n",
    "    frame.pack(pady=10)\n",
    "    tk.Button(frame, text=option[0], command=option[1]).pack(side=tk.LEFT)\n",
    "    ttk.Scale(frame, from_=0, to=100, orient=tk.HORIZONTAL).pack(side=tk.LEFT)\n",
    "# 运行程序\n",
    "root.mainloop()"
   ]
  },
  {
   "attachments": {},
   "cell_type": "markdown",
   "metadata": {},
   "source": [
    "逻辑上有问题，单个功能可以，但是多个功能在一起就不行了。需要改。\n",
    "今天先到这，明天在整。\n"
   ]
  }
 ],
 "metadata": {
  "kernelspec": {
   "display_name": "Python 3",
   "language": "python",
   "name": "python3"
  },
  "language_info": {
   "codemirror_mode": {
    "name": "ipython",
    "version": 3
   },
   "file_extension": ".py",
   "mimetype": "text/x-python",
   "name": "python",
   "nbconvert_exporter": "python",
   "pygments_lexer": "ipython3",
   "version": "3.11.2"
  },
  "orig_nbformat": 4,
  "vscode": {
   "interpreter": {
    "hash": "36b4f0bb1171169ce7b652aa8b75d075435a7a681f2b1dabdf631d733aa34ed1"
   }
  }
 },
 "nbformat": 4,
 "nbformat_minor": 2
}
