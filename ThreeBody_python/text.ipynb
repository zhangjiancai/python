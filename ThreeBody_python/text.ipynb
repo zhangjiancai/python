{
 "cells": [
  {
   "cell_type": "code",
   "execution_count": 2,
   "metadata": {},
   "outputs": [],
   "source": [
    "import numpy as np\n",
    "from scipy import integrate#导入积分求解函数"
   ]
  },
  {
   "attachments": {},
   "cell_type": "markdown",
   "metadata": {},
   "source": [
    "[三体的网址](https://github.com/sjtu-liao/three-body)"
   ]
  },
  {
   "attachments": {},
   "cell_type": "markdown",
   "metadata": {},
   "source": [
    "F=ma\n",
    "公式的markdown写法参考我之前有的文档[基于梯度下降法和正则化](https://github.com/zhangjiancai/python/blob/master/X回归案例/线性回归（基于梯度下降法和正则化）.ipynb)\n",
    "<br>首先，创建一个以参数$w$为变量的代价函数\n",
    "\n",
    "$$\n",
    "J\\left( w  \\right)=\\frac{1}{2m}\\sum\\limits_{i=1}^{m}{{{\\left( {{h}}\\left( {{x}^{(i)}} \\right)-{{y}^{(i)}} \\right)}^{2}}}\n",
    "$$\n",
    "\n",
    "$$\n",
    "{{h}}   \\left( x \\right)={{w}^{T}}X={{w }_{0}}{{x}_{0}}+{{w }_{1}}{{x}_{1}}+{{w }_{2}}{{x}_{2}}+...+{{w }_{n}}{{x}_{n}}\n",
    "$$\n",
    "```\n",
    "$$\n",
    "J\\left( w  \\right)=\\frac{1}{2m}\\sum\\limits_{i=1}^{m}{{{\\left( {{h}}\\left( {{x}^{(i)}} \\right)-{{y}^{(i)}} \\right)}^{2}}}\n",
    "$$\n",
    "\n",
    "$$\n",
    "{{h}}   \\left( x \\right)={{w}^{T}}X={{w }_{0}}{{x}_{0}}+{{w }_{1}}{{x}_{1}}+{{w }_{2}}{{x}_{2}}+...+{{w }_{n}}{{x}_{n}}\n",
    "$$\n",
    "```\n",
    "然后我们可以写出代码除法是代码```$$\\frac{a}{b}$$```其中```$$```是KaTeX数学公式的开始符号和终止符号\n",
    "这是最终表现形式：\n",
    "$$\\frac{a}{b}$$\n",
    "\n",
    "所以我们可以写出：\n",
    "$$F=G\\frac{{{m }_{0} {m }_{1}}}{{r}^{2}}$$\n"
   ]
  },
  {
   "cell_type": "code",
   "execution_count": 3,
   "metadata": {},
   "outputs": [],
   "source": [
    "#计算三个天体的速度和加速度\n",
    "def f(t, y, args):\n",
    "    G, m_A, m_B, m_C = args\n",
    "    pos_A, pos_B, pos_C, vel_A, vel_B, vel_C = y[:3], y[3:6], y[6:9], y[9:12], y[12:15], y[15:]\n",
    "    r_AB = np.sqrt(np.sum((pos_A-pos_B)**2))\n",
    "    r_BC = np.sqrt(np.sum((pos_B-pos_C)**2))\n",
    "    r_CA = np.sqrt(np.sum((pos_C-pos_A)**2))\n",
    "    F_A = m_A * m_B * G*(pos_B-pos_A)/r_AB**3 + m_C * m_A * G*(pos_C-pos_A)/r_CA**3\n",
    "    F_B = m_A * m_B * G*(pos_A-pos_B)/r_AB**3 + m_C * m_B * G*(pos_C-pos_B)/r_BC**3\n",
    "    F_C = m_A * m_C * G*(pos_A-pos_C)/r_CA**3 + m_C * m_B * G*(pos_B-pos_C)/r_BC**3\n",
    "    return np.hstack((vel_A, vel_B, vel_C, F_A/m_A, F_B/m_B, F_C/m_C))\n"
   ]
  },
  {
   "attachments": {},
   "cell_type": "markdown",
   "metadata": {},
   "source": [
    "参数说明：\n",
    "pos_A :A的位置\n",
    "vel_A :A的速度\n",
    "F_A   :A所受到的引力\n"
   ]
  },
  {
   "attachments": {},
   "cell_type": "markdown",
   "metadata": {},
   "source": [
    "初始化"
   ]
  },
  {
   "cell_type": "code",
   "execution_count": null,
   "metadata": {},
   "outputs": [],
   "source": [
    "#定义天体的初引力常量、质量参数\n",
    "G = 10.\n",
    "m_A = 1.\n",
    "m_B = 1.\n",
    "m_C = 1.\n",
    "#此处k为速度的旋转角度（理论上不能取np.pi/6和-5*np.pi/6附近，-np.pi/3是一种平衡位置），v为初始速度大小\n",
    "k = -np.pi/3\n",
    "v = np.sqrt(5)\n",
    "args = (G, m_A, m_B, m_C)\n",
    "#定义天体的初始速度和位置\n",
    "pos_A = np.array([0., 0., 0.])\n",
    "vel_A = np.array([np.cos(k)*v, np.sin(k)*v, 0.])\n",
    "pos_B = np.array([2., 0., 0.])\n",
    "vel_B = np.array([np.cos(k+2*np.pi/3)*v, np.sin(k+2*np.pi/3)*v, 0.])\n",
    "pos_C = np.array([1., np.sqrt(3), 0.])\n",
    "vel_C = np.array([np.cos(k+4*np.pi/3)*v, np.sin(k+4*np.pi/3)*v, 0.])\n",
    "\n",
    "\n",
    "'''Initial condition y0 must be one-dimensional'''\n",
    "y0 = np.hstack((pos_A, pos_B, pos_C, vel_A, vel_B, vel_C))\n",
    "\n",
    "t = np.linspace(0, 10, 1000)\n"
   ]
  }
 ],
 "metadata": {
  "kernelspec": {
   "display_name": "Python 3",
   "language": "python",
   "name": "python3"
  },
  "language_info": {
   "codemirror_mode": {
    "name": "ipython",
    "version": 3
   },
   "file_extension": ".py",
   "mimetype": "text/x-python",
   "name": "python",
   "nbconvert_exporter": "python",
   "pygments_lexer": "ipython3",
   "version": "3.11.1 (tags/v3.11.1:a7a450f, Dec  6 2022, 19:58:39) [MSC v.1934 64 bit (AMD64)]"
  },
  "orig_nbformat": 4,
  "vscode": {
   "interpreter": {
    "hash": "36b4f0bb1171169ce7b652aa8b75d075435a7a681f2b1dabdf631d733aa34ed1"
   }
  }
 },
 "nbformat": 4,
 "nbformat_minor": 2
}
