{
 "cells": [
  {
   "cell_type": "markdown",
   "metadata": {},
   "source": [
    "# 线性回归（一元和多元）"
   ]
  },
  {
   "cell_type": "markdown",
   "metadata": {},
   "source": [
    "## 一元线性回归"
   ]
  },
  {
   "cell_type": "code",
   "execution_count": 1,
   "metadata": {},
   "outputs": [],
   "source": [
    "import numpy as np\n",
    "import pandas as pd\n",
    "import matplotlib.pyplot as plt"
   ]
  },
  {
   "cell_type": "code",
   "execution_count": 2,
   "metadata": {},
   "outputs": [],
   "source": [
    "import matplotlib.pyplot as plt\n",
    "plt.rcParams['font.sans-serif']=['SimHei'] # 使图形中的中文正常编码显示，sans-serif 表示字体中的无衬线体，SimHei是黑体\n",
    "plt.rcParams['axes.unicode_minus']=False # 使坐标轴刻度表签正常显示正负号"
   ]
  },
  {
   "cell_type": "code",
   "execution_count": 3,
   "metadata": {},
   "outputs": [
    {
     "data": {
      "text/html": [
       "<div>\n",
       "<style scoped>\n",
       "    .dataframe tbody tr th:only-of-type {\n",
       "        vertical-align: middle;\n",
       "    }\n",
       "\n",
       "    .dataframe tbody tr th {\n",
       "        vertical-align: top;\n",
       "    }\n",
       "\n",
       "    .dataframe thead th {\n",
       "        text-align: right;\n",
       "    }\n",
       "</style>\n",
       "<table border=\"1\" class=\"dataframe\">\n",
       "  <thead>\n",
       "    <tr style=\"text-align: right;\">\n",
       "      <th></th>\n",
       "      <th>人口</th>\n",
       "      <th>收益</th>\n",
       "    </tr>\n",
       "  </thead>\n",
       "  <tbody>\n",
       "    <tr>\n",
       "      <th>0</th>\n",
       "      <td>6.1101</td>\n",
       "      <td>17.5920</td>\n",
       "    </tr>\n",
       "    <tr>\n",
       "      <th>1</th>\n",
       "      <td>5.5277</td>\n",
       "      <td>9.1302</td>\n",
       "    </tr>\n",
       "    <tr>\n",
       "      <th>2</th>\n",
       "      <td>8.5186</td>\n",
       "      <td>13.6620</td>\n",
       "    </tr>\n",
       "    <tr>\n",
       "      <th>3</th>\n",
       "      <td>7.0032</td>\n",
       "      <td>11.8540</td>\n",
       "    </tr>\n",
       "    <tr>\n",
       "      <th>4</th>\n",
       "      <td>5.8598</td>\n",
       "      <td>6.8233</td>\n",
       "    </tr>\n",
       "  </tbody>\n",
       "</table>\n",
       "</div>"
      ],
      "text/plain": [
       "       人口       收益\n",
       "0  6.1101  17.5920\n",
       "1  5.5277   9.1302\n",
       "2  8.5186  13.6620\n",
       "3  7.0032  11.8540\n",
       "4  5.8598   6.8233"
      ]
     },
     "execution_count": 3,
     "metadata": {},
     "output_type": "execute_result"
    }
   ],
   "source": [
    "path = r\"C:\\Users\\zjc20\\Downloads\\python\\X回归案例\\data\\regress_data1.csv\"\n",
    "# 注：这里加 r（rawstring原生字符串）是为了避免与正则表达式语法冲突\n",
    "data = pd.read_csv(path)\n",
    "data.head() # head()是观察前5行"
   ]
  },
  {
   "cell_type": "code",
   "execution_count": 4,
   "metadata": {},
   "outputs": [
    {
     "data": {
      "text/html": [
       "<div>\n",
       "<style scoped>\n",
       "    .dataframe tbody tr th:only-of-type {\n",
       "        vertical-align: middle;\n",
       "    }\n",
       "\n",
       "    .dataframe tbody tr th {\n",
       "        vertical-align: top;\n",
       "    }\n",
       "\n",
       "    .dataframe thead th {\n",
       "        text-align: right;\n",
       "    }\n",
       "</style>\n",
       "<table border=\"1\" class=\"dataframe\">\n",
       "  <thead>\n",
       "    <tr style=\"text-align: right;\">\n",
       "      <th></th>\n",
       "      <th>人口</th>\n",
       "      <th>收益</th>\n",
       "    </tr>\n",
       "  </thead>\n",
       "  <tbody>\n",
       "    <tr>\n",
       "      <th>count</th>\n",
       "      <td>97.000000</td>\n",
       "      <td>97.000000</td>\n",
       "    </tr>\n",
       "    <tr>\n",
       "      <th>mean</th>\n",
       "      <td>8.159800</td>\n",
       "      <td>5.839135</td>\n",
       "    </tr>\n",
       "    <tr>\n",
       "      <th>std</th>\n",
       "      <td>3.869884</td>\n",
       "      <td>5.510262</td>\n",
       "    </tr>\n",
       "    <tr>\n",
       "      <th>min</th>\n",
       "      <td>5.026900</td>\n",
       "      <td>-2.680700</td>\n",
       "    </tr>\n",
       "    <tr>\n",
       "      <th>25%</th>\n",
       "      <td>5.707700</td>\n",
       "      <td>1.986900</td>\n",
       "    </tr>\n",
       "    <tr>\n",
       "      <th>50%</th>\n",
       "      <td>6.589400</td>\n",
       "      <td>4.562300</td>\n",
       "    </tr>\n",
       "    <tr>\n",
       "      <th>75%</th>\n",
       "      <td>8.578100</td>\n",
       "      <td>7.046700</td>\n",
       "    </tr>\n",
       "    <tr>\n",
       "      <th>max</th>\n",
       "      <td>22.203000</td>\n",
       "      <td>24.147000</td>\n",
       "    </tr>\n",
       "  </tbody>\n",
       "</table>\n",
       "</div>"
      ],
      "text/plain": [
       "              人口         收益\n",
       "count  97.000000  97.000000\n",
       "mean    8.159800   5.839135\n",
       "std     3.869884   5.510262\n",
       "min     5.026900  -2.680700\n",
       "25%     5.707700   1.986900\n",
       "50%     6.589400   4.562300\n",
       "75%     8.578100   7.046700\n",
       "max    22.203000  24.147000"
      ]
     },
     "execution_count": 4,
     "metadata": {},
     "output_type": "execute_result"
    }
   ],
   "source": [
    "data.describe() # 查看数据的基本情况"
   ]
  },
  {
   "cell_type": "markdown",
   "metadata": {},
   "source": [
    "利用绘图函数展示样本分布情况"
   ]
  },
  {
   "cell_type": "code",
   "execution_count": 5,
   "metadata": {},
   "outputs": [
    {
     "data": {
      "image/png": "[encoded data removed]",
      "image/svg+xml": "<?xml version=\"1.0\" encoding=\"utf-8\" standalone=\"no\"?>\n<!DOCTYPE svg PUBLIC \"-//W3C//DTD SVG 1.1//EN\"\n  \"http://www.w3.org/Graphics/SVG/1.1/DTD/svg11.dtd\">\n<svg xmlns:xlink=\"http://www.w3.org/1999/xlink\" width=\"723pt\" height=\"493.216875pt\" viewBox=\"0 0 723 493.216875\" xmlns=\"http://www.w3.org/2000/svg\" version=\"1.1\">\n <metadata>\n  <rdf:RDF xmlns:dc=\"http://purl.org/dc/elements/1.1/\" xmlns:cc=\"http://creativecommons.org/ns#\" xmlns:rdf=\"http://www.w3.org/1999/02/22-rdf-syntax-ns#\">\n   <cc:Work>\n    <dc:type rdf:resource=\"http://purl.org/dc/dcmitype/StillImage\"/>\n    <dc:date>2022-11-12T13:28:36.084651</dc:date>\n    <dc:format>image/svg+xml</dc:format>\n    <dc:creator>\n     <cc:Agent>\n      <dc:title>Matplotlib v3.6.2, https://matplotlib.org/</dc:title>\n     </cc:Agent>\n    </dc:creator>\n   </cc:Work>\n  </rdf:RDF>\n </metadata>\n <defs>\n  <style type=\"text/css\">*{stroke-linejoin: round; stroke-linecap: butt}</style>\n </defs>\n <g id=\"figure_1\">\n  <g id=\"patch_1\">\n   <path d=\"M 0 493.216875 \nL 723 493.216875 \nL 723 0 \nL 0 0 \nz\n\" style=\"fill: #ffffff\"/>\n  </g>\n  <g id=\"axes_1\">\n   <g id=\"patch_2\">\n    <path d=\"M 46.2 450.72 \nL 715.8 450.72 \nL 715.8 7.2 \nL 46.2 7.2 \nz\n\" style=\"fill: #ffffff\"/>\n   </g>\n   <g id=\"PathCollection_1\">\n    <defs>\n     <path id=\"m8e80273e62\" d=\"M 0 2.236068 \nC 0.593012 2.236068 1.161816 2.000462 1.581139 1.581139 \nC 2.000462 1.161816 2.236068 0.593012 2.236068 0 \nC 2.236068 -0.593012 2.000462 -1.161816 1.581139 -1.581139 \nC 1.161816 -2.000462 0.593012 -2.236068 0 -2.236068 \nC -0.593012 -2.236068 -1.161816 -2.000462 -1.581139 -1.581139 \nC -2.000462 -1.161816 -2.236068 -0.593012 -2.236068 0 \nC -2.236068 0.593012 -2.000462 1.161816 -1.581139 1.581139 \nC -1.161816 2.000462 -0.593012 2.236068 0 2.236068 \nz\n\" style=\"stroke: #0000ff\"/>\n    </defs>\n    <g clip-path=\"url(#p561af288c8)\">\n     <use xlink:href=\"#m8e80273e62\" x=\"115.025368\" y=\"125.876682\" style=\"fill: #0000ff; stroke: #0000ff\"/>\n     <use xlink:href=\"#m8e80273e62\" x=\"94.384899\" y=\"253.051124\" style=\"fill: #0000ff; stroke: #0000ff\"/>\n     <use xlink:href=\"#m8e80273e62\" x=\"200.38349\" y=\"184.941604\" style=\"fill: #0000ff; stroke: #0000ff\"/>\n     <use xlink:href=\"#m8e80273e62\" x=\"146.677159\" y=\"212.114474\" style=\"fill: #0000ff; stroke: #0000ff\"/>\n     <use xlink:href=\"#m8e80273e62\" x=\"106.154645\" y=\"287.722082\" style=\"fill: #0000ff; stroke: #0000ff\"/>\n     <use xlink:href=\"#m8e80273e62\" x=\"195.574232\" y=\"211.633538\" style=\"fill: #0000ff; stroke: #0000ff\"/>\n     <use xlink:href=\"#m8e80273e62\" x=\"163.44754\" y=\"324.919457\" style=\"fill: #0000ff; stroke: #0000ff\"/>\n     <use xlink:href=\"#m8e80273e62\" x=\"202.492192\" y=\"209.920205\" style=\"fill: #0000ff; stroke: #0000ff\"/>\n     <use xlink:href=\"#m8e80273e62\" x=\"128.35449\" y=\"291.09765\" style=\"fill: #0000ff; stroke: #0000ff\"/>\n     <use xlink:href=\"#m8e80273e62\" x=\"77.618062\" y=\"332.910505\" style=\"fill: #0000ff; stroke: #0000ff\"/>\n     <use xlink:href=\"#m8e80273e62\" x=\"100.870486\" y=\"341.393009\" style=\"fill: #0000ff; stroke: #0000ff\"/>\n     <use xlink:href=\"#m8e80273e62\" x=\"400.458533\" y=\"157.242711\" style=\"fill: #0000ff; stroke: #0000ff\"/>\n     <use xlink:href=\"#m8e80273e62\" x=\"101.696247\" y=\"342.852349\" style=\"fill: #0000ff; stroke: #0000ff\"/>\n     <use xlink:href=\"#m8e80273e62\" x=\"196.477962\" y=\"281.672813\" style=\"fill: #0000ff; stroke: #0000ff\"/>\n     <use xlink:href=\"#m8e80273e62\" x=\"98.38966\" y=\"379.507468\" style=\"fill: #0000ff; stroke: #0000ff\"/>\n     <use xlink:href=\"#m8e80273e62\" x=\"89.129093\" y=\"337.474886\" style=\"fill: #0000ff; stroke: #0000ff\"/>\n     <use xlink:href=\"#m8e80273e62\" x=\"124.073294\" y=\"310.543987\" style=\"fill: #0000ff; stroke: #0000ff\"/>\n     <use xlink:href=\"#m8e80273e62\" x=\"80.293809\" y=\"381.843162\" style=\"fill: #0000ff; stroke: #0000ff\"/>\n     <use xlink:href=\"#m8e80273e62\" x=\"126.348565\" y=\"335.387324\" style=\"fill: #0000ff; stroke: #0000ff\"/>\n     <use xlink:href=\"#m8e80273e62\" x=\"149.072928\" y=\"309.274016\" style=\"fill: #0000ff; stroke: #0000ff\"/>\n     <use xlink:href=\"#m8e80273e62\" x=\"117.825157\" y=\"343.100331\" style=\"fill: #0000ff; stroke: #0000ff\"/>\n     <use xlink:href=\"#m8e80273e62\" x=\"616.857409\" y=\"63.129596\" style=\"fill: #0000ff; stroke: #0000ff\"/>\n     <use xlink:href=\"#m8e80273e62\" x=\"93.052341\" y=\"326.201451\" style=\"fill: #0000ff; stroke: #0000ff\"/>\n     <use xlink:href=\"#m8e80273e62\" x=\"122.680487\" y=\"312.306917\" style=\"fill: #0000ff; stroke: #0000ff\"/>\n     <use xlink:href=\"#m8e80273e62\" x=\"95.703281\" y=\"343.943472\" style=\"fill: #0000ff; stroke: #0000ff\"/>\n     <use xlink:href=\"#m8e80273e62\" x=\"569.898924\" y=\"50.039126\" style=\"fill: #0000ff; stroke: #0000ff\"/>\n     <use xlink:href=\"#m8e80273e62\" x=\"353.110204\" y=\"187.361312\" style=\"fill: #0000ff; stroke: #0000ff\"/>\n     <use xlink:href=\"#m8e80273e62\" x=\"286.801279\" y=\"284.36455\" style=\"fill: #0000ff; stroke: #0000ff\"/>\n     <use xlink:href=\"#m8e80273e62\" x=\"365.443451\" y=\"169.461485\" style=\"fill: #0000ff; stroke: #0000ff\"/>\n     <use xlink:href=\"#m8e80273e62\" x=\"685.363636\" y=\"27.36\" style=\"fill: #0000ff; stroke: #0000ff\"/>\n     <use xlink:href=\"#m8e80273e62\" x=\"84.628166\" y=\"408.606786\" style=\"fill: #0000ff; stroke: #0000ff\"/>\n     <use xlink:href=\"#m8e80273e62\" x=\"132.011936\" y=\"300.146757\" style=\"fill: #0000ff; stroke: #0000ff\"/>\n     <use xlink:href=\"#m8e80273e62\" x=\"226.240781\" y=\"207.906286\" style=\"fill: #0000ff; stroke: #0000ff\"/>\n     <use xlink:href=\"#m8e80273e62\" x=\"107.288736\" y=\"362.474527\" style=\"fill: #0000ff; stroke: #0000ff\"/>\n     <use xlink:href=\"#m8e80273e62\" x=\"189.485577\" y=\"291.940791\" style=\"fill: #0000ff; stroke: #0000ff\"/>\n     <use xlink:href=\"#m8e80273e62\" x=\"179.643788\" y=\"321.703199\" style=\"fill: #0000ff; stroke: #0000ff\"/>\n     <use xlink:href=\"#m8e80273e62\" x=\"185.402847\" y=\"328.404738\" style=\"fill: #0000ff; stroke: #0000ff\"/>\n     <use xlink:href=\"#m8e80273e62\" x=\"97.170512\" y=\"339.279898\" style=\"fill: #0000ff; stroke: #0000ff\"/>\n     <use xlink:href=\"#m8e80273e62\" x=\"353.393727\" y=\"238.220268\" style=\"fill: #0000ff; stroke: #0000ff\"/>\n     <use xlink:href=\"#m8e80273e62\" x=\"123.648009\" y=\"307.649355\" style=\"fill: #0000ff; stroke: #0000ff\"/>\n     <use xlink:href=\"#m8e80273e62\" x=\"90.103703\" y=\"381.906285\" style=\"fill: #0000ff; stroke: #0000ff\"/>\n     <use xlink:href=\"#m8e80273e62\" x=\"142.399507\" y=\"331.48423\" style=\"fill: #0000ff; stroke: #0000ff\"/>\n     <use xlink:href=\"#m8e80273e62\" x=\"313.416994\" y=\"309.33263\" style=\"fill: #0000ff; stroke: #0000ff\"/>\n     <use xlink:href=\"#m8e80273e62\" x=\"103.103229\" y=\"353.590742\" style=\"fill: #0000ff; stroke: #0000ff\"/>\n     <use xlink:href=\"#m8e80273e62\" x=\"175.79142\" y=\"289.097258\" style=\"fill: #0000ff; stroke: #0000ff\"/>\n     <use xlink:href=\"#m8e80273e62\" x=\"149.863248\" y=\"374.546014\" style=\"fill: #0000ff; stroke: #0000ff\"/>\n     <use xlink:href=\"#m8e80273e62\" x=\"78.170931\" y=\"313.11549\" style=\"fill: #0000ff; stroke: #0000ff\"/>\n     <use xlink:href=\"#m8e80273e62\" x=\"104.084927\" y=\"362.557188\" style=\"fill: #0000ff; stroke: #0000ff\"/>\n     <use xlink:href=\"#m8e80273e62\" x=\"313.133471\" y=\"269.972547\" style=\"fill: #0000ff; stroke: #0000ff\"/>\n     <use xlink:href=\"#m8e80273e62\" x=\"94.87752\" y=\"374.972845\" style=\"fill: #0000ff; stroke: #0000ff\"/>\n     <use xlink:href=\"#m8e80273e62\" x=\"165.708636\" y=\"288.817714\" style=\"fill: #0000ff; stroke: #0000ff\"/>\n     <use xlink:href=\"#m8e80273e62\" x=\"86.588018\" y=\"362.623317\" style=\"fill: #0000ff; stroke: #0000ff\"/>\n     <use xlink:href=\"#m8e80273e62\" x=\"161.586921\" y=\"325.818206\" style=\"fill: #0000ff; stroke: #0000ff\"/>\n     <use xlink:href=\"#m8e80273e62\" x=\"167.937835\" y=\"315.153455\" style=\"fill: #0000ff; stroke: #0000ff\"/>\n     <use xlink:href=\"#m8e80273e62\" x=\"122.917938\" y=\"368.87999\" style=\"fill: #0000ff; stroke: #0000ff\"/>\n     <use xlink:href=\"#m8e80273e62\" x=\"123.842931\" y=\"411.629167\" style=\"fill: #0000ff; stroke: #0000ff\"/>\n     <use xlink:href=\"#m8e80273e62\" x=\"120.841132\" y=\"353.064719\" style=\"fill: #0000ff; stroke: #0000ff\"/>\n     <use xlink:href=\"#m8e80273e62\" x=\"98.35422\" y=\"321.073474\" style=\"fill: #0000ff; stroke: #0000ff\"/>\n     <use xlink:href=\"#m8e80273e62\" x=\"228.438084\" y=\"330.719241\" style=\"fill: #0000ff; stroke: #0000ff\"/>\n     <use xlink:href=\"#m8e80273e62\" x=\"233.520232\" y=\"308.901291\" style=\"fill: #0000ff; stroke: #0000ff\"/>\n     <use xlink:href=\"#m8e80273e62\" x=\"211.256594\" y=\"312.578946\" style=\"fill: #0000ff; stroke: #0000ff\"/>\n     <use xlink:href=\"#m8e80273e62\" x=\"82.037475\" y=\"401.434681\" style=\"fill: #0000ff; stroke: #0000ff\"/>\n     <use xlink:href=\"#m8e80273e62\" x=\"652.616738\" y=\"120.811828\" style=\"fill: #0000ff; stroke: #0000ff\"/>\n     <use xlink:href=\"#m8e80273e62\" x=\"426.826165\" y=\"209.108625\" style=\"fill: #0000ff; stroke: #0000ff\"/>\n     <use xlink:href=\"#m8e80273e62\" x=\"570.395089\" y=\"133.962415\" style=\"fill: #0000ff; stroke: #0000ff\"/>\n     <use xlink:href=\"#m8e80273e62\" x=\"154.296838\" y=\"316.850257\" style=\"fill: #0000ff; stroke: #0000ff\"/>\n     <use xlink:href=\"#m8e80273e62\" x=\"192.462568\" y=\"303.940138\" style=\"fill: #0000ff; stroke: #0000ff\"/>\n     <use xlink:href=\"#m8e80273e62\" x=\"261.248775\" y=\"273.412741\" style=\"fill: #0000ff; stroke: #0000ff\"/>\n     <use xlink:href=\"#m8e80273e62\" x=\"93.381937\" y=\"374.981862\" style=\"fill: #0000ff; stroke: #0000ff\"/>\n     <use xlink:href=\"#m8e80273e62\" x=\"619.373675\" y=\"74.777259\" style=\"fill: #0000ff; stroke: #0000ff\"/>\n     <use xlink:href=\"#m8e80273e62\" x=\"257.704738\" y=\"289.877276\" style=\"fill: #0000ff; stroke: #0000ff\"/>\n     <use xlink:href=\"#m8e80273e62\" x=\"158.418553\" y=\"329.764885\" style=\"fill: #0000ff; stroke: #0000ff\"/>\n     <use xlink:href=\"#m8e80273e62\" x=\"111.343114\" y=\"371.057727\" style=\"fill: #0000ff; stroke: #0000ff\"/>\n     <use xlink:href=\"#m8e80273e62\" x=\"154.569729\" y=\"340.05691\" style=\"fill: #0000ff; stroke: #0000ff\"/>\n     <use xlink:href=\"#m8e80273e62\" x=\"76.636364\" y=\"430.56\" style=\"fill: #0000ff; stroke: #0000ff\"/>\n     <use xlink:href=\"#m8e80273e62\" x=\"130.541161\" y=\"385.810732\" style=\"fill: #0000ff; stroke: #0000ff\"/>\n     <use xlink:href=\"#m8e80273e62\" x=\"165.651931\" y=\"331.890019\" style=\"fill: #0000ff; stroke: #0000ff\"/>\n     <use xlink:href=\"#m8e80273e62\" x=\"76.976591\" y=\"304.583389\" style=\"fill: #0000ff; stroke: #0000ff\"/>\n     <use xlink:href=\"#m8e80273e62\" x=\"262.595509\" y=\"288.78465\" style=\"fill: #0000ff; stroke: #0000ff\"/>\n     <use xlink:href=\"#m8e80273e62\" x=\"79.499945\" y=\"359.346942\" style=\"fill: #0000ff; stroke: #0000ff\"/>\n     <use xlink:href=\"#m8e80273e62\" x=\"101.526133\" y=\"383.064138\" style=\"fill: #0000ff; stroke: #0000ff\"/>\n     <use xlink:href=\"#m8e80273e62\" x=\"82.359983\" y=\"387.201989\" style=\"fill: #0000ff; stroke: #0000ff\"/>\n     <use xlink:href=\"#m8e80273e62\" x=\"123.729522\" y=\"380.072117\" style=\"fill: #0000ff; stroke: #0000ff\"/>\n     <use xlink:href=\"#m8e80273e62\" x=\"244.687492\" y=\"276.898022\" style=\"fill: #0000ff; stroke: #0000ff\"/>\n     <use xlink:href=\"#m8e80273e62\" x=\"129.407069\" y=\"309.960852\" style=\"fill: #0000ff; stroke: #0000ff\"/>\n     <use xlink:href=\"#m8e80273e62\" x=\"200.333874\" y=\"326.52458\" style=\"fill: #0000ff; stroke: #0000ff\"/>\n     <use xlink:href=\"#m8e80273e62\" x=\"223.830836\" y=\"288.100819\" style=\"fill: #0000ff; stroke: #0000ff\"/>\n     <use xlink:href=\"#m8e80273e62\" x=\"111.194265\" y=\"376.339755\" style=\"fill: #0000ff; stroke: #0000ff\"/>\n     <use xlink:href=\"#m8e80273e62\" x=\"94.126184\" y=\"387.986666\" style=\"fill: #0000ff; stroke: #0000ff\"/>\n     <use xlink:href=\"#m8e80273e62\" x=\"77.788176\" y=\"347.867607\" style=\"fill: #0000ff; stroke: #0000ff\"/>\n     <use xlink:href=\"#m8e80273e62\" x=\"100.764165\" y=\"362.540656\" style=\"fill: #0000ff; stroke: #0000ff\"/>\n     <use xlink:href=\"#m8e80273e62\" x=\"169.125087\" y=\"325.706989\" style=\"fill: #0000ff; stroke: #0000ff\"/>\n     <use xlink:href=\"#m8e80273e62\" x=\"106.540945\" y=\"282.016982\" style=\"fill: #0000ff; stroke: #0000ff\"/>\n     <use xlink:href=\"#m8e80273e62\" x=\"86.506506\" y=\"360.409509\" style=\"fill: #0000ff; stroke: #0000ff\"/>\n     <use xlink:href=\"#m8e80273e62\" x=\"192.40232\" y=\"388.098784\" style=\"fill: #0000ff; stroke: #0000ff\"/>\n     <use xlink:href=\"#m8e80273e62\" x=\"373.169451\" y=\"254.17982\" style=\"fill: #0000ff; stroke: #0000ff\"/>\n     <use xlink:href=\"#m8e80273e62\" x=\"91.166914\" y=\"380.997317\" style=\"fill: #0000ff; stroke: #0000ff\"/>\n    </g>\n   </g>\n   <g id=\"matplotlib.axis_1\">\n    <g id=\"xtick_1\">\n     <g id=\"line2d_1\">\n      <defs>\n       <path id=\"m62ef3667a4\" d=\"M 0 0 \nL 0 3.5 \n\" style=\"stroke: #000000; stroke-width: 0.8\"/>\n      </defs>\n      <g>\n       <use xlink:href=\"#m62ef3667a4\" x=\"75.683018\" y=\"450.72\" style=\"stroke: #000000; stroke-width: 0.8\"/>\n      </g>\n     </g>\n     <g id=\"text_1\">\n      <!-- 5.0 -->\n      <g transform=\"translate(68.183018 464.595) scale(0.1 -0.1)\">\n       <defs>\n        <path id=\"SimHei-35\" d=\"M 550 1325 \nQ 725 650 1150 575 \nQ 1575 500 1837 662 \nQ 2100 825 2212 1087 \nQ 2325 1350 2312 1675 \nQ 2300 2000 2137 2225 \nQ 1975 2450 1725 2525 \nQ 1475 2600 1162 2525 \nQ 850 2450 650 2175 \nL 225 2225 \nQ 275 2375 700 4375 \nL 2675 4375 \nL 2675 3925 \nL 1075 3925 \nQ 950 3250 825 2850 \nQ 1200 3025 1525 3012 \nQ 1850 3000 2150 2862 \nQ 2450 2725 2587 2487 \nQ 2725 2250 2787 2012 \nQ 2850 1775 2837 1500 \nQ 2825 1225 2725 937 \nQ 2625 650 2425 462 \nQ 2225 275 1937 162 \nQ 1650 50 1275 75 \nQ 900 100 562 350 \nQ 225 600 100 1200 \nL 550 1325 \nz\n\" transform=\"scale(0.015625)\"/>\n        <path id=\"SimHei-2e\" d=\"M 1075 125 \nL 500 125 \nL 500 675 \nL 1075 675 \nL 1075 125 \nz\n\" transform=\"scale(0.015625)\"/>\n        <path id=\"SimHei-30\" d=\"M 225 2537 \nQ 250 3200 412 3587 \nQ 575 3975 875 4225 \nQ 1175 4475 1612 4475 \nQ 2050 4475 2375 4112 \nQ 2700 3750 2800 3200 \nQ 2900 2650 2862 1937 \nQ 2825 1225 2612 775 \nQ 2400 325 1975 150 \nQ 1550 -25 1125 187 \nQ 700 400 525 750 \nQ 350 1100 275 1487 \nQ 200 1875 225 2537 \nz\nM 750 2687 \nQ 675 2000 800 1462 \nQ 925 925 1212 700 \nQ 1500 475 1800 612 \nQ 2100 750 2237 1162 \nQ 2375 1575 2375 2062 \nQ 2375 2550 2337 2950 \nQ 2300 3350 2112 3675 \nQ 1925 4000 1612 4012 \nQ 1300 4025 1062 3700 \nQ 825 3375 750 2687 \nz\n\" transform=\"scale(0.015625)\"/>\n       </defs>\n       <use xlink:href=\"#SimHei-35\"/>\n       <use xlink:href=\"#SimHei-2e\" x=\"50\"/>\n       <use xlink:href=\"#SimHei-30\" x=\"100\"/>\n      </g>\n     </g>\n    </g>\n    <g id=\"xtick_2\">\n     <g id=\"line2d_2\">\n      <g>\n       <use xlink:href=\"#m62ef3667a4\" x=\"164.283933\" y=\"450.72\" style=\"stroke: #000000; stroke-width: 0.8\"/>\n      </g>\n     </g>\n     <g id=\"text_2\">\n      <!-- 7.5 -->\n      <g transform=\"translate(156.783933 464.595) scale(0.1 -0.1)\">\n       <defs>\n        <path id=\"SimHei-37\" d=\"M 850 150 \nQ 1300 2050 2425 3925 \nL 275 3925 \nL 275 4375 \nL 2950 4375 \nL 2950 3950 \nQ 1775 2050 1400 150 \nL 850 150 \nz\n\" transform=\"scale(0.015625)\"/>\n       </defs>\n       <use xlink:href=\"#SimHei-37\"/>\n       <use xlink:href=\"#SimHei-2e\" x=\"50\"/>\n       <use xlink:href=\"#SimHei-35\" x=\"100\"/>\n      </g>\n     </g>\n    </g>\n    <g id=\"xtick_3\">\n     <g id=\"line2d_3\">\n      <g>\n       <use xlink:href=\"#m62ef3667a4\" x=\"252.884848\" y=\"450.72\" style=\"stroke: #000000; stroke-width: 0.8\"/>\n      </g>\n     </g>\n     <g id=\"text_3\">\n      <!-- 10.0 -->\n      <g transform=\"translate(242.884848 464.595) scale(0.1 -0.1)\">\n       <defs>\n        <path id=\"SimHei-31\" d=\"M 1400 3600 \nQ 1075 3275 575 2975 \nL 575 3450 \nQ 1200 3875 1600 4450 \nL 1900 4450 \nL 1900 150 \nL 1400 150 \nL 1400 3600 \nz\n\" transform=\"scale(0.015625)\"/>\n       </defs>\n       <use xlink:href=\"#SimHei-31\"/>\n       <use xlink:href=\"#SimHei-30\" x=\"50\"/>\n       <use xlink:href=\"#SimHei-2e\" x=\"100\"/>\n       <use xlink:href=\"#SimHei-30\" x=\"150\"/>\n      </g>\n     </g>\n    </g>\n    <g id=\"xtick_4\">\n     <g id=\"line2d_4\">\n      <g>\n       <use xlink:href=\"#m62ef3667a4\" x=\"341.485764\" y=\"450.72\" style=\"stroke: #000000; stroke-width: 0.8\"/>\n      </g>\n     </g>\n     <g id=\"text_4\">\n      <!-- 12.5 -->\n      <g transform=\"translate(331.485764 464.595) scale(0.1 -0.1)\">\n       <defs>\n        <path id=\"SimHei-32\" d=\"M 300 250 \nQ 325 625 650 925 \nQ 975 1225 1475 1862 \nQ 1975 2500 2125 2850 \nQ 2275 3200 2237 3450 \nQ 2200 3700 2000 3862 \nQ 1800 4025 1537 4000 \nQ 1275 3975 1037 3800 \nQ 800 3625 675 3275 \nL 200 3350 \nQ 400 3925 712 4187 \nQ 1025 4450 1450 4475 \nQ 1700 4500 1900 4462 \nQ 2100 4425 2312 4287 \nQ 2525 4150 2662 3875 \nQ 2800 3600 2762 3212 \nQ 2725 2825 2375 2287 \nQ 2025 1750 1025 600 \nL 2825 600 \nL 2825 150 \nL 300 150 \nL 300 250 \nz\n\" transform=\"scale(0.015625)\"/>\n       </defs>\n       <use xlink:href=\"#SimHei-31\"/>\n       <use xlink:href=\"#SimHei-32\" x=\"50\"/>\n       <use xlink:href=\"#SimHei-2e\" x=\"100\"/>\n       <use xlink:href=\"#SimHei-35\" x=\"150\"/>\n      </g>\n     </g>\n    </g>\n    <g id=\"xtick_5\">\n     <g id=\"line2d_5\">\n      <g>\n       <use xlink:href=\"#m62ef3667a4\" x=\"430.086679\" y=\"450.72\" style=\"stroke: #000000; stroke-width: 0.8\"/>\n      </g>\n     </g>\n     <g id=\"text_5\">\n      <!-- 15.0 -->\n      <g transform=\"translate(420.086679 464.595) scale(0.1 -0.1)\">\n       <use xlink:href=\"#SimHei-31\"/>\n       <use xlink:href=\"#SimHei-35\" x=\"50\"/>\n       <use xlink:href=\"#SimHei-2e\" x=\"100\"/>\n       <use xlink:href=\"#SimHei-30\" x=\"150\"/>\n      </g>\n     </g>\n    </g>\n    <g id=\"xtick_6\">\n     <g id=\"line2d_6\">\n      <g>\n       <use xlink:href=\"#m62ef3667a4\" x=\"518.687594\" y=\"450.72\" style=\"stroke: #000000; stroke-width: 0.8\"/>\n      </g>\n     </g>\n     <g id=\"text_6\">\n      <!-- 17.5 -->\n      <g transform=\"translate(508.687594 464.595) scale(0.1 -0.1)\">\n       <use xlink:href=\"#SimHei-31\"/>\n       <use xlink:href=\"#SimHei-37\" x=\"50\"/>\n       <use xlink:href=\"#SimHei-2e\" x=\"100\"/>\n       <use xlink:href=\"#SimHei-35\" x=\"150\"/>\n      </g>\n     </g>\n    </g>\n    <g id=\"xtick_7\">\n     <g id=\"line2d_7\">\n      <g>\n       <use xlink:href=\"#m62ef3667a4\" x=\"607.28851\" y=\"450.72\" style=\"stroke: #000000; stroke-width: 0.8\"/>\n      </g>\n     </g>\n     <g id=\"text_7\">\n      <!-- 20.0 -->\n      <g transform=\"translate(597.28851 464.595) scale(0.1 -0.1)\">\n       <use xlink:href=\"#SimHei-32\"/>\n       <use xlink:href=\"#SimHei-30\" x=\"50\"/>\n       <use xlink:href=\"#SimHei-2e\" x=\"100\"/>\n       <use xlink:href=\"#SimHei-30\" x=\"150\"/>\n      </g>\n     </g>\n    </g>\n    <g id=\"xtick_8\">\n     <g id=\"line2d_8\">\n      <g>\n       <use xlink:href=\"#m62ef3667a4\" x=\"695.889425\" y=\"450.72\" style=\"stroke: #000000; stroke-width: 0.8\"/>\n      </g>\n     </g>\n     <g id=\"text_8\">\n      <!-- 22.5 -->\n      <g transform=\"translate(685.889425 464.595) scale(0.1 -0.1)\">\n       <use xlink:href=\"#SimHei-32\"/>\n       <use xlink:href=\"#SimHei-32\" x=\"50\"/>\n       <use xlink:href=\"#SimHei-2e\" x=\"100\"/>\n       <use xlink:href=\"#SimHei-35\" x=\"150\"/>\n      </g>\n     </g>\n    </g>\n    <g id=\"text_9\">\n     <!-- 人口 -->\n     <g transform=\"translate(363 483.766875) scale(0.18 -0.18)\">\n      <defs>\n       <path id=\"SimHei-4eba\" d=\"M 350 -150 \nQ 1325 325 1875 1025 \nQ 2425 1725 2637 2462 \nQ 2850 3200 2875 3837 \nQ 2900 4475 2850 5175 \nQ 3125 5150 3475 5125 \nQ 3400 4725 3400 4300 \nQ 3400 3875 3450 3325 \nQ 3500 2775 4162 1662 \nQ 4825 550 6100 0 \nQ 5800 -300 5700 -500 \nQ 3950 350 3200 2575 \nQ 2700 600 775 -575 \nQ 625 -375 350 -150 \nz\n\" transform=\"scale(0.015625)\"/>\n       <path id=\"SimHei-53e3\" d=\"M 5425 4300 \nQ 5400 3775 5400 3175 \nL 5400 550 \nQ 5400 100 5425 -425 \nL 4900 -425 \nL 4900 100 \nL 1525 100 \nL 1525 -425 \nL 1000 -425 \nQ 1025 0 1025 550 \nL 1025 3175 \nQ 1025 3775 1000 4300 \nL 5425 4300 \nz\nM 4900 525 \nL 4900 3875 \nL 1525 3875 \nL 1525 525 \nL 4900 525 \nz\n\" transform=\"scale(0.015625)\"/>\n      </defs>\n      <use xlink:href=\"#SimHei-4eba\"/>\n      <use xlink:href=\"#SimHei-53e3\" x=\"100\"/>\n     </g>\n    </g>\n   </g>\n   <g id=\"matplotlib.axis_2\">\n    <g id=\"ytick_1\">\n     <g id=\"line2d_9\">\n      <defs>\n       <path id=\"mb888935357\" d=\"M 0 0 \nL -3.5 0 \n\" style=\"stroke: #000000; stroke-width: 0.8\"/>\n      </defs>\n      <g>\n       <use xlink:href=\"#mb888935357\" x=\"46.2\" y=\"390.271111\" style=\"stroke: #000000; stroke-width: 0.8\"/>\n      </g>\n     </g>\n     <g id=\"text_10\">\n      <!-- 0 -->\n      <g transform=\"translate(34.2 393.708611) scale(0.1 -0.1)\">\n       <use xlink:href=\"#SimHei-30\"/>\n      </g>\n     </g>\n    </g>\n    <g id=\"ytick_2\">\n     <g id=\"line2d_10\">\n      <g>\n       <use xlink:href=\"#mb888935357\" x=\"46.2\" y=\"315.1249\" style=\"stroke: #000000; stroke-width: 0.8\"/>\n      </g>\n     </g>\n     <g id=\"text_11\">\n      <!-- 5 -->\n      <g transform=\"translate(34.2 318.5624) scale(0.1 -0.1)\">\n       <use xlink:href=\"#SimHei-35\"/>\n      </g>\n     </g>\n    </g>\n    <g id=\"ytick_3\">\n     <g id=\"line2d_11\">\n      <g>\n       <use xlink:href=\"#mb888935357\" x=\"46.2\" y=\"239.978689\" style=\"stroke: #000000; stroke-width: 0.8\"/>\n      </g>\n     </g>\n     <g id=\"text_12\">\n      <!-- 10 -->\n      <g transform=\"translate(29.2 243.416189) scale(0.1 -0.1)\">\n       <use xlink:href=\"#SimHei-31\"/>\n       <use xlink:href=\"#SimHei-30\" x=\"50\"/>\n      </g>\n     </g>\n    </g>\n    <g id=\"ytick_4\">\n     <g id=\"line2d_12\">\n      <g>\n       <use xlink:href=\"#mb888935357\" x=\"46.2\" y=\"164.832478\" style=\"stroke: #000000; stroke-width: 0.8\"/>\n      </g>\n     </g>\n     <g id=\"text_13\">\n      <!-- 15 -->\n      <g transform=\"translate(29.2 168.269978) scale(0.1 -0.1)\">\n       <use xlink:href=\"#SimHei-31\"/>\n       <use xlink:href=\"#SimHei-35\" x=\"50\"/>\n      </g>\n     </g>\n    </g>\n    <g id=\"ytick_5\">\n     <g id=\"line2d_13\">\n      <g>\n       <use xlink:href=\"#mb888935357\" x=\"46.2\" y=\"89.686267\" style=\"stroke: #000000; stroke-width: 0.8\"/>\n      </g>\n     </g>\n     <g id=\"text_14\">\n      <!-- 20 -->\n      <g transform=\"translate(29.2 93.123767) scale(0.1 -0.1)\">\n       <use xlink:href=\"#SimHei-32\"/>\n       <use xlink:href=\"#SimHei-30\" x=\"50\"/>\n      </g>\n     </g>\n    </g>\n    <g id=\"ytick_6\">\n     <g id=\"line2d_14\">\n      <g>\n       <use xlink:href=\"#mb888935357\" x=\"46.2\" y=\"14.540056\" style=\"stroke: #000000; stroke-width: 0.8\"/>\n      </g>\n     </g>\n     <g id=\"text_15\">\n      <!-- 25 -->\n      <g transform=\"translate(29.2 17.977556) scale(0.1 -0.1)\">\n       <use xlink:href=\"#SimHei-32\"/>\n       <use xlink:href=\"#SimHei-35\" x=\"50\"/>\n      </g>\n     </g>\n    </g>\n    <g id=\"text_16\">\n     <!-- 收益 -->\n     <g transform=\"translate(7.2 226.71) scale(0.18 -0.18)\">\n      <defs>\n       <path id=\"SimHei-6536\" d=\"M 4250 5050 \nQ 4125 4850 3750 4050 \nL 5150 4050 \nQ 5675 4050 6125 4075 \nL 6125 3600 \nQ 5675 3625 5300 3625 \nQ 5225 2625 5025 1975 \nQ 4825 1325 4575 900 \nQ 4900 500 5287 275 \nQ 5675 50 6200 -75 \nQ 5900 -275 5800 -550 \nQ 5300 -350 4950 -100 \nQ 4600 150 4275 525 \nQ 3800 0 2775 -625 \nQ 2650 -425 2300 -225 \nQ 3275 150 3950 925 \nQ 3775 1325 3612 1787 \nQ 3450 2250 3250 3000 \nQ 2975 2450 2825 2275 \nQ 2650 2400 2425 2525 \nQ 2775 3025 3137 3837 \nQ 3500 4650 3625 5250 \nQ 3925 5125 4250 5050 \nz\nM 975 4275 \nQ 925 3950 925 3450 \nL 925 1575 \nL 1775 1725 \nL 1775 4425 \nQ 1775 4775 1750 5150 \nL 2250 5150 \nQ 2225 4850 2225 4450 \nL 2225 300 \nQ 2225 -50 2250 -550 \nL 1750 -550 \nQ 1775 -25 1775 350 \nL 1775 1350 \nQ 625 1050 500 925 \nQ 375 1125 225 1350 \nQ 450 1475 450 1800 \nL 450 3575 \nQ 450 3925 425 4275 \nL 975 4275 \nz\nM 3725 3150 \nQ 3800 2700 3962 2212 \nQ 4125 1725 4300 1375 \nQ 4725 2150 4825 3625 \nL 3575 3625 \nQ 3400 3275 3300 3100 \nL 3725 3150 \nz\n\" transform=\"scale(0.015625)\"/>\n       <path id=\"SimHei-76ca\" d=\"M 2825 2925 \nQ 2425 2775 2012 2487 \nQ 1600 2200 1225 1975 \nL 5275 1975 \nQ 5250 1575 5250 1000 \nL 5250 -50 \nQ 5800 -50 6175 -25 \nL 6175 -525 \nQ 5725 -500 5250 -500 \nL 1325 -500 \nQ 700 -500 250 -525 \nL 250 -25 \nQ 600 -50 1175 -50 \nL 1175 1050 \nQ 1175 1575 1150 1925 \nQ 1000 1800 800 1700 \nQ 650 1950 425 2125 \nQ 800 2275 1312 2600 \nQ 1825 2925 2325 3400 \nQ 2550 3150 2825 2925 \nz\nM 4725 5050 \nQ 4575 4900 4462 4637 \nQ 4350 4375 4175 4075 \nL 4625 4075 \nQ 5350 4075 5900 4100 \nL 5900 3625 \nQ 5350 3650 4625 3650 \nL 1975 3650 \nQ 1350 3650 550 3625 \nL 550 4100 \nQ 1175 4075 1975 4075 \nL 3675 4075 \nQ 3775 4300 3887 4625 \nQ 4000 4950 4125 5250 \nL 4725 5050 \nz\nM 3600 -50 \nL 3600 1575 \nL 2800 1575 \nL 2800 -50 \nL 3600 -50 \nz\nM 4800 -50 \nL 4800 1575 \nL 4025 1575 \nL 4025 -50 \nL 4800 -50 \nz\nM 2375 -50 \nL 2375 1575 \nL 1625 1575 \nL 1625 -50 \nL 2375 -50 \nz\nM 3900 3350 \nQ 4375 3150 4900 2925 \nQ 5425 2700 5900 2500 \nQ 5700 2300 5550 2000 \nQ 5025 2300 4512 2537 \nQ 4000 2775 3625 2900 \nQ 3750 3075 3900 3350 \nz\nM 2150 5250 \nQ 2375 4925 2650 4350 \nQ 2425 4275 2150 4125 \nQ 1950 4650 1675 5025 \nQ 1875 5100 2150 5250 \nz\n\" transform=\"scale(0.015625)\"/>\n      </defs>\n      <use xlink:href=\"#SimHei-6536\"/>\n      <use xlink:href=\"#SimHei-76ca\" x=\"100\"/>\n     </g>\n    </g>\n   </g>\n   <g id=\"patch_3\">\n    <path d=\"M 46.2 450.72 \nL 46.2 7.2 \n\" style=\"fill: none; stroke: #000000; stroke-width: 0.8; stroke-linejoin: miter; stroke-linecap: square\"/>\n   </g>\n   <g id=\"patch_4\">\n    <path d=\"M 715.8 450.72 \nL 715.8 7.2 \n\" style=\"fill: none; stroke: #000000; stroke-width: 0.8; stroke-linejoin: miter; stroke-linecap: square\"/>\n   </g>\n   <g id=\"patch_5\">\n    <path d=\"M 46.2 450.72 \nL 715.8 450.72 \n\" style=\"fill: none; stroke: #000000; stroke-width: 0.8; stroke-linejoin: miter; stroke-linecap: square\"/>\n   </g>\n   <g id=\"patch_6\">\n    <path d=\"M 46.2 7.2 \nL 715.8 7.2 \n\" style=\"fill: none; stroke: #000000; stroke-width: 0.8; stroke-linejoin: miter; stroke-linecap: square\"/>\n   </g>\n  </g>\n </g>\n <defs>\n  <clipPath id=\"p561af288c8\">\n   <rect x=\"46.2\" y=\"7.2\" width=\"669.6\" height=\"443.52\"/>\n  </clipPath>\n </defs>\n</svg>\n",
      "text/plain": [
       "<Figure size 1200x800 with 1 Axes>"
      ]
     },
     "metadata": {},
     "output_type": "display_data"
    }
   ],
   "source": [
    "data.plot(kind='scatter', x='人口', y='收益', figsize=(12,8), color='blue')\n",
    "plt.xlabel('人口', fontsize=18)\n",
    "plt.ylabel('收益', rotation=0, fontsize=18)\n",
    "plt.show()"
   ]
  },
  {
   "cell_type": "markdown",
   "metadata": {},
   "source": [
    "接下来使用梯度下降法最小化代价函数，以获得最优参数，进而得到回归方程。 "
   ]
  },
  {
   "cell_type": "markdown",
   "metadata": {},
   "source": [
    "首先，创建一个以参数$w$为变量的代价函数\n",
    "$$J\\left( w  \\right)=\\frac{1}{2m}\\sum\\limits_{i=1}^{m}{{{\\left( {{h}}\\left( {{x}^{(i)}} \\right)-{{y}^{(i)}} \\right)}^{2}}}$$\n",
    "其中：\\\\[{{h}}\\left( x \\right)={{w}^{T}}X={{w }_{0}}{{x}_{0}}+{{w }_{1}}{{x}_{1}}+{{w }_{2}}{{x}_{2}}+...+{{w }_{n}}{{x}_{n}}\\\\] "
   ]
  },
  {
   "cell_type": "code",
   "execution_count": 6,
   "metadata": {},
   "outputs": [],
   "source": [
    "def computeCost(X, y, w):\n",
    "    inner = np.power(((X * w.T) - y), 2)\n",
    "    return np.sum(inner) / (2 * X.shape[0])"
   ]
  },
  {
   "cell_type": "markdown",
   "metadata": {},
   "source": [
    "在数据集中添加一列，以便使用向量化的解决方案来计算代价和梯度。"
   ]
  },
  {
   "cell_type": "code",
   "execution_count": 7,
   "metadata": {},
   "outputs": [
    {
     "data": {
      "text/html": [
       "<div>\n",
       "<style scoped>\n",
       "    .dataframe tbody tr th:only-of-type {\n",
       "        vertical-align: middle;\n",
       "    }\n",
       "\n",
       "    .dataframe tbody tr th {\n",
       "        vertical-align: top;\n",
       "    }\n",
       "\n",
       "    .dataframe thead th {\n",
       "        text-align: right;\n",
       "    }\n",
       "</style>\n",
       "<table border=\"1\" class=\"dataframe\">\n",
       "  <thead>\n",
       "    <tr style=\"text-align: right;\">\n",
       "      <th></th>\n",
       "      <th>Ones</th>\n",
       "      <th>人口</th>\n",
       "      <th>收益</th>\n",
       "    </tr>\n",
       "  </thead>\n",
       "  <tbody>\n",
       "    <tr>\n",
       "      <th>0</th>\n",
       "      <td>1</td>\n",
       "      <td>6.1101</td>\n",
       "      <td>17.59200</td>\n",
       "    </tr>\n",
       "    <tr>\n",
       "      <th>1</th>\n",
       "      <td>1</td>\n",
       "      <td>5.5277</td>\n",
       "      <td>9.13020</td>\n",
       "    </tr>\n",
       "    <tr>\n",
       "      <th>2</th>\n",
       "      <td>1</td>\n",
       "      <td>8.5186</td>\n",
       "      <td>13.66200</td>\n",
       "    </tr>\n",
       "    <tr>\n",
       "      <th>3</th>\n",
       "      <td>1</td>\n",
       "      <td>7.0032</td>\n",
       "      <td>11.85400</td>\n",
       "    </tr>\n",
       "    <tr>\n",
       "      <th>4</th>\n",
       "      <td>1</td>\n",
       "      <td>5.8598</td>\n",
       "      <td>6.82330</td>\n",
       "    </tr>\n",
       "    <tr>\n",
       "      <th>...</th>\n",
       "      <td>...</td>\n",
       "      <td>...</td>\n",
       "      <td>...</td>\n",
       "    </tr>\n",
       "    <tr>\n",
       "      <th>92</th>\n",
       "      <td>1</td>\n",
       "      <td>5.8707</td>\n",
       "      <td>7.20290</td>\n",
       "    </tr>\n",
       "    <tr>\n",
       "      <th>93</th>\n",
       "      <td>1</td>\n",
       "      <td>5.3054</td>\n",
       "      <td>1.98690</td>\n",
       "    </tr>\n",
       "    <tr>\n",
       "      <th>94</th>\n",
       "      <td>1</td>\n",
       "      <td>8.2934</td>\n",
       "      <td>0.14454</td>\n",
       "    </tr>\n",
       "    <tr>\n",
       "      <th>95</th>\n",
       "      <td>1</td>\n",
       "      <td>13.3940</td>\n",
       "      <td>9.05510</td>\n",
       "    </tr>\n",
       "    <tr>\n",
       "      <th>96</th>\n",
       "      <td>1</td>\n",
       "      <td>5.4369</td>\n",
       "      <td>0.61705</td>\n",
       "    </tr>\n",
       "  </tbody>\n",
       "</table>\n",
       "<p>97 rows × 3 columns</p>\n",
       "</div>"
      ],
      "text/plain": [
       "    Ones       人口        收益\n",
       "0      1   6.1101  17.59200\n",
       "1      1   5.5277   9.13020\n",
       "2      1   8.5186  13.66200\n",
       "3      1   7.0032  11.85400\n",
       "4      1   5.8598   6.82330\n",
       "..   ...      ...       ...\n",
       "92     1   5.8707   7.20290\n",
       "93     1   5.3054   1.98690\n",
       "94     1   8.2934   0.14454\n",
       "95     1  13.3940   9.05510\n",
       "96     1   5.4369   0.61705\n",
       "\n",
       "[97 rows x 3 columns]"
      ]
     },
     "execution_count": 7,
     "metadata": {},
     "output_type": "execute_result"
    }
   ],
   "source": [
    "data.insert(0, 'Ones', 1)\n",
    "data"
   ]
  },
  {
   "cell_type": "markdown",
   "metadata": {},
   "source": [
    "设置训练数据 X 和目标变量值 y"
   ]
  },
  {
   "cell_type": "code",
   "execution_count": 8,
   "metadata": {},
   "outputs": [],
   "source": [
    "cols = data.shape[1]\n",
    "# 使用iloc函数对数据进行位置索引，从而在数据表中提取出相应的数据\n",
    "X = data.iloc[:,:cols-1] # X是所有行，去掉最后一列\n",
    "y = data.iloc[:,cols-1:] # y是所有行的最后一列"
   ]
  },
  {
   "cell_type": "markdown",
   "metadata": {},
   "source": [
    "观察下 X (训练集) and y (目标变量)是否正确."
   ]
  },
  {
   "cell_type": "code",
   "execution_count": 9,
   "metadata": {
    "scrolled": true
   },
   "outputs": [
    {
     "data": {
      "text/html": [
       "<div>\n",
       "<style scoped>\n",
       "    .dataframe tbody tr th:only-of-type {\n",
       "        vertical-align: middle;\n",
       "    }\n",
       "\n",
       "    .dataframe tbody tr th {\n",
       "        vertical-align: top;\n",
       "    }\n",
       "\n",
       "    .dataframe thead th {\n",
       "        text-align: right;\n",
       "    }\n",
       "</style>\n",
       "<table border=\"1\" class=\"dataframe\">\n",
       "  <thead>\n",
       "    <tr style=\"text-align: right;\">\n",
       "      <th></th>\n",
       "      <th>Ones</th>\n",
       "      <th>人口</th>\n",
       "    </tr>\n",
       "  </thead>\n",
       "  <tbody>\n",
       "    <tr>\n",
       "      <th>0</th>\n",
       "      <td>1</td>\n",
       "      <td>6.1101</td>\n",
       "    </tr>\n",
       "    <tr>\n",
       "      <th>1</th>\n",
       "      <td>1</td>\n",
       "      <td>5.5277</td>\n",
       "    </tr>\n",
       "    <tr>\n",
       "      <th>2</th>\n",
       "      <td>1</td>\n",
       "      <td>8.5186</td>\n",
       "    </tr>\n",
       "    <tr>\n",
       "      <th>3</th>\n",
       "      <td>1</td>\n",
       "      <td>7.0032</td>\n",
       "    </tr>\n",
       "    <tr>\n",
       "      <th>4</th>\n",
       "      <td>1</td>\n",
       "      <td>5.8598</td>\n",
       "    </tr>\n",
       "  </tbody>\n",
       "</table>\n",
       "</div>"
      ],
      "text/plain": [
       "   Ones      人口\n",
       "0     1  6.1101\n",
       "1     1  5.5277\n",
       "2     1  8.5186\n",
       "3     1  7.0032\n",
       "4     1  5.8598"
      ]
     },
     "execution_count": 9,
     "metadata": {},
     "output_type": "execute_result"
    }
   ],
   "source": [
    "X.head()"
   ]
  },
  {
   "cell_type": "code",
   "execution_count": 10,
   "metadata": {},
   "outputs": [
    {
     "data": {
      "text/html": [
       "<div>\n",
       "<style scoped>\n",
       "    .dataframe tbody tr th:only-of-type {\n",
       "        vertical-align: middle;\n",
       "    }\n",
       "\n",
       "    .dataframe tbody tr th {\n",
       "        vertical-align: top;\n",
       "    }\n",
       "\n",
       "    .dataframe thead th {\n",
       "        text-align: right;\n",
       "    }\n",
       "</style>\n",
       "<table border=\"1\" class=\"dataframe\">\n",
       "  <thead>\n",
       "    <tr style=\"text-align: right;\">\n",
       "      <th></th>\n",
       "      <th>收益</th>\n",
       "    </tr>\n",
       "  </thead>\n",
       "  <tbody>\n",
       "    <tr>\n",
       "      <th>0</th>\n",
       "      <td>17.5920</td>\n",
       "    </tr>\n",
       "    <tr>\n",
       "      <th>1</th>\n",
       "      <td>9.1302</td>\n",
       "    </tr>\n",
       "    <tr>\n",
       "      <th>2</th>\n",
       "      <td>13.6620</td>\n",
       "    </tr>\n",
       "    <tr>\n",
       "      <th>3</th>\n",
       "      <td>11.8540</td>\n",
       "    </tr>\n",
       "    <tr>\n",
       "      <th>4</th>\n",
       "      <td>6.8233</td>\n",
       "    </tr>\n",
       "  </tbody>\n",
       "</table>\n",
       "</div>"
      ],
      "text/plain": [
       "        收益\n",
       "0  17.5920\n",
       "1   9.1302\n",
       "2  13.6620\n",
       "3  11.8540\n",
       "4   6.8233"
      ]
     },
     "execution_count": 10,
     "metadata": {},
     "output_type": "execute_result"
    }
   ],
   "source": [
    "y.head()"
   ]
  },
  {
   "cell_type": "markdown",
   "metadata": {},
   "source": [
    "由于代价函数是应该是numpy矩阵，需要转换X和Y，同时初始化w"
   ]
  },
  {
   "cell_type": "code",
   "execution_count": 11,
   "metadata": {},
   "outputs": [],
   "source": [
    "X = np.matrix(X.values)\n",
    "y = np.matrix(y.values)\n",
    "w = np.matrix(np.array([0,0]))"
   ]
  },
  {
   "cell_type": "markdown",
   "metadata": {},
   "source": [
    "w 是一个(1,2)矩阵"
   ]
  },
  {
   "cell_type": "code",
   "execution_count": 12,
   "metadata": {},
   "outputs": [
    {
     "data": {
      "text/plain": [
       "matrix([[0, 0]])"
      ]
     },
     "execution_count": 12,
     "metadata": {},
     "output_type": "execute_result"
    }
   ],
   "source": [
    "w"
   ]
  },
  {
   "cell_type": "markdown",
   "metadata": {},
   "source": [
    "检测变量维度是否合法"
   ]
  },
  {
   "cell_type": "code",
   "execution_count": 13,
   "metadata": {},
   "outputs": [
    {
     "data": {
      "text/plain": [
       "((97, 2), (1, 2), (97, 1))"
      ]
     },
     "execution_count": 13,
     "metadata": {},
     "output_type": "execute_result"
    }
   ],
   "source": [
    "X.shape, w.shape, y.shape"
   ]
  },
  {
   "cell_type": "markdown",
   "metadata": {},
   "source": [
    "计算代价函数 (w初始值为0)"
   ]
  },
  {
   "cell_type": "code",
   "execution_count": 14,
   "metadata": {},
   "outputs": [
    {
     "data": {
      "text/plain": [
       "32.072733877455676"
      ]
     },
     "execution_count": 14,
     "metadata": {},
     "output_type": "execute_result"
    }
   ],
   "source": [
    "computeCost(X, y, w)"
   ]
  },
  {
   "cell_type": "markdown",
   "metadata": {},
   "source": [
    "# Batch Gradient Decent（批量梯度下降）\n",
    "\n",
    "$${{w }_{j}}:={{w }_{j}}- \\alpha \\frac{1}{m}\\sum\\limits_{i=1}^m \\frac{\\partial }{\\partial {{w}_{j}}}J\\left( w \\right)$$"
   ]
  },
  {
   "cell_type": "code",
   "execution_count": 15,
   "metadata": {},
   "outputs": [],
   "source": [
    "def batch_gradientDescent(X, y, w, alpha, iters):\n",
    "    temp = np.matrix(np.zeros(w.shape))\n",
    "    parameters = int(w.ravel().shape[1])\n",
    "    cost = np.zeros(iters)\n",
    "\n",
    "    for i in range(iters):\n",
    "        error = (X * w.T) - y\n",
    "\n",
    "        for j in range(parameters):\n",
    "            term = np.multiply(error, X[:, j])\n",
    "            temp[0, j] = w[0, j] - ((alpha / len(X)) * np.sum(term))\n",
    "\n",
    "        w = temp\n",
    "        cost[i] = computeCost(X, y, w)\n",
    "\n",
    "    return w, cost"
   ]
  },
  {
   "cell_type": "markdown",
   "metadata": {},
   "source": [
    "设置学习率α和最大迭代次数。"
   ]
  },
  {
   "cell_type": "code",
   "execution_count": 16,
   "metadata": {},
   "outputs": [],
   "source": [
    "alpha = 0.01\n",
    "iters = 1000"
   ]
  },
  {
   "cell_type": "markdown",
   "metadata": {},
   "source": [
    "根据训练数据，利用梯度下降法训练模型，即求解参数w"
   ]
  },
  {
   "cell_type": "code",
   "execution_count": 17,
   "metadata": {},
   "outputs": [
    {
     "data": {
      "text/plain": [
       "matrix([[-3.24140214,  1.1272942 ]])"
      ]
     },
     "execution_count": 17,
     "metadata": {},
     "output_type": "execute_result"
    }
   ],
   "source": [
    "w_opt, cost = batch_gradientDescent(X, y, w, alpha, iters)\n",
    "w_opt"
   ]
  },
  {
   "cell_type": "markdown",
   "metadata": {},
   "source": [
    "最后，使用优化得到的参数计算模型的代价函数值"
   ]
  },
  {
   "cell_type": "code",
   "execution_count": 18,
   "metadata": {},
   "outputs": [
    {
     "data": {
      "text/plain": [
       "4.515955503078914"
      ]
     },
     "execution_count": 18,
     "metadata": {},
     "output_type": "execute_result"
    }
   ],
   "source": [
    "computeCost(X, y, w_opt)"
   ]
  },
  {
   "cell_type": "markdown",
   "metadata": {},
   "source": [
    "绘制模型，展示数据拟合情况"
   ]
  },
  {
   "cell_type": "code",
   "execution_count": 19,
   "metadata": {},
   "outputs": [
    {
     "ename": "NameError",
     "evalue": "name 'g' is not defined",
     "output_type": "error",
     "traceback": [
      "\u001b[1;31m---------------------------------------------------------------------------\u001b[0m",
      "\u001b[1;31mNameError\u001b[0m                                 Traceback (most recent call last)",
      "Cell \u001b[1;32mIn [19], line 2\u001b[0m\n\u001b[0;32m      1\u001b[0m x \u001b[39m=\u001b[39m np\u001b[39m.\u001b[39mlinspace(data[\u001b[39m'\u001b[39m\u001b[39m人口\u001b[39m\u001b[39m'\u001b[39m]\u001b[39m.\u001b[39mmin(), data[\u001b[39m'\u001b[39m\u001b[39m人口\u001b[39m\u001b[39m'\u001b[39m]\u001b[39m.\u001b[39mmax(), \u001b[39m100\u001b[39m)\n\u001b[1;32m----> 2\u001b[0m f \u001b[39m=\u001b[39m g[\u001b[39m0\u001b[39m, \u001b[39m0\u001b[39m] \u001b[39m+\u001b[39m (g[\u001b[39m0\u001b[39m, \u001b[39m1\u001b[39m] \u001b[39m*\u001b[39m x)\n\u001b[0;32m      4\u001b[0m fig, ax \u001b[39m=\u001b[39m plt\u001b[39m.\u001b[39msubplots(figsize\u001b[39m=\u001b[39m(\u001b[39m12\u001b[39m, \u001b[39m8\u001b[39m))\n\u001b[0;32m      5\u001b[0m ax\u001b[39m.\u001b[39mplot(x, f, \u001b[39m'\u001b[39m\u001b[39mr\u001b[39m\u001b[39m'\u001b[39m, label\u001b[39m=\u001b[39m\u001b[39m'\u001b[39m\u001b[39m预测值\u001b[39m\u001b[39m'\u001b[39m)\n",
      "\u001b[1;31mNameError\u001b[0m: name 'g' is not defined"
     ]
    }
   ],
   "source": [
    "x = np.linspace(data['人口'].min(), data['人口'].max(), 100)\n",
    "f = g[0, 0] + (g[0, 1] * x)\n",
    "\n",
    "fig, ax = plt.subplots(figsize=(12, 8))\n",
    "ax.plot(x, f, 'r', label='预测值')\n",
    "ax.scatter(data['人口'], data['收益'], label='训练数据')\n",
    "ax.legend(loc=2)\n",
    "ax.set_xlabel('人口', fontsize=18)\n",
    "ax.set_ylabel('收益', rotation=0, fontsize=18)\n",
    "ax.set_title('预测收益和人口规模', fontsize=18)\n",
    "plt.show()"
   ]
  },
  {
   "cell_type": "markdown",
   "metadata": {},
   "source": [
    "绘制代价函数对迭代次数的变化趋势"
   ]
  },
  {
   "cell_type": "code",
   "execution_count": null,
   "metadata": {},
   "outputs": [
    {
     "data": {
      "image/png": "[encoded data removed]",
      "text/plain": [
       "<Figure size 864x576 with 1 Axes>"
      ]
     },
     "metadata": {
      "needs_background": "light"
     },
     "output_type": "display_data"
    }
   ],
   "source": [
    "fig, ax = plt.subplots(figsize=(12, 8))\n",
    "ax.plot(np.arange(iters), cost, 'b')\n",
    "ax.set_xlabel('迭代次数', fontsize=18)\n",
    "ax.set_ylabel('代价函数值', rotation=0, fontsize=18)\n",
    "ax.set_title('代价函数值 vs 迭代次数', fontsize=18)\n",
    "plt.show()"
   ]
  },
  {
   "cell_type": "markdown",
   "metadata": {},
   "source": [
    "## 多元线性回归"
   ]
  },
  {
   "cell_type": "markdown",
   "metadata": {},
   "source": [
    "练习还包括一个房屋价格数据集，其中有2个变量（房子的大小，卧室的数量）和目标（房子的价格）"
   ]
  },
  {
   "cell_type": "code",
   "execution_count": null,
   "metadata": {},
   "outputs": [
    {
     "data": {
      "text/html": [
       "<div>\n",
       "<style scoped>\n",
       "    .dataframe tbody tr th:only-of-type {\n",
       "        vertical-align: middle;\n",
       "    }\n",
       "\n",
       "    .dataframe tbody tr th {\n",
       "        vertical-align: top;\n",
       "    }\n",
       "\n",
       "    .dataframe thead th {\n",
       "        text-align: right;\n",
       "    }\n",
       "</style>\n",
       "<table border=\"1\" class=\"dataframe\">\n",
       "  <thead>\n",
       "    <tr style=\"text-align: right;\">\n",
       "      <th></th>\n",
       "      <th>面积</th>\n",
       "      <th>房间数</th>\n",
       "      <th>价格</th>\n",
       "    </tr>\n",
       "  </thead>\n",
       "  <tbody>\n",
       "    <tr>\n",
       "      <th>0</th>\n",
       "      <td>2104</td>\n",
       "      <td>3</td>\n",
       "      <td>399900</td>\n",
       "    </tr>\n",
       "    <tr>\n",
       "      <th>1</th>\n",
       "      <td>1600</td>\n",
       "      <td>3</td>\n",
       "      <td>329900</td>\n",
       "    </tr>\n",
       "    <tr>\n",
       "      <th>2</th>\n",
       "      <td>2400</td>\n",
       "      <td>3</td>\n",
       "      <td>369000</td>\n",
       "    </tr>\n",
       "    <tr>\n",
       "      <th>3</th>\n",
       "      <td>1416</td>\n",
       "      <td>2</td>\n",
       "      <td>232000</td>\n",
       "    </tr>\n",
       "    <tr>\n",
       "      <th>4</th>\n",
       "      <td>3000</td>\n",
       "      <td>4</td>\n",
       "      <td>539900</td>\n",
       "    </tr>\n",
       "  </tbody>\n",
       "</table>\n",
       "</div>"
      ],
      "text/plain": [
       "     面积  房间数      价格\n",
       "0  2104    3  399900\n",
       "1  1600    3  329900\n",
       "2  2400    3  369000\n",
       "3  1416    2  232000\n",
       "4  3000    4  539900"
      ]
     },
     "execution_count": 29,
     "metadata": {},
     "output_type": "execute_result"
    }
   ],
   "source": [
    "path =r'C:\\Users\\Administrator\\Documents\\MachineLearningExamples\\MLcourse\\linearregression\\data\\regress_data2.csv'\n",
    "data2 = pd.read_csv(path)\n",
    "data2.head()"
   ]
  },
  {
   "cell_type": "markdown",
   "metadata": {},
   "source": [
    "对于该任务，增加一个数据预处理步骤——特征归一化"
   ]
  },
  {
   "cell_type": "code",
   "execution_count": null,
   "metadata": {},
   "outputs": [
    {
     "data": {
      "text/html": [
       "<div>\n",
       "<style scoped>\n",
       "    .dataframe tbody tr th:only-of-type {\n",
       "        vertical-align: middle;\n",
       "    }\n",
       "\n",
       "    .dataframe tbody tr th {\n",
       "        vertical-align: top;\n",
       "    }\n",
       "\n",
       "    .dataframe thead th {\n",
       "        text-align: right;\n",
       "    }\n",
       "</style>\n",
       "<table border=\"1\" class=\"dataframe\">\n",
       "  <thead>\n",
       "    <tr style=\"text-align: right;\">\n",
       "      <th></th>\n",
       "      <th>面积</th>\n",
       "      <th>房间数</th>\n",
       "      <th>价格</th>\n",
       "    </tr>\n",
       "  </thead>\n",
       "  <tbody>\n",
       "    <tr>\n",
       "      <th>0</th>\n",
       "      <td>0.130010</td>\n",
       "      <td>-0.223675</td>\n",
       "      <td>0.475747</td>\n",
       "    </tr>\n",
       "    <tr>\n",
       "      <th>1</th>\n",
       "      <td>-0.504190</td>\n",
       "      <td>-0.223675</td>\n",
       "      <td>-0.084074</td>\n",
       "    </tr>\n",
       "    <tr>\n",
       "      <th>2</th>\n",
       "      <td>0.502476</td>\n",
       "      <td>-0.223675</td>\n",
       "      <td>0.228626</td>\n",
       "    </tr>\n",
       "    <tr>\n",
       "      <th>3</th>\n",
       "      <td>-0.735723</td>\n",
       "      <td>-1.537767</td>\n",
       "      <td>-0.867025</td>\n",
       "    </tr>\n",
       "    <tr>\n",
       "      <th>4</th>\n",
       "      <td>1.257476</td>\n",
       "      <td>1.090417</td>\n",
       "      <td>1.595389</td>\n",
       "    </tr>\n",
       "  </tbody>\n",
       "</table>\n",
       "</div>"
      ],
      "text/plain": [
       "         面积       房间数        价格\n",
       "0  0.130010 -0.223675  0.475747\n",
       "1 -0.504190 -0.223675 -0.084074\n",
       "2  0.502476 -0.223675  0.228626\n",
       "3 -0.735723 -1.537767 -0.867025\n",
       "4  1.257476  1.090417  1.595389"
      ]
     },
     "execution_count": 30,
     "metadata": {},
     "output_type": "execute_result"
    }
   ],
   "source": [
    "data2 = (data2 - data2.mean()) / data2.std()\n",
    "data2.head()"
   ]
  },
  {
   "cell_type": "markdown",
   "metadata": {},
   "source": [
    "重复第1部分的步骤，并对新的数据集运行线性回归程序"
   ]
  },
  {
   "cell_type": "code",
   "execution_count": null,
   "metadata": {},
   "outputs": [
    {
     "data": {
      "text/plain": [
       "0.13070336960771892"
      ]
     },
     "execution_count": 31,
     "metadata": {},
     "output_type": "execute_result"
    }
   ],
   "source": [
    "# add ones column\n",
    "data2.insert(0, 'Ones', 1)\n",
    "\n",
    "# set X (training data) and y (target variable)\n",
    "cols = data2.shape[1]\n",
    "X2 = data2.iloc[:,0:cols-1]\n",
    "y2 = data2.iloc[:,cols-1:cols]\n",
    "\n",
    "# convert to matrices and initialize theta\n",
    "X2 = np.matrix(X2.values)\n",
    "y2 = np.matrix(y2.values)\n",
    "w2 = np.matrix(np.array([0,0,0]))\n",
    "\n",
    "# perform linear regression on the data set\n",
    "g2, cost2 = batch_gradientDescent(X2, y2, w2, alpha, iters)\n",
    "\n",
    "# get the cost (error) of the model\n",
    "computeCost(X2, y2, g2)"
   ]
  },
  {
   "cell_type": "markdown",
   "metadata": {},
   "source": [
    "查看训练进程"
   ]
  },
  {
   "cell_type": "code",
   "execution_count": null,
   "metadata": {
    "scrolled": false
   },
   "outputs": [
    {
     "data": {
      "image/png": "[encoded data removed]",
      "text/plain": [
       "<Figure size 864x576 with 1 Axes>"
      ]
     },
     "metadata": {
      "needs_background": "light"
     },
     "output_type": "display_data"
    }
   ],
   "source": [
    "fig, ax = plt.subplots(figsize=(12,8))\n",
    "ax.plot(np.arange(iters), cost2, 'r')\n",
    "ax.set_xlabel('迭代次数', fontsize=18)\n",
    "ax.set_ylabel('代价', rotation=0, fontsize=18)\n",
    "ax.set_title('误差和训练Epoch数', fontsize=18)\n",
    "plt.show()"
   ]
  },
  {
   "cell_type": "markdown",
   "metadata": {},
   "source": [
    "### 也可以调用scikit-learn的线性回归函数，而不是从头编写算法。 \n",
    "接下来，将scikit-learn中的线性回归算法应用于第1部分的数据"
   ]
  },
  {
   "cell_type": "code",
   "execution_count": null,
   "metadata": {},
   "outputs": [
    {
     "data": {
      "text/plain": [
       "LinearRegression(copy_X=True, fit_intercept=True, n_jobs=1, normalize=False)"
      ]
     },
     "execution_count": 33,
     "metadata": {},
     "output_type": "execute_result"
    }
   ],
   "source": [
    "from sklearn.linear_model import LinearRegression\n",
    "model = LinearRegression()\n",
    "model.fit(X, y)"
   ]
  },
  {
   "cell_type": "markdown",
   "metadata": {},
   "source": [
    "scikit-learn model的预测表现"
   ]
  },
  {
   "cell_type": "code",
   "execution_count": null,
   "metadata": {
    "scrolled": false
   },
   "outputs": [
    {
     "data": {
      "image/png": "[encoded data removed]",
      "text/plain": [
       "<Figure size 864x576 with 1 Axes>"
      ]
     },
     "metadata": {
      "needs_background": "light"
     },
     "output_type": "display_data"
    }
   ],
   "source": [
    "x = np.array(X[:, 1].A1)\n",
    "f = model.predict(X).flatten()\n",
    "\n",
    "fig, ax = plt.subplots(figsize=(12, 8))\n",
    "ax.plot(x, f, 'r', label='预测值')\n",
    "ax.scatter(data['人口'], data['收益'], label='训练数据')\n",
    "ax.legend(loc=2, fontsize=18)\n",
    "ax.set_xlabel('人口', fontsize=18)\n",
    "ax.set_ylabel('收益', rotation=0, fontsize=18)\n",
    "ax.set_title('预测收益和人口规模', fontsize=18)\n",
    "plt.show()"
   ]
  },
  {
   "cell_type": "markdown",
   "metadata": {},
   "source": [
    "## $L_2$正则化\n",
    "$J (  { w } ) = \\frac { 1 } { 2 } \\sum _ { i = 1 } ^ { m } ( h _ { w} ( x ^ { ( i ) } ) - y ^ { ( i ) } ) ^ { 2 } + \\lambda \\sum _ { j = 1 } ^ { n } w_ { j } ^ { 2 }$，此时称作`Ridge Regression`："
   ]
  },
  {
   "cell_type": "code",
   "execution_count": null,
   "metadata": {},
   "outputs": [
    {
     "data": {
      "text/plain": [
       "Ridge(alpha=1.0, copy_X=True, fit_intercept=True, max_iter=None,\n",
       "   normalize=False, random_state=None, solver='auto', tol=0.001)"
      ]
     },
     "execution_count": 35,
     "metadata": {},
     "output_type": "execute_result"
    }
   ],
   "source": [
    "from sklearn.linear_model import Ridge\n",
    "model = Ridge()\n",
    "model.fit(X, y)"
   ]
  },
  {
   "cell_type": "code",
   "execution_count": null,
   "metadata": {
    "scrolled": false
   },
   "outputs": [
    {
     "data": {
      "image/png": "[encoded data removed]",
      "text/plain": [
       "<Figure size 864x576 with 1 Axes>"
      ]
     },
     "metadata": {
      "needs_background": "light"
     },
     "output_type": "display_data"
    }
   ],
   "source": [
    "x2 = np.array(X[:, 1].A1)\n",
    "f2 = model.predict(X).flatten()\n",
    "\n",
    "fig, ax = plt.subplots(figsize=(12, 8))\n",
    "ax.plot(x2, f2, 'r', label='预测值Ridge')\n",
    "ax.scatter(data['人口'], data['收益'], label='训练数据')\n",
    "ax.legend(loc=2, fontsize=18)\n",
    "ax.set_xlabel('人口', fontsize=18)\n",
    "ax.set_ylabel('收益', rotation=0, fontsize=18)\n",
    "ax.set_title('预测收益和人口规模', fontsize=18)\n",
    "plt.show()"
   ]
  },
  {
   "cell_type": "markdown",
   "metadata": {},
   "source": [
    "## $L_1$正则化：\n",
    "$J (  {w } ) = \\frac { 1 } { 2 } \\sum _ { i = 1 } ^ { m } ( h _ { w} ( x ^ { ( i ) } ) - y ^ { ( i ) } ) ^ { 2 } + \\lambda \\sum _ { j = 1 } ^ { n } | w _ { j } |$，此时称作`Lasso Regression` "
   ]
  },
  {
   "cell_type": "code",
   "execution_count": null,
   "metadata": {},
   "outputs": [
    {
     "data": {
      "text/plain": [
       "Lasso(alpha=1.0, copy_X=True, fit_intercept=True, max_iter=1000,\n",
       "   normalize=False, positive=False, precompute=False, random_state=None,\n",
       "   selection='cyclic', tol=0.0001, warm_start=False)"
      ]
     },
     "execution_count": 37,
     "metadata": {},
     "output_type": "execute_result"
    }
   ],
   "source": [
    "from sklearn.linear_model import Lasso\n",
    "model = Lasso()\n",
    "model.fit(X, y)"
   ]
  },
  {
   "cell_type": "code",
   "execution_count": null,
   "metadata": {},
   "outputs": [
    {
     "data": {
      "image/png": "[encoded data removed]",
      "text/plain": [
       "<Figure size 864x576 with 1 Axes>"
      ]
     },
     "metadata": {
      "needs_background": "light"
     },
     "output_type": "display_data"
    }
   ],
   "source": [
    "x3= np.array(X[:, 1].A1)\n",
    "f3 = model.predict(X).flatten()\n",
    "\n",
    "fig, ax = plt.subplots(figsize=(12, 8))\n",
    "ax.plot(x3, f3, 'r', label='预测值Lasso')\n",
    "ax.scatter(data['人口'], data['收益'], label='训练数据')\n",
    "ax.legend(loc=2, fontsize=18)\n",
    "ax.set_xlabel('人口', fontsize=18)\n",
    "ax.set_ylabel('收益', rotation=0, fontsize=18)\n",
    "ax.set_title('预测收益和人口规模', fontsize=18)\n",
    "plt.show()"
   ]
  },
  {
   "cell_type": "markdown",
   "metadata": {},
   "source": [
    "## 最小二乘法(LSM)：\n",
    "\n",
    "最小二乘法的需要求解最优参数$w^{*}$：\n",
    "\n",
    "已知：目标函数\n",
    "\n",
    "$J\\left( w  \\right)=\\frac{1}{2m}\\sum\\limits_{i=1}^{m}{{{\\left( {h}\\left( {x^{(i)}} \\right)-{y^{(i)}} \\right)}^{2}}}$\n",
    "\n",
    "其中：${h}\\left( x \\right)={w^{T}}X={w_{0}}{x_{0}}+{w_{1}}{x_{1}}+{w_{2}}{x_{2}}+...+{w_{n}}{x_{n}}$\n",
    "\n",
    "将向量表达形式转为矩阵表达形式，则有$J(w )=\\frac{1}{2}{{\\left( Xw -y\\right)}^{2}}$ ，其中$X$为$m$行$n+1$列的矩阵（$m$为样本个数，$n$为特征个数），$w$为$n+1$行1列的矩阵(包含了$w_0$)，$y$为$m$行1列的矩阵，则可以求得最优参数$w^{*} ={{\\left( {X^{T}}X \\right)}^{-1}}{X^{T}}y$ "
   ]
  },
  {
   "cell_type": "code",
   "execution_count": null,
   "metadata": {},
   "outputs": [],
   "source": [
    "def LSM(X, y):\n",
    "    w = np.linalg.inv(X.T@X)@X.T@y #np.linalg.inv()：矩阵求逆，X.T@X等价于X.T.dot(X)\n",
    "    return w"
   ]
  },
  {
   "cell_type": "code",
   "execution_count": null,
   "metadata": {},
   "outputs": [
    {
     "data": {
      "text/plain": [
       "matrix([[-3.89578088],\n",
       "        [ 1.19303364]])"
      ]
     },
     "execution_count": 63,
     "metadata": {},
     "output_type": "execute_result"
    }
   ],
   "source": [
    "final_w2=LSM(X, y)\n",
    "final_w2"
   ]
  },
  {
   "cell_type": "markdown",
   "metadata": {},
   "source": [
    "#### 梯度下降与最小二乘法的比较：\n",
    "梯度下降得到的结果是matrix([[-3.24140214,  1.1272942 ]])\n",
    "\n",
    "梯度下降：需要选择学习率$\\alpha$，需要多次迭代，当特征数量$n$大时也能较好适用，适用于各种类型的模型\n",
    "\n",
    "最小二乘法：不需要选择学习率$\\alpha$，一次计算得出，需要计算${{\\left( {{X}^{T}}X \\right)}^{-1}}$，如果特征数量$n$较大则运算代价大，因为矩阵逆的计算时间复杂度为$O(n^3)$，通常来说当$n$小于10000 时还是可以接受的"
   ]
  }
 ],
 "metadata": {
  "kernelspec": {
   "display_name": "Python 3.11.0 64-bit",
   "language": "python",
   "name": "python3"
  },
  "language_info": {
   "codemirror_mode": {
    "name": "ipython",
    "version": 3
   },
   "file_extension": ".py",
   "mimetype": "text/x-python",
   "name": "python",
   "nbconvert_exporter": "python",
   "pygments_lexer": "ipython3",
   "version": "3.11.0"
  },
  "vscode": {
   "interpreter": {
    "hash": "5238573367df39f7286bb46f9ff5f08f63a01a80960060ce41e3c79b190280fa"
   }
  }
 },
 "nbformat": 4,
 "nbformat_minor": 1
}
