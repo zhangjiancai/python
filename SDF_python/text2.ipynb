{
 "cells": [
  {
   "cell_type": "code",
   "execution_count": 18,
   "metadata": {},
   "outputs": [
    {
     "name": "stdout",
     "output_type": "stream",
     "text": [
      "\u001b[0;31m fdsf\n"
     ]
    }
   ],
   "source": [
    "print(\"\\033[0;31m fdsf\")"
   ]
  },
  {
   "cell_type": "code",
   "execution_count": 16,
   "metadata": {},
   "outputs": [
    {
     "name": "stdout",
     "output_type": "stream",
     "text": [
      "\u001b[1;33m Hello World. \u001b[0m \n",
      "\n"
     ]
    }
   ],
   "source": [
    "print(\"\\033[1;33m Hello World. \\033[0m \\n\");"
   ]
  },
  {
   "cell_type": "code",
   "execution_count": 17,
   "metadata": {},
   "outputs": [
    {
     "name": "stdout",
     "output_type": "stream",
     "text": [
      "sfsdgd\n"
     ]
    }
   ],
   "source": [
    "print(\"sfsdgd\")"
   ]
  },
  {
   "attachments": {},
   "cell_type": "markdown",
   "metadata": {},
   "source": [
    "```\n",
    "<pre name=\"code\" class=\"cpp\">颜色特效控制：  \n",
    "  \n",
    "printf(\"\\033[1;33m Hello World. \\033[0m \\n\");  \n",
    "颜色如下:  \n",
    "none         = \"\\033[0m\"  \n",
    "black        = \"\\033[0;30m\"  \n",
    "dark_gray    = \"\\033[1;30m\"  \n",
    "blue         = \"\\033[0;34m\"  \n",
    "light_blue   = \"\\033[1;34m\"  \n",
    "green        = \"\\033[0;32m\"  \n",
    "light_green -= \"\\033[1;32m\"  \n",
    "cyan         = \"\\033[0;36m\"  \n",
    "light_cyan   = \"\\033[1;36m\"  \n",
    "red          = \"\\033[0;31m\"  \n",
    "light_red    = \"\\033[1;31m\"  \n",
    "purple       = \"\\033[0;35m\"  \n",
    "light_purple = \"\\033[1;35m\"  \n",
    "brown        = \"\\033[0;33m\"  \n",
    "yellow       = \"\\033[1;33m\"  \n",
    "light_gray   = \"\\033[0;37m\"  \n",
    "white        = \"\\033[1;37m\"  \n",
    "  \n",
    "字背景颜色范围: 40--49                   字颜色: 30--39  \n",
    "            40: 黑                          30: 黑  \n",
    "        41:红                          31: 红  \n",
    "        42:绿                          32: 绿  \n",
    "        43:黄                          33: 黄  \n",
    "        44:蓝                          34: 蓝  \n",
    "        45:紫                          35: 紫  \n",
    "        46:深绿                        36: 深绿  \n",
    "        47:白色                        37: 白色  \n",
    "  \n",
    "   \n",
    "  \n",
    "输出特效格式控制：  \n",
    "  \n",
    "\\033[0m  关闭所有属性    \n",
    "\\033[1m   设置高亮度    \n",
    "\\03[4m   下划线    \n",
    "\\033[5m   闪烁    \n",
    "\\033[7m   反显    \n",
    "\\033[8m   消隐    \n",
    "\\033[30m   --   \\033[37m   设置前景色    \n",
    "\\033[40m   --   \\033[47m   设置背景色  \n",
    "  \n",
    "   \n",
    "  \n",
    "光标位置等的格式控制：  \n",
    "  \n",
    "\\033[nA  光标上移n行    \n",
    "\\03[nB   光标下移n行    \n",
    "\\033[nC   光标右移n行    \n",
    "\\033[nD   光标左移n行    \n",
    "\\033[y;xH设置光标位置    \n",
    "\\033[2J   清屏    \n",
    "\\033[K   清除从光标到行尾的内容    \n",
    "\\033[s   保存光标位置    \n",
    "\\033[u   恢复光标位置    \n",
    "\\033[?25l   隐藏光标    \n",
    "\\33[?25h   显示光标  \n",
    "```"
   ]
  },
  {
   "cell_type": "code",
   "execution_count": 26,
   "metadata": {},
   "outputs": [
    {
     "name": "stdout",
     "output_type": "stream",
     "text": [
      "\u001b[0;40m sdfdsf \u001b[37m\n"
     ]
    }
   ],
   "source": [
    "print(\"\\033[0;40m sdfdsf \\033[37m\")"
   ]
  },
  {
   "cell_type": "code",
   "execution_count": 44,
   "metadata": {},
   "outputs": [
    {
     "name": "stdout",
     "output_type": "stream",
     "text": [
      "\u001b[0;37m fjldksj 原来第一个只对第一个有用 \u001b[1;40m fjdslfj而两个则对后面都有用 \n"
     ]
    }
   ],
   "source": [
    "print(\"\\033[0;37m fjldksj 原来第一个只对第一个有用 \\033[1;40m fjdslfj而两个则对后面都有用 \")"
   ]
  },
  {
   "cell_type": "code",
   "execution_count": 45,
   "metadata": {},
   "outputs": [
    {
     "name": "stdout",
     "output_type": "stream",
     "text": [
      "\u001b[0;37m fjldksj 原来第一个只对第一个有用 \u001b[0;40m fjdslfj而两个则对后面都有用 \n"
     ]
    }
   ],
   "source": [
    "print(\"\\033[0;37m fjldksj 原来第一个只对第一个有用 \\033[0;40m fjdslfj而两个则对后面都有用 \")"
   ]
  },
  {
   "cell_type": "code",
   "execution_count": 46,
   "metadata": {},
   "outputs": [
    {
     "name": "stdout",
     "output_type": "stream",
     "text": [
      "\u001b[1;37m fjldksj 原来第一个只对第一个有用 \u001b[1;40m fjdslfj而两个则对后面都有用 \n"
     ]
    }
   ],
   "source": [
    "print(\"\\033[1;37m fjldksj 原来第一个只对第一个有用 \\033[1;40m fjdslfj而两个则对后面都有用 \")"
   ]
  },
  {
   "cell_type": "code",
   "execution_count": 47,
   "metadata": {},
   "outputs": [
    {
     "name": "stdout",
     "output_type": "stream",
     "text": [
      "\u001b[1;37m fjldksj 原来第一个只对第一个有用 \u001b[0;40m fjdslfj而两个则对后面都有用 \n"
     ]
    }
   ],
   "source": [
    "print(\"\\033[1;37m fjldksj 原来第一个只对第一个有用 \\033[0;40m fjdslfj而两个则对后面都有用 \")"
   ]
  }
 ],
 "metadata": {
  "kernelspec": {
   "display_name": "Python 3",
   "language": "python",
   "name": "python3"
  },
  "language_info": {
   "codemirror_mode": {
    "name": "ipython",
    "version": 3
   },
   "file_extension": ".py",
   "mimetype": "text/x-python",
   "name": "python",
   "nbconvert_exporter": "python",
   "pygments_lexer": "ipython3",
   "version": "3.11.1"
  },
  "orig_nbformat": 4,
  "vscode": {
   "interpreter": {
    "hash": "22b6aa23ebdb95c31771a605332d65b96d6e70a70a8e5cf021766a53e709a3c7"
   }
  }
 },
 "nbformat": 4,
 "nbformat_minor": 2
}
