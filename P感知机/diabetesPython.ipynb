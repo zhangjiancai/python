{
 "cells": [
  {
   "cell_type": "code",
   "execution_count": null,
   "metadata": {},
   "outputs": [],
   "source": [
    "import pandas as pd\n",
    "import numpy as np\n",
    "from sklearn.datasets import load_iris\n",
    "import matplotlib.pyplot as plt\n",
    "%matplotlib inline"
   ]
  },
  {
   "cell_type": "code",
   "execution_count": null,
   "metadata": {},
   "outputs": [],
   "source": [
    "\n",
    "import seaborn as sns"
   ]
  },
  {
   "cell_type": "code",
   "execution_count": null,
   "metadata": {},
   "outputs": [],
   "source": [
    "#loal data \n",
    "df = pd.read_csv(r'.\\diabetes.csv')\n",
    "df.head\n",
    "#df"
   ]
  },
  {
   "cell_type": "code",
   "execution_count": null,
   "metadata": {},
   "outputs": [],
   "source": [
    "df.columns"
   ]
  },
  {
   "cell_type": "code",
   "execution_count": null,
   "metadata": {},
   "outputs": [],
   "source": [
    "df.Outcome.value_counts() #计算每个不同的值（类）在该列中的个数，默认按降序排列。"
   ]
  },
  {
   "cell_type": "code",
   "execution_count": null,
   "metadata": {},
   "outputs": [],
   "source": [
    "#增加函数复用：我们将label由Outcome改变之\n",
    "#df['label'] = df.Outcome\n",
    "#增加了一个列label与Outcome一致\n"
   ]
  },
  {
   "cell_type": "code",
   "execution_count": null,
   "metadata": {},
   "outputs": [],
   "source": [
    "df.columns"
   ]
  },
  {
   "cell_type": "code",
   "execution_count": null,
   "metadata": {},
   "outputs": [],
   "source": [
    "#df.label.value_counts() #计算每个不同的值（类）在该列中的个数，默认按降序排列。"
   ]
  },
  {
   "cell_type": "code",
   "execution_count": null,
   "metadata": {},
   "outputs": [],
   "source": [
    "#print(df.loc[df['label'] == 1 ])"
   ]
  },
  {
   "cell_type": "code",
   "execution_count": null,
   "metadata": {},
   "outputs": [],
   "source": [
    "#df1 = df.loc[df['label'] == 1]\n",
    "#df0 = df.loc[df['label'] == 0]"
   ]
  },
  {
   "cell_type": "code",
   "execution_count": null,
   "metadata": {},
   "outputs": [],
   "source": [
    "#plt.scatter(df1[:-1][''],df1[:-1]['DiabetesPedigreeFunction'],label = '1')\n",
    "#plt.scatter(df0[:-1][''],df0[:-1]['DiabetesPedigreeFunction'],label = '0')\n",
    "#plt.legend()"
   ]
  },
  {
   "cell_type": "code",
   "execution_count": null,
   "metadata": {},
   "outputs": [],
   "source": [
    " \n",
    "#使用柱状图的方式画出标签个数统计\n",
    "plt.figure()\n",
    "df.Outcome.value_counts().plot(kind=\"bar\")\n"
   ]
  },
  {
   "cell_type": "code",
   "execution_count": null,
   "metadata": {},
   "outputs": [],
   "source": [
    "#plt.figure()\n",
    "#sns.pairplot(df,hue=\"Outcome\")"
   ]
  },
  {
   "attachments": {},
   "cell_type": "markdown",
   "metadata": {},
   "source": [
    "sns.heatmap()用于绘制热力图，热力图表示的是两个数据之间的相关性，数值范围是-1到1之间，大于0表示两个数据之间是正相关的，小于0表示两个数据之间是负相关的，等于0就是不相关。"
   ]
  },
  {
   "cell_type": "code",
   "execution_count": null,
   "metadata": {},
   "outputs": [],
   "source": [
    "plt.figure()\n",
    "sns.heatmap(df.corr(), annot=True)\n"
   ]
  },
  {
   "attachments": {},
   "cell_type": "markdown",
   "metadata": {},
   "source": [
    "从上述热力图可以看出一些明显的特征，如糖尿病的标签Outcome和葡萄糖测试值Glucose正相关系数比较大，说明葡萄糖测试值高的话，有可能患有糖尿病。同理，年龄Age和怀孕次数Pregnancies之间的相关性也比较强。"
   ]
  },
  {
   "cell_type": "code",
   "execution_count": null,
   "metadata": {},
   "outputs": [],
   "source": [
    "# KNN算法\n",
    "from sklearn.model_selection import train_test_split"
   ]
  },
  {
   "cell_type": "code",
   "execution_count": null,
   "metadata": {},
   "outputs": [],
   "source": [
    "# 把数据切分为特征X和标签y\n",
    "# 切分数据集，test_size=0.3表示30%为测试集。\n",
    "# stratify=y表示切分后训练集和测试集中的数据类型的比例跟切分前y中的比例一致\n",
    "# 如切分前y中0和1的比例为1:2，切分后y_train和y_test中0和1的比例也都是1:2\n",
    "#X = diabetes_data.drop(\"Outcome\",axis = 1)\n",
    "#y = diabetes_data.Outcome\n",
    "#X_train,X_test,y_train,y_test = train_test_split(X,y,test_size=0.3, stratify=y)"
   ]
  },
  {
   "cell_type": "code",
   "execution_count": null,
   "metadata": {},
   "outputs": [],
   "source": [
    "X_train,X_test,y_train,y_test=train_test_split(\\\n",
    "    df.loc[:,df.columns !='Outcome'],\\\n",
    "    df['Outcome'],stratify=df['Outcome'],random_state=66)"
   ]
  },
  {
   "cell_type": "code",
   "execution_count": null,
   "metadata": {},
   "outputs": [],
   "source": [
    "from sklearn.neighbors import KNeighborsClassifier"
   ]
  },
  {
   "cell_type": "code",
   "execution_count": null,
   "metadata": {},
   "outputs": [],
   "source": [
    "# 保存不同k值测试集准确率\n",
    "training_accuracy = []\n",
    "# 保存不同k值训练集准确率\n",
    "test_accuracy = []\n",
    "# try n_neighbors from 1 to 10\n",
    "neighbors_settings = range(1,11)\n"
   ]
  },
  {
   "cell_type": "code",
   "execution_count": null,
   "metadata": {},
   "outputs": [],
   "source": [
    "for n_neighbors in neighbors_settings:\n",
    "    # build the model\n",
    "    knn = KNeighborsClassifier(n_neighbors = n_neighbors)\n",
    "    knn.fit(X_train,y_train)\n",
    "    #record training set accuracy 保存训练集准确率\n",
    "    training_accuracy.append(knn.score(X_train,y_train))\n",
    "    #record test set accuracy  保存测试集准确率\n",
    "    test_accuracy.append(knn.score(X_test,y_test))\n"
   ]
  },
  {
   "cell_type": "code",
   "execution_count": null,
   "metadata": {},
   "outputs": [],
   "source": [
    "plt.figure()\n",
    "plt.plot(neighbors_settings,training_accuracy,label=\"training accuracy\")\n",
    "plt.plot(neighbors_settings,test_accuracy,label=\"test accuracy\")\n",
    "plt.ylabel(\"Accuracy\")\n",
    "plt.xlabel(\"n_neighbors\")\n",
    "#plt.legend()  # 给图像加上图例\n",
    "#plt.savefig('knn_compare_model')\n"
   ]
  },
  {
   "cell_type": "code",
   "execution_count": null,
   "metadata": {},
   "outputs": [],
   "source": [
    "knn = KNeighborsClassifier(n_neighbors=8)\n",
    "knn.fit(X_train,y_train)"
   ]
  },
  {
   "cell_type": "code",
   "execution_count": null,
   "metadata": {},
   "outputs": [],
   "source": [
    "print('Accuracy of K-NN classifier on training set:{:.2f}'.format(\\\n",
    "    knn.score(X_train,y_train)))\n",
    "print('Accuracy of K-NN classifier on training set:{:.2f}'.format(\\\n",
    "    knn.score(X_test,y_test)))\n"
   ]
  },
  {
   "cell_type": "code",
   "execution_count": null,
   "metadata": {},
   "outputs": [],
   "source": [
    "from sklearn.metrics import confusion_matrix\n",
    "from sklearn.metrics import classification_report\n",
    "y_pred = knn.predict(X_test)\n",
    "print(classification_report(y_pred, y_test))"
   ]
  },
  {
   "cell_type": "code",
   "execution_count": null,
   "metadata": {},
   "outputs": [],
   "source": [
    "confusion = confusion_matrix(y_pred, y_test)\n",
    "df_cm = pd.DataFrame(confusion)\n",
    "sns.heatmap(df_cm, annot=True)\n",
    "plt.figure()\n",
    "\n",
    "plt.show()\n"
   ]
  },
  {
   "cell_type": "code",
   "execution_count": null,
   "metadata": {},
   "outputs": [],
   "source": [
    "import sklearn\n",
    "from sklearn.linear_model import Perceptron"
   ]
  },
  {
   "cell_type": "code",
   "execution_count": null,
   "metadata": {},
   "outputs": [],
   "source": [
    "sklearn.__version__"
   ]
  },
  {
   "cell_type": "code",
   "execution_count": null,
   "metadata": {},
   "outputs": [],
   "source": [
    "X_train,X_test,y_train,y_test=train_test_split(\\\n",
    "    df.loc[:,df.columns !='Outcome'],\\\n",
    "    df['Outcome'],stratify=df['Outcome'])"
   ]
  },
  {
   "cell_type": "code",
   "execution_count": null,
   "metadata": {},
   "outputs": [],
   "source": [
    "clf = Perceptron(fit_intercept=True,tol = None,max_iter=10000000,shuffle=True,n_jobs=-1,)\n",
    "clf.fit(X_train, y_train)\n",
    "print(clf.coef_)\n",
    "print(clf.intercept_)"
   ]
  },
  {
   "cell_type": "code",
   "execution_count": null,
   "metadata": {},
   "outputs": [],
   "source": [
    "acc = clf.score(X_test,y_test)    # 使用测试集进行验证\n",
    "print(acc)\n"
   ]
  }
 ],
 "metadata": {
  "kernelspec": {
   "display_name": "Python 3",
   "language": "python",
   "name": "python3"
  },
  "language_info": {
   "codemirror_mode": {
    "name": "ipython",
    "version": 3
   },
   "file_extension": ".py",
   "mimetype": "text/x-python",
   "name": "python",
   "nbconvert_exporter": "python",
   "pygments_lexer": "ipython3",
   "version": "3.11.1"
  },
  "orig_nbformat": 4,
  "vscode": {
   "interpreter": {
    "hash": "36b4f0bb1171169ce7b652aa8b75d075435a7a681f2b1dabdf631d733aa34ed1"
   }
  }
 },
 "nbformat": 4,
 "nbformat_minor": 2
}
