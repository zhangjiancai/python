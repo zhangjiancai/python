{
 "cells": [
  {
   "cell_type": "code",
   "execution_count": 36,
   "metadata": {},
   "outputs": [],
   "source": [
    "import numpy as np\n",
    "import pandas as pd\n",
    "from sklearn.datasets import load_iris"
   ]
  },
  {
   "cell_type": "code",
   "execution_count": 37,
   "metadata": {},
   "outputs": [],
   "source": [
    "mydict = [{'a': 1, 'b': 2, 'c': 3, 'd': 4},\n",
    "        {'a': 100, 'b': 200, 'c': 300, 'd': 400},\n",
    "        {'a': 1000, 'b': 2000, 'c': 3000, 'd': 4000 }]"
   ]
  },
  {
   "cell_type": "code",
   "execution_count": 38,
   "metadata": {},
   "outputs": [],
   "source": [
    "# load data\n",
    "iris = load_iris()\n",
    "df2 = pd.DataFrame(iris.data, columns=iris.feature_names)\n",
    "df2['label'] = iris.target\n",
    "##df2"
   ]
  },
  {
   "cell_type": "code",
   "execution_count": 39,
   "metadata": {},
   "outputs": [
    {
     "data": {
      "text/plain": [
       "['setosa', 'versicolor', 'virginica']"
      ]
     },
     "execution_count": 39,
     "metadata": {},
     "output_type": "execute_result"
    }
   ],
   "source": [
    "list(iris.target_names)"
   ]
  },
  {
   "cell_type": "code",
   "execution_count": 40,
   "metadata": {},
   "outputs": [
    {
     "data": {
      "text/plain": [
       "[{'a': 1, 'b': 2, 'c': 3, 'd': 4},\n",
       " {'a': 100, 'b': 200, 'c': 300, 'd': 400},\n",
       " {'a': 1000, 'b': 2000, 'c': 3000, 'd': 4000}]"
      ]
     },
     "execution_count": 40,
     "metadata": {},
     "output_type": "execute_result"
    }
   ],
   "source": [
    "mydict"
   ]
  },
  {
   "cell_type": "code",
   "execution_count": 41,
   "metadata": {},
   "outputs": [
    {
     "data": {
      "text/html": [
       "<div>\n",
       "<style scoped>\n",
       "    .dataframe tbody tr th:only-of-type {\n",
       "        vertical-align: middle;\n",
       "    }\n",
       "\n",
       "    .dataframe tbody tr th {\n",
       "        vertical-align: top;\n",
       "    }\n",
       "\n",
       "    .dataframe thead th {\n",
       "        text-align: right;\n",
       "    }\n",
       "</style>\n",
       "<table border=\"1\" class=\"dataframe\">\n",
       "  <thead>\n",
       "    <tr style=\"text-align: right;\">\n",
       "      <th></th>\n",
       "      <th>a</th>\n",
       "      <th>b</th>\n",
       "      <th>c</th>\n",
       "      <th>d</th>\n",
       "    </tr>\n",
       "  </thead>\n",
       "  <tbody>\n",
       "    <tr>\n",
       "      <th>0</th>\n",
       "      <td>1</td>\n",
       "      <td>2</td>\n",
       "      <td>3</td>\n",
       "      <td>4</td>\n",
       "    </tr>\n",
       "    <tr>\n",
       "      <th>1</th>\n",
       "      <td>100</td>\n",
       "      <td>200</td>\n",
       "      <td>300</td>\n",
       "      <td>400</td>\n",
       "    </tr>\n",
       "    <tr>\n",
       "      <th>2</th>\n",
       "      <td>1000</td>\n",
       "      <td>2000</td>\n",
       "      <td>3000</td>\n",
       "      <td>4000</td>\n",
       "    </tr>\n",
       "  </tbody>\n",
       "</table>\n",
       "</div>"
      ],
      "text/plain": [
       "      a     b     c     d\n",
       "0     1     2     3     4\n",
       "1   100   200   300   400\n",
       "2  1000  2000  3000  4000"
      ]
     },
     "execution_count": 41,
     "metadata": {},
     "output_type": "execute_result"
    }
   ],
   "source": [
    "df = pd.DataFrame(mydict)\n",
    "df"
   ]
  },
  {
   "cell_type": "code",
   "execution_count": 42,
   "metadata": {},
   "outputs": [
    {
     "data": {
      "text/plain": [
       "pandas.core.series.Series"
      ]
     },
     "execution_count": 42,
     "metadata": {},
     "output_type": "execute_result"
    }
   ],
   "source": [
    "type(df2.iloc[1])"
   ]
  },
  {
   "cell_type": "code",
   "execution_count": 43,
   "metadata": {},
   "outputs": [
    {
     "data": {
      "text/plain": [
       "sepal length (cm)    4.9\n",
       "sepal width (cm)     3.0\n",
       "petal length (cm)    1.4\n",
       "petal width (cm)     0.2\n",
       "label                0.0\n",
       "Name: 1, dtype: float64"
      ]
     },
     "execution_count": 43,
     "metadata": {},
     "output_type": "execute_result"
    }
   ],
   "source": [
    "df2.iloc[1]"
   ]
  },
  {
   "cell_type": "code",
   "execution_count": 44,
   "metadata": {},
   "outputs": [
    {
     "data": {
      "text/html": [
       "<div>\n",
       "<style scoped>\n",
       "    .dataframe tbody tr th:only-of-type {\n",
       "        vertical-align: middle;\n",
       "    }\n",
       "\n",
       "    .dataframe tbody tr th {\n",
       "        vertical-align: top;\n",
       "    }\n",
       "\n",
       "    .dataframe thead th {\n",
       "        text-align: right;\n",
       "    }\n",
       "</style>\n",
       "<table border=\"1\" class=\"dataframe\">\n",
       "  <thead>\n",
       "    <tr style=\"text-align: right;\">\n",
       "      <th></th>\n",
       "      <th>sepal length (cm)</th>\n",
       "      <th>sepal width (cm)</th>\n",
       "      <th>petal length (cm)</th>\n",
       "      <th>petal width (cm)</th>\n",
       "      <th>label</th>\n",
       "    </tr>\n",
       "  </thead>\n",
       "  <tbody>\n",
       "    <tr>\n",
       "      <th>0</th>\n",
       "      <td>5.1</td>\n",
       "      <td>3.5</td>\n",
       "      <td>1.4</td>\n",
       "      <td>0.2</td>\n",
       "      <td>0</td>\n",
       "    </tr>\n",
       "  </tbody>\n",
       "</table>\n",
       "</div>"
      ],
      "text/plain": [
       "   sepal length (cm)  sepal width (cm)  petal length (cm)  petal width (cm)  \\\n",
       "0                5.1               3.5                1.4               0.2   \n",
       "\n",
       "   label  \n",
       "0      0  "
      ]
     },
     "execution_count": 44,
     "metadata": {},
     "output_type": "execute_result"
    }
   ],
   "source": [
    "df2.iloc[[0]]"
   ]
  },
  {
   "cell_type": "code",
   "execution_count": 45,
   "metadata": {},
   "outputs": [
    {
     "data": {
      "text/plain": [
       "pandas.core.frame.DataFrame"
      ]
     },
     "execution_count": 45,
     "metadata": {},
     "output_type": "execute_result"
    }
   ],
   "source": [
    "type(df.iloc[[0]])"
   ]
  },
  {
   "cell_type": "code",
   "execution_count": 46,
   "metadata": {},
   "outputs": [
    {
     "data": {
      "text/html": [
       "<div>\n",
       "<style scoped>\n",
       "    .dataframe tbody tr th:only-of-type {\n",
       "        vertical-align: middle;\n",
       "    }\n",
       "\n",
       "    .dataframe tbody tr th {\n",
       "        vertical-align: top;\n",
       "    }\n",
       "\n",
       "    .dataframe thead th {\n",
       "        text-align: right;\n",
       "    }\n",
       "</style>\n",
       "<table border=\"1\" class=\"dataframe\">\n",
       "  <thead>\n",
       "    <tr style=\"text-align: right;\">\n",
       "      <th></th>\n",
       "      <th>sepal length (cm)</th>\n",
       "      <th>sepal width (cm)</th>\n",
       "      <th>petal length (cm)</th>\n",
       "      <th>petal width (cm)</th>\n",
       "      <th>label</th>\n",
       "    </tr>\n",
       "  </thead>\n",
       "  <tbody>\n",
       "    <tr>\n",
       "      <th>0</th>\n",
       "      <td>5.1</td>\n",
       "      <td>3.5</td>\n",
       "      <td>1.4</td>\n",
       "      <td>0.2</td>\n",
       "      <td>0</td>\n",
       "    </tr>\n",
       "    <tr>\n",
       "      <th>1</th>\n",
       "      <td>4.9</td>\n",
       "      <td>3.0</td>\n",
       "      <td>1.4</td>\n",
       "      <td>0.2</td>\n",
       "      <td>0</td>\n",
       "    </tr>\n",
       "  </tbody>\n",
       "</table>\n",
       "</div>"
      ],
      "text/plain": [
       "   sepal length (cm)  sepal width (cm)  petal length (cm)  petal width (cm)  \\\n",
       "0                5.1               3.5                1.4               0.2   \n",
       "1                4.9               3.0                1.4               0.2   \n",
       "\n",
       "   label  \n",
       "0      0  \n",
       "1      0  "
      ]
     },
     "execution_count": 46,
     "metadata": {},
     "output_type": "execute_result"
    }
   ],
   "source": [
    "df2.iloc[[0, 1]]"
   ]
  },
  {
   "cell_type": "code",
   "execution_count": 47,
   "metadata": {},
   "outputs": [
    {
     "data": {
      "text/html": [
       "<div>\n",
       "<style scoped>\n",
       "    .dataframe tbody tr th:only-of-type {\n",
       "        vertical-align: middle;\n",
       "    }\n",
       "\n",
       "    .dataframe tbody tr th {\n",
       "        vertical-align: top;\n",
       "    }\n",
       "\n",
       "    .dataframe thead th {\n",
       "        text-align: right;\n",
       "    }\n",
       "</style>\n",
       "<table border=\"1\" class=\"dataframe\">\n",
       "  <thead>\n",
       "    <tr style=\"text-align: right;\">\n",
       "      <th></th>\n",
       "      <th>sepal length (cm)</th>\n",
       "      <th>sepal width (cm)</th>\n",
       "      <th>petal length (cm)</th>\n",
       "      <th>petal width (cm)</th>\n",
       "      <th>label</th>\n",
       "    </tr>\n",
       "  </thead>\n",
       "  <tbody>\n",
       "    <tr>\n",
       "      <th>0</th>\n",
       "      <td>5.1</td>\n",
       "      <td>3.5</td>\n",
       "      <td>1.4</td>\n",
       "      <td>0.2</td>\n",
       "      <td>0</td>\n",
       "    </tr>\n",
       "    <tr>\n",
       "      <th>1</th>\n",
       "      <td>4.9</td>\n",
       "      <td>3.0</td>\n",
       "      <td>1.4</td>\n",
       "      <td>0.2</td>\n",
       "      <td>0</td>\n",
       "    </tr>\n",
       "    <tr>\n",
       "      <th>2</th>\n",
       "      <td>4.7</td>\n",
       "      <td>3.2</td>\n",
       "      <td>1.3</td>\n",
       "      <td>0.2</td>\n",
       "      <td>0</td>\n",
       "    </tr>\n",
       "    <tr>\n",
       "      <th>3</th>\n",
       "      <td>4.6</td>\n",
       "      <td>3.1</td>\n",
       "      <td>1.5</td>\n",
       "      <td>0.2</td>\n",
       "      <td>0</td>\n",
       "    </tr>\n",
       "    <tr>\n",
       "      <th>4</th>\n",
       "      <td>5.0</td>\n",
       "      <td>3.6</td>\n",
       "      <td>1.4</td>\n",
       "      <td>0.2</td>\n",
       "      <td>0</td>\n",
       "    </tr>\n",
       "    <tr>\n",
       "      <th>5</th>\n",
       "      <td>5.4</td>\n",
       "      <td>3.9</td>\n",
       "      <td>1.7</td>\n",
       "      <td>0.4</td>\n",
       "      <td>0</td>\n",
       "    </tr>\n",
       "    <tr>\n",
       "      <th>6</th>\n",
       "      <td>4.6</td>\n",
       "      <td>3.4</td>\n",
       "      <td>1.4</td>\n",
       "      <td>0.3</td>\n",
       "      <td>0</td>\n",
       "    </tr>\n",
       "    <tr>\n",
       "      <th>7</th>\n",
       "      <td>5.0</td>\n",
       "      <td>3.4</td>\n",
       "      <td>1.5</td>\n",
       "      <td>0.2</td>\n",
       "      <td>0</td>\n",
       "    </tr>\n",
       "    <tr>\n",
       "      <th>8</th>\n",
       "      <td>4.4</td>\n",
       "      <td>2.9</td>\n",
       "      <td>1.4</td>\n",
       "      <td>0.2</td>\n",
       "      <td>0</td>\n",
       "    </tr>\n",
       "  </tbody>\n",
       "</table>\n",
       "</div>"
      ],
      "text/plain": [
       "   sepal length (cm)  sepal width (cm)  petal length (cm)  petal width (cm)  \\\n",
       "0                5.1               3.5                1.4               0.2   \n",
       "1                4.9               3.0                1.4               0.2   \n",
       "2                4.7               3.2                1.3               0.2   \n",
       "3                4.6               3.1                1.5               0.2   \n",
       "4                5.0               3.6                1.4               0.2   \n",
       "5                5.4               3.9                1.7               0.4   \n",
       "6                4.6               3.4                1.4               0.3   \n",
       "7                5.0               3.4                1.5               0.2   \n",
       "8                4.4               2.9                1.4               0.2   \n",
       "\n",
       "   label  \n",
       "0      0  \n",
       "1      0  \n",
       "2      0  \n",
       "3      0  \n",
       "4      0  \n",
       "5      0  \n",
       "6      0  \n",
       "7      0  \n",
       "8      0  "
      ]
     },
     "execution_count": 47,
     "metadata": {},
     "output_type": "execute_result"
    }
   ],
   "source": [
    "df2.iloc[:9]"
   ]
  },
  {
   "cell_type": "code",
   "execution_count": 48,
   "metadata": {},
   "outputs": [
    {
     "data": {
      "text/html": [
       "<div>\n",
       "<style scoped>\n",
       "    .dataframe tbody tr th:only-of-type {\n",
       "        vertical-align: middle;\n",
       "    }\n",
       "\n",
       "    .dataframe tbody tr th {\n",
       "        vertical-align: top;\n",
       "    }\n",
       "\n",
       "    .dataframe thead th {\n",
       "        text-align: right;\n",
       "    }\n",
       "</style>\n",
       "<table border=\"1\" class=\"dataframe\">\n",
       "  <thead>\n",
       "    <tr style=\"text-align: right;\">\n",
       "      <th></th>\n",
       "      <th>a</th>\n",
       "      <th>b</th>\n",
       "      <th>c</th>\n",
       "      <th>d</th>\n",
       "    </tr>\n",
       "  </thead>\n",
       "  <tbody>\n",
       "    <tr>\n",
       "      <th>0</th>\n",
       "      <td>1</td>\n",
       "      <td>2</td>\n",
       "      <td>3</td>\n",
       "      <td>4</td>\n",
       "    </tr>\n",
       "    <tr>\n",
       "      <th>2</th>\n",
       "      <td>1000</td>\n",
       "      <td>2000</td>\n",
       "      <td>3000</td>\n",
       "      <td>4000</td>\n",
       "    </tr>\n",
       "  </tbody>\n",
       "</table>\n",
       "</div>"
      ],
      "text/plain": [
       "      a     b     c     d\n",
       "0     1     2     3     4\n",
       "2  1000  2000  3000  4000"
      ]
     },
     "execution_count": 48,
     "metadata": {},
     "output_type": "execute_result"
    }
   ],
   "source": [
    "df.iloc[[True, False, True]]"
   ]
  },
  {
   "cell_type": "code",
   "execution_count": 12,
   "metadata": {},
   "outputs": [
    {
     "data": {
      "text/plain": [
       "<matplotlib.legend.Legend at 0x287dad33bd0>"
      ]
     },
     "execution_count": 12,
     "metadata": {},
     "output_type": "execute_result"
    },
    {
     "data": {
      "image/png": "[encoded data removed]",
      "image/svg+xml": "<?xml version=\"1.0\" encoding=\"utf-8\" standalone=\"no\"?>\n<!DOCTYPE svg PUBLIC \"-//W3C//DTD SVG 1.1//EN\"\n  \"http://www.w3.org/Graphics/SVG/1.1/DTD/svg11.dtd\">\n<svg xmlns:xlink=\"http://www.w3.org/1999/xlink\" width=\"408.838267pt\" height=\"325.986375pt\" viewBox=\"0 0 408.838267 325.986375\" xmlns=\"http://www.w3.org/2000/svg\" version=\"1.1\">\n <metadata>\n  <rdf:RDF xmlns:dc=\"http://purl.org/dc/elements/1.1/\" xmlns:cc=\"http://creativecommons.org/ns#\" xmlns:rdf=\"http://www.w3.org/1999/02/22-rdf-syntax-ns#\">\n   <cc:Work>\n    <dc:type rdf:resource=\"http://purl.org/dc/dcmitype/StillImage\"/>\n    <dc:date>2022-11-13T18:01:38.026025</dc:date>\n    <dc:format>image/svg+xml</dc:format>\n    <dc:creator>\n     <cc:Agent>\n      <dc:title>Matplotlib v3.6.2, https://matplotlib.org/</dc:title>\n     </cc:Agent>\n    </dc:creator>\n   </cc:Work>\n  </rdf:RDF>\n </metadata>\n <defs>\n  <style type=\"text/css\">*{stroke-linejoin: round; stroke-linecap: butt}</style>\n </defs>\n <g id=\"figure_1\">\n  <g id=\"patch_1\">\n   <path d=\"M 0 325.986375 \nL 408.838267 325.986375 \nL 408.838267 0 \nL 0 0 \nz\n\" style=\"fill: #ffffff\"/>\n  </g>\n  <g id=\"axes_1\">\n   <g id=\"patch_2\">\n    <path d=\"M 43.78125 288.430125 \nL 400.90125 288.430125 \nL 400.90125 22.318125 \nL 43.78125 22.318125 \nz\n\" style=\"fill: #ffffff\"/>\n   </g>\n   <g id=\"PathCollection_1\">\n    <defs>\n     <path id=\"mc47adf5495\" d=\"M 0 2.738613 \nC 0.726289 2.738613 1.422928 2.450055 1.936492 1.936492 \nC 2.450055 1.422928 2.738613 0.726289 2.738613 0 \nC 2.738613 -0.726289 2.450055 -1.422928 1.936492 -1.936492 \nC 1.422928 -2.450055 0.726289 -2.738613 0 -2.738613 \nC -0.726289 -2.738613 -1.422928 -2.450055 -1.936492 -1.936492 \nC -2.450055 -1.422928 -2.738613 -0.726289 -2.738613 0 \nC -2.738613 0.726289 -2.450055 1.422928 -1.936492 1.936492 \nC -1.422928 2.450055 -0.726289 2.738613 0 2.738613 \nz\n\" style=\"stroke: #0000ff\"/>\n    </defs>\n    <g clip-path=\"url(#pdec34a5125)\">\n     <use xlink:href=\"#mc47adf5495\" x=\"132.159432\" y=\"125.134125\" style=\"fill: #0000ff; stroke: #0000ff\"/>\n     <use xlink:href=\"#mc47adf5495\" x=\"114.123068\" y=\"175.534125\" style=\"fill: #0000ff; stroke: #0000ff\"/>\n     <use xlink:href=\"#mc47adf5495\" x=\"96.086705\" y=\"155.374125\" style=\"fill: #0000ff; stroke: #0000ff\"/>\n     <use xlink:href=\"#mc47adf5495\" x=\"87.068523\" y=\"165.454125\" style=\"fill: #0000ff; stroke: #0000ff\"/>\n     <use xlink:href=\"#mc47adf5495\" x=\"123.14125\" y=\"115.054125\" style=\"fill: #0000ff; stroke: #0000ff\"/>\n     <use xlink:href=\"#mc47adf5495\" x=\"159.213977\" y=\"84.814125\" style=\"fill: #0000ff; stroke: #0000ff\"/>\n     <use xlink:href=\"#mc47adf5495\" x=\"87.068523\" y=\"135.214125\" style=\"fill: #0000ff; stroke: #0000ff\"/>\n     <use xlink:href=\"#mc47adf5495\" x=\"123.14125\" y=\"135.214125\" style=\"fill: #0000ff; stroke: #0000ff\"/>\n     <use xlink:href=\"#mc47adf5495\" x=\"69.032159\" y=\"185.614125\" style=\"fill: #0000ff; stroke: #0000ff\"/>\n     <use xlink:href=\"#mc47adf5495\" x=\"114.123068\" y=\"165.454125\" style=\"fill: #0000ff; stroke: #0000ff\"/>\n     <use xlink:href=\"#mc47adf5495\" x=\"159.213977\" y=\"104.974125\" style=\"fill: #0000ff; stroke: #0000ff\"/>\n     <use xlink:href=\"#mc47adf5495\" x=\"105.104886\" y=\"135.214125\" style=\"fill: #0000ff; stroke: #0000ff\"/>\n     <use xlink:href=\"#mc47adf5495\" x=\"105.104886\" y=\"175.534125\" style=\"fill: #0000ff; stroke: #0000ff\"/>\n     <use xlink:href=\"#mc47adf5495\" x=\"60.013977\" y=\"175.534125\" style=\"fill: #0000ff; stroke: #0000ff\"/>\n     <use xlink:href=\"#mc47adf5495\" x=\"195.286705\" y=\"74.734125\" style=\"fill: #0000ff; stroke: #0000ff\"/>\n     <use xlink:href=\"#mc47adf5495\" x=\"186.268523\" y=\"34.414125\" style=\"fill: #0000ff; stroke: #0000ff\"/>\n     <use xlink:href=\"#mc47adf5495\" x=\"159.213977\" y=\"84.814125\" style=\"fill: #0000ff; stroke: #0000ff\"/>\n     <use xlink:href=\"#mc47adf5495\" x=\"132.159432\" y=\"125.134125\" style=\"fill: #0000ff; stroke: #0000ff\"/>\n     <use xlink:href=\"#mc47adf5495\" x=\"186.268523\" y=\"94.894125\" style=\"fill: #0000ff; stroke: #0000ff\"/>\n     <use xlink:href=\"#mc47adf5495\" x=\"132.159432\" y=\"94.894125\" style=\"fill: #0000ff; stroke: #0000ff\"/>\n     <use xlink:href=\"#mc47adf5495\" x=\"159.213977\" y=\"135.214125\" style=\"fill: #0000ff; stroke: #0000ff\"/>\n     <use xlink:href=\"#mc47adf5495\" x=\"132.159432\" y=\"104.974125\" style=\"fill: #0000ff; stroke: #0000ff\"/>\n     <use xlink:href=\"#mc47adf5495\" x=\"87.068523\" y=\"115.054125\" style=\"fill: #0000ff; stroke: #0000ff\"/>\n     <use xlink:href=\"#mc47adf5495\" x=\"132.159432\" y=\"145.294125\" style=\"fill: #0000ff; stroke: #0000ff\"/>\n     <use xlink:href=\"#mc47adf5495\" x=\"105.104886\" y=\"135.214125\" style=\"fill: #0000ff; stroke: #0000ff\"/>\n     <use xlink:href=\"#mc47adf5495\" x=\"123.14125\" y=\"175.534125\" style=\"fill: #0000ff; stroke: #0000ff\"/>\n     <use xlink:href=\"#mc47adf5495\" x=\"123.14125\" y=\"135.214125\" style=\"fill: #0000ff; stroke: #0000ff\"/>\n     <use xlink:href=\"#mc47adf5495\" x=\"141.177614\" y=\"125.134125\" style=\"fill: #0000ff; stroke: #0000ff\"/>\n     <use xlink:href=\"#mc47adf5495\" x=\"141.177614\" y=\"135.214125\" style=\"fill: #0000ff; stroke: #0000ff\"/>\n     <use xlink:href=\"#mc47adf5495\" x=\"96.086705\" y=\"155.374125\" style=\"fill: #0000ff; stroke: #0000ff\"/>\n     <use xlink:href=\"#mc47adf5495\" x=\"105.104886\" y=\"165.454125\" style=\"fill: #0000ff; stroke: #0000ff\"/>\n     <use xlink:href=\"#mc47adf5495\" x=\"159.213977\" y=\"135.214125\" style=\"fill: #0000ff; stroke: #0000ff\"/>\n     <use xlink:href=\"#mc47adf5495\" x=\"141.177614\" y=\"64.654125\" style=\"fill: #0000ff; stroke: #0000ff\"/>\n     <use xlink:href=\"#mc47adf5495\" x=\"168.232159\" y=\"54.574125\" style=\"fill: #0000ff; stroke: #0000ff\"/>\n     <use xlink:href=\"#mc47adf5495\" x=\"114.123068\" y=\"165.454125\" style=\"fill: #0000ff; stroke: #0000ff\"/>\n     <use xlink:href=\"#mc47adf5495\" x=\"123.14125\" y=\"155.374125\" style=\"fill: #0000ff; stroke: #0000ff\"/>\n     <use xlink:href=\"#mc47adf5495\" x=\"168.232159\" y=\"125.134125\" style=\"fill: #0000ff; stroke: #0000ff\"/>\n     <use xlink:href=\"#mc47adf5495\" x=\"114.123068\" y=\"115.054125\" style=\"fill: #0000ff; stroke: #0000ff\"/>\n     <use xlink:href=\"#mc47adf5495\" x=\"69.032159\" y=\"175.534125\" style=\"fill: #0000ff; stroke: #0000ff\"/>\n     <use xlink:href=\"#mc47adf5495\" x=\"132.159432\" y=\"135.214125\" style=\"fill: #0000ff; stroke: #0000ff\"/>\n     <use xlink:href=\"#mc47adf5495\" x=\"123.14125\" y=\"125.134125\" style=\"fill: #0000ff; stroke: #0000ff\"/>\n     <use xlink:href=\"#mc47adf5495\" x=\"78.050341\" y=\"246.094125\" style=\"fill: #0000ff; stroke: #0000ff\"/>\n     <use xlink:href=\"#mc47adf5495\" x=\"69.032159\" y=\"155.374125\" style=\"fill: #0000ff; stroke: #0000ff\"/>\n     <use xlink:href=\"#mc47adf5495\" x=\"123.14125\" y=\"125.134125\" style=\"fill: #0000ff; stroke: #0000ff\"/>\n     <use xlink:href=\"#mc47adf5495\" x=\"132.159432\" y=\"94.894125\" style=\"fill: #0000ff; stroke: #0000ff\"/>\n     <use xlink:href=\"#mc47adf5495\" x=\"105.104886\" y=\"175.534125\" style=\"fill: #0000ff; stroke: #0000ff\"/>\n     <use xlink:href=\"#mc47adf5495\" x=\"132.159432\" y=\"94.894125\" style=\"fill: #0000ff; stroke: #0000ff\"/>\n     <use xlink:href=\"#mc47adf5495\" x=\"87.068523\" y=\"155.374125\" style=\"fill: #0000ff; stroke: #0000ff\"/>\n     <use xlink:href=\"#mc47adf5495\" x=\"150.195795\" y=\"104.974125\" style=\"fill: #0000ff; stroke: #0000ff\"/>\n     <use xlink:href=\"#mc47adf5495\" x=\"123.14125\" y=\"145.294125\" style=\"fill: #0000ff; stroke: #0000ff\"/>\n    </g>\n   </g>\n   <g id=\"PathCollection_2\">\n    <defs>\n     <path id=\"md6ad5a957b\" d=\"M 0 3.535534 \nC 0.937635 3.535534 1.836992 3.163008 2.5 2.5 \nC 3.163008 1.836992 3.535534 0.937635 3.535534 0 \nC 3.535534 -0.937635 3.163008 -1.836992 2.5 -2.5 \nC 1.836992 -3.163008 0.937635 -3.535534 0 -3.535534 \nC -0.937635 -3.535534 -1.836992 -3.163008 -2.5 -2.5 \nC -3.163008 -1.836992 -3.535534 -0.937635 -3.535534 0 \nC -3.535534 0.937635 -3.163008 1.836992 -2.5 2.5 \nC -1.836992 3.163008 -0.937635 3.535534 0 3.535534 \nz\n\" style=\"stroke: #ff0000\"/>\n    </defs>\n    <g clip-path=\"url(#pdec34a5125)\">\n     <use xlink:href=\"#md6ad5a957b\" x=\"303.504886\" y=\"155.374125\" style=\"fill: #ff0000; stroke: #ff0000\"/>\n     <use xlink:href=\"#md6ad5a957b\" x=\"249.395795\" y=\"155.374125\" style=\"fill: #ff0000; stroke: #ff0000\"/>\n     <use xlink:href=\"#md6ad5a957b\" x=\"294.486705\" y=\"165.454125\" style=\"fill: #ff0000; stroke: #ff0000\"/>\n     <use xlink:href=\"#md6ad5a957b\" x=\"168.232159\" y=\"246.094125\" style=\"fill: #ff0000; stroke: #ff0000\"/>\n     <use xlink:href=\"#md6ad5a957b\" x=\"258.413977\" y=\"195.694125\" style=\"fill: #ff0000; stroke: #ff0000\"/>\n     <use xlink:href=\"#md6ad5a957b\" x=\"186.268523\" y=\"195.694125\" style=\"fill: #ff0000; stroke: #ff0000\"/>\n     <use xlink:href=\"#md6ad5a957b\" x=\"240.377614\" y=\"145.294125\" style=\"fill: #ff0000; stroke: #ff0000\"/>\n     <use xlink:href=\"#md6ad5a957b\" x=\"114.123068\" y=\"236.014125\" style=\"fill: #ff0000; stroke: #ff0000\"/>\n     <use xlink:href=\"#md6ad5a957b\" x=\"267.432159\" y=\"185.614125\" style=\"fill: #ff0000; stroke: #ff0000\"/>\n     <use xlink:href=\"#md6ad5a957b\" x=\"141.177614\" y=\"205.774125\" style=\"fill: #ff0000; stroke: #ff0000\"/>\n     <use xlink:href=\"#md6ad5a957b\" x=\"123.14125\" y=\"276.334125\" style=\"fill: #ff0000; stroke: #ff0000\"/>\n     <use xlink:href=\"#md6ad5a957b\" x=\"204.304886\" y=\"175.534125\" style=\"fill: #ff0000; stroke: #ff0000\"/>\n     <use xlink:href=\"#md6ad5a957b\" x=\"213.323068\" y=\"256.174125\" style=\"fill: #ff0000; stroke: #ff0000\"/>\n     <use xlink:href=\"#md6ad5a957b\" x=\"222.34125\" y=\"185.614125\" style=\"fill: #ff0000; stroke: #ff0000\"/>\n     <use xlink:href=\"#md6ad5a957b\" x=\"177.250341\" y=\"185.614125\" style=\"fill: #ff0000; stroke: #ff0000\"/>\n     <use xlink:href=\"#md6ad5a957b\" x=\"276.450341\" y=\"165.454125\" style=\"fill: #ff0000; stroke: #ff0000\"/>\n     <use xlink:href=\"#md6ad5a957b\" x=\"177.250341\" y=\"175.534125\" style=\"fill: #ff0000; stroke: #ff0000\"/>\n     <use xlink:href=\"#md6ad5a957b\" x=\"195.286705\" y=\"205.774125\" style=\"fill: #ff0000; stroke: #ff0000\"/>\n     <use xlink:href=\"#md6ad5a957b\" x=\"231.359432\" y=\"256.174125\" style=\"fill: #ff0000; stroke: #ff0000\"/>\n     <use xlink:href=\"#md6ad5a957b\" x=\"177.250341\" y=\"225.934125\" style=\"fill: #ff0000; stroke: #ff0000\"/>\n     <use xlink:href=\"#md6ad5a957b\" x=\"204.304886\" y=\"155.374125\" style=\"fill: #ff0000; stroke: #ff0000\"/>\n     <use xlink:href=\"#md6ad5a957b\" x=\"222.34125\" y=\"195.694125\" style=\"fill: #ff0000; stroke: #ff0000\"/>\n     <use xlink:href=\"#md6ad5a957b\" x=\"240.377614\" y=\"225.934125\" style=\"fill: #ff0000; stroke: #ff0000\"/>\n     <use xlink:href=\"#md6ad5a957b\" x=\"222.34125\" y=\"195.694125\" style=\"fill: #ff0000; stroke: #ff0000\"/>\n     <use xlink:href=\"#md6ad5a957b\" x=\"249.395795\" y=\"185.614125\" style=\"fill: #ff0000; stroke: #ff0000\"/>\n     <use xlink:href=\"#md6ad5a957b\" x=\"267.432159\" y=\"175.534125\" style=\"fill: #ff0000; stroke: #ff0000\"/>\n     <use xlink:href=\"#md6ad5a957b\" x=\"285.468523\" y=\"195.694125\" style=\"fill: #ff0000; stroke: #ff0000\"/>\n     <use xlink:href=\"#md6ad5a957b\" x=\"276.450341\" y=\"175.534125\" style=\"fill: #ff0000; stroke: #ff0000\"/>\n     <use xlink:href=\"#md6ad5a957b\" x=\"213.323068\" y=\"185.614125\" style=\"fill: #ff0000; stroke: #ff0000\"/>\n     <use xlink:href=\"#md6ad5a957b\" x=\"186.268523\" y=\"215.854125\" style=\"fill: #ff0000; stroke: #ff0000\"/>\n     <use xlink:href=\"#md6ad5a957b\" x=\"168.232159\" y=\"236.014125\" style=\"fill: #ff0000; stroke: #ff0000\"/>\n     <use xlink:href=\"#md6ad5a957b\" x=\"168.232159\" y=\"236.014125\" style=\"fill: #ff0000; stroke: #ff0000\"/>\n     <use xlink:href=\"#md6ad5a957b\" x=\"195.286705\" y=\"205.774125\" style=\"fill: #ff0000; stroke: #ff0000\"/>\n     <use xlink:href=\"#md6ad5a957b\" x=\"213.323068\" y=\"205.774125\" style=\"fill: #ff0000; stroke: #ff0000\"/>\n     <use xlink:href=\"#md6ad5a957b\" x=\"159.213977\" y=\"175.534125\" style=\"fill: #ff0000; stroke: #ff0000\"/>\n     <use xlink:href=\"#md6ad5a957b\" x=\"213.323068\" y=\"135.214125\" style=\"fill: #ff0000; stroke: #ff0000\"/>\n     <use xlink:href=\"#md6ad5a957b\" x=\"276.450341\" y=\"165.454125\" style=\"fill: #ff0000; stroke: #ff0000\"/>\n     <use xlink:href=\"#md6ad5a957b\" x=\"240.377614\" y=\"246.094125\" style=\"fill: #ff0000; stroke: #ff0000\"/>\n     <use xlink:href=\"#md6ad5a957b\" x=\"177.250341\" y=\"175.534125\" style=\"fill: #ff0000; stroke: #ff0000\"/>\n     <use xlink:href=\"#md6ad5a957b\" x=\"168.232159\" y=\"225.934125\" style=\"fill: #ff0000; stroke: #ff0000\"/>\n     <use xlink:href=\"#md6ad5a957b\" x=\"168.232159\" y=\"215.854125\" style=\"fill: #ff0000; stroke: #ff0000\"/>\n     <use xlink:href=\"#md6ad5a957b\" x=\"222.34125\" y=\"175.534125\" style=\"fill: #ff0000; stroke: #ff0000\"/>\n     <use xlink:href=\"#md6ad5a957b\" x=\"195.286705\" y=\"215.854125\" style=\"fill: #ff0000; stroke: #ff0000\"/>\n     <use xlink:href=\"#md6ad5a957b\" x=\"123.14125\" y=\"246.094125\" style=\"fill: #ff0000; stroke: #ff0000\"/>\n     <use xlink:href=\"#md6ad5a957b\" x=\"177.250341\" y=\"205.774125\" style=\"fill: #ff0000; stroke: #ff0000\"/>\n     <use xlink:href=\"#md6ad5a957b\" x=\"186.268523\" y=\"175.534125\" style=\"fill: #ff0000; stroke: #ff0000\"/>\n     <use xlink:href=\"#md6ad5a957b\" x=\"186.268523\" y=\"185.614125\" style=\"fill: #ff0000; stroke: #ff0000\"/>\n     <use xlink:href=\"#md6ad5a957b\" x=\"231.359432\" y=\"185.614125\" style=\"fill: #ff0000; stroke: #ff0000\"/>\n     <use xlink:href=\"#md6ad5a957b\" x=\"132.159432\" y=\"225.934125\" style=\"fill: #ff0000; stroke: #ff0000\"/>\n     <use xlink:href=\"#md6ad5a957b\" x=\"186.268523\" y=\"195.694125\" style=\"fill: #ff0000; stroke: #ff0000\"/>\n    </g>\n   </g>\n   <g id=\"PathCollection_3\">\n    <defs>\n     <path id=\"m373934e47d\" d=\"M 0 2.95804 \nC 0.784481 2.95804 1.536938 2.646362 2.09165 2.09165 \nC 2.646362 1.536938 2.95804 0.784481 2.95804 0 \nC 2.95804 -0.784481 2.646362 -1.536938 2.09165 -2.09165 \nC 1.536938 -2.646362 0.784481 -2.95804 0 -2.95804 \nC -0.784481 -2.95804 -1.536938 -2.646362 -2.09165 -2.09165 \nC -2.646362 -1.536938 -2.95804 -0.784481 -2.95804 0 \nC -2.95804 0.784481 -2.646362 1.536938 -2.09165 2.09165 \nC -1.536938 2.646362 -0.784481 2.95804 0 2.95804 \nz\n\" style=\"stroke: #bfbf00\"/>\n    </defs>\n    <g clip-path=\"url(#pdec34a5125)\">\n     <use xlink:href=\"#m373934e47d\" x=\"240.377614\" y=\"145.294125\" style=\"fill: #bfbf00; stroke: #bfbf00\"/>\n     <use xlink:href=\"#m373934e47d\" x=\"195.286705\" y=\"205.774125\" style=\"fill: #bfbf00; stroke: #bfbf00\"/>\n     <use xlink:href=\"#m373934e47d\" x=\"312.523068\" y=\"175.534125\" style=\"fill: #bfbf00; stroke: #bfbf00\"/>\n     <use xlink:href=\"#m373934e47d\" x=\"240.377614\" y=\"185.614125\" style=\"fill: #bfbf00; stroke: #bfbf00\"/>\n     <use xlink:href=\"#m373934e47d\" x=\"258.413977\" y=\"175.534125\" style=\"fill: #bfbf00; stroke: #bfbf00\"/>\n     <use xlink:href=\"#m373934e47d\" x=\"357.613977\" y=\"175.534125\" style=\"fill: #bfbf00; stroke: #bfbf00\"/>\n     <use xlink:href=\"#m373934e47d\" x=\"114.123068\" y=\"225.934125\" style=\"fill: #bfbf00; stroke: #bfbf00\"/>\n     <use xlink:href=\"#m373934e47d\" x=\"330.559432\" y=\"185.614125\" style=\"fill: #bfbf00; stroke: #bfbf00\"/>\n     <use xlink:href=\"#m373934e47d\" x=\"276.450341\" y=\"225.934125\" style=\"fill: #bfbf00; stroke: #bfbf00\"/>\n     <use xlink:href=\"#m373934e47d\" x=\"321.54125\" y=\"115.054125\" style=\"fill: #bfbf00; stroke: #bfbf00\"/>\n     <use xlink:href=\"#m373934e47d\" x=\"258.413977\" y=\"155.374125\" style=\"fill: #bfbf00; stroke: #bfbf00\"/>\n     <use xlink:href=\"#m373934e47d\" x=\"249.395795\" y=\"205.774125\" style=\"fill: #bfbf00; stroke: #bfbf00\"/>\n     <use xlink:href=\"#m373934e47d\" x=\"285.468523\" y=\"175.534125\" style=\"fill: #bfbf00; stroke: #bfbf00\"/>\n     <use xlink:href=\"#m373934e47d\" x=\"186.268523\" y=\"225.934125\" style=\"fill: #bfbf00; stroke: #bfbf00\"/>\n     <use xlink:href=\"#m373934e47d\" x=\"195.286705\" y=\"195.694125\" style=\"fill: #bfbf00; stroke: #bfbf00\"/>\n     <use xlink:href=\"#m373934e47d\" x=\"249.395795\" y=\"155.374125\" style=\"fill: #bfbf00; stroke: #bfbf00\"/>\n     <use xlink:href=\"#m373934e47d\" x=\"258.413977\" y=\"175.534125\" style=\"fill: #bfbf00; stroke: #bfbf00\"/>\n     <use xlink:href=\"#m373934e47d\" x=\"366.632159\" y=\"94.894125\" style=\"fill: #bfbf00; stroke: #bfbf00\"/>\n     <use xlink:href=\"#m373934e47d\" x=\"366.632159\" y=\"215.854125\" style=\"fill: #bfbf00; stroke: #bfbf00\"/>\n     <use xlink:href=\"#m373934e47d\" x=\"213.323068\" y=\"256.174125\" style=\"fill: #bfbf00; stroke: #bfbf00\"/>\n     <use xlink:href=\"#m373934e47d\" x=\"294.486705\" y=\"155.374125\" style=\"fill: #bfbf00; stroke: #bfbf00\"/>\n     <use xlink:href=\"#m373934e47d\" x=\"177.250341\" y=\"195.694125\" style=\"fill: #bfbf00; stroke: #bfbf00\"/>\n     <use xlink:href=\"#m373934e47d\" x=\"366.632159\" y=\"195.694125\" style=\"fill: #bfbf00; stroke: #bfbf00\"/>\n     <use xlink:href=\"#m373934e47d\" x=\"240.377614\" y=\"205.774125\" style=\"fill: #bfbf00; stroke: #bfbf00\"/>\n     <use xlink:href=\"#m373934e47d\" x=\"276.450341\" y=\"145.294125\" style=\"fill: #bfbf00; stroke: #bfbf00\"/>\n     <use xlink:href=\"#m373934e47d\" x=\"321.54125\" y=\"155.374125\" style=\"fill: #bfbf00; stroke: #bfbf00\"/>\n     <use xlink:href=\"#m373934e47d\" x=\"231.359432\" y=\"195.694125\" style=\"fill: #bfbf00; stroke: #bfbf00\"/>\n     <use xlink:href=\"#m373934e47d\" x=\"222.34125\" y=\"175.534125\" style=\"fill: #bfbf00; stroke: #bfbf00\"/>\n     <use xlink:href=\"#m373934e47d\" x=\"249.395795\" y=\"195.694125\" style=\"fill: #bfbf00; stroke: #bfbf00\"/>\n     <use xlink:href=\"#m373934e47d\" x=\"321.54125\" y=\"175.534125\" style=\"fill: #bfbf00; stroke: #bfbf00\"/>\n     <use xlink:href=\"#m373934e47d\" x=\"339.577614\" y=\"195.694125\" style=\"fill: #bfbf00; stroke: #bfbf00\"/>\n     <use xlink:href=\"#m373934e47d\" x=\"384.668523\" y=\"94.894125\" style=\"fill: #bfbf00; stroke: #bfbf00\"/>\n     <use xlink:href=\"#m373934e47d\" x=\"249.395795\" y=\"195.694125\" style=\"fill: #bfbf00; stroke: #bfbf00\"/>\n     <use xlink:href=\"#m373934e47d\" x=\"240.377614\" y=\"195.694125\" style=\"fill: #bfbf00; stroke: #bfbf00\"/>\n     <use xlink:href=\"#m373934e47d\" x=\"222.34125\" y=\"215.854125\" style=\"fill: #bfbf00; stroke: #bfbf00\"/>\n     <use xlink:href=\"#m373934e47d\" x=\"366.632159\" y=\"175.534125\" style=\"fill: #bfbf00; stroke: #bfbf00\"/>\n     <use xlink:href=\"#m373934e47d\" x=\"240.377614\" y=\"135.214125\" style=\"fill: #bfbf00; stroke: #bfbf00\"/>\n     <use xlink:href=\"#m373934e47d\" x=\"249.395795\" y=\"165.454125\" style=\"fill: #bfbf00; stroke: #bfbf00\"/>\n     <use xlink:href=\"#m373934e47d\" x=\"213.323068\" y=\"175.534125\" style=\"fill: #bfbf00; stroke: #bfbf00\"/>\n     <use xlink:href=\"#m373934e47d\" x=\"294.486705\" y=\"165.454125\" style=\"fill: #bfbf00; stroke: #bfbf00\"/>\n     <use xlink:href=\"#m373934e47d\" x=\"276.450341\" y=\"165.454125\" style=\"fill: #bfbf00; stroke: #bfbf00\"/>\n     <use xlink:href=\"#m373934e47d\" x=\"294.486705\" y=\"165.454125\" style=\"fill: #bfbf00; stroke: #bfbf00\"/>\n     <use xlink:href=\"#m373934e47d\" x=\"195.286705\" y=\"205.774125\" style=\"fill: #bfbf00; stroke: #bfbf00\"/>\n     <use xlink:href=\"#m373934e47d\" x=\"285.468523\" y=\"155.374125\" style=\"fill: #bfbf00; stroke: #bfbf00\"/>\n     <use xlink:href=\"#m373934e47d\" x=\"276.450341\" y=\"145.294125\" style=\"fill: #bfbf00; stroke: #bfbf00\"/>\n     <use xlink:href=\"#m373934e47d\" x=\"276.450341\" y=\"175.534125\" style=\"fill: #bfbf00; stroke: #bfbf00\"/>\n     <use xlink:href=\"#m373934e47d\" x=\"240.377614\" y=\"225.934125\" style=\"fill: #bfbf00; stroke: #bfbf00\"/>\n     <use xlink:href=\"#m373934e47d\" x=\"258.413977\" y=\"175.534125\" style=\"fill: #bfbf00; stroke: #bfbf00\"/>\n     <use xlink:href=\"#m373934e47d\" x=\"231.359432\" y=\"135.214125\" style=\"fill: #bfbf00; stroke: #bfbf00\"/>\n     <use xlink:href=\"#m373934e47d\" x=\"204.304886\" y=\"175.534125\" style=\"fill: #bfbf00; stroke: #bfbf00\"/>\n    </g>\n   </g>\n   <g id=\"matplotlib.axis_1\">\n    <g id=\"xtick_1\">\n     <g id=\"line2d_1\">\n      <defs>\n       <path id=\"m3cefc5dff5\" d=\"M 0 0 \nL 0 3.5 \n\" style=\"stroke: #000000; stroke-width: 0.8\"/>\n      </defs>\n      <g>\n       <use xlink:href=\"#m3cefc5dff5\" x=\"78.050341\" y=\"288.430125\" style=\"stroke: #000000; stroke-width: 0.8\"/>\n      </g>\n     </g>\n     <g id=\"text_1\">\n      <!-- 4.5 -->\n      <g transform=\"translate(70.098778 303.028562) scale(0.1 -0.1)\">\n       <defs>\n        <path id=\"DejaVuSans-34\" d=\"M 2419 4116 \nL 825 1625 \nL 2419 1625 \nL 2419 4116 \nz\nM 2253 4666 \nL 3047 4666 \nL 3047 1625 \nL 3713 1625 \nL 3713 1100 \nL 3047 1100 \nL 3047 0 \nL 2419 0 \nL 2419 1100 \nL 313 1100 \nL 313 1709 \nL 2253 4666 \nz\n\" transform=\"scale(0.015625)\"/>\n        <path id=\"DejaVuSans-2e\" d=\"M 684 794 \nL 1344 794 \nL 1344 0 \nL 684 0 \nL 684 794 \nz\n\" transform=\"scale(0.015625)\"/>\n        <path id=\"DejaVuSans-35\" d=\"M 691 4666 \nL 3169 4666 \nL 3169 4134 \nL 1269 4134 \nL 1269 2991 \nQ 1406 3038 1543 3061 \nQ 1681 3084 1819 3084 \nQ 2600 3084 3056 2656 \nQ 3513 2228 3513 1497 \nQ 3513 744 3044 326 \nQ 2575 -91 1722 -91 \nQ 1428 -91 1123 -41 \nQ 819 9 494 109 \nL 494 744 \nQ 775 591 1075 516 \nQ 1375 441 1709 441 \nQ 2250 441 2565 725 \nQ 2881 1009 2881 1497 \nQ 2881 1984 2565 2268 \nQ 2250 2553 1709 2553 \nQ 1456 2553 1204 2497 \nQ 953 2441 691 2322 \nL 691 4666 \nz\n\" transform=\"scale(0.015625)\"/>\n       </defs>\n       <use xlink:href=\"#DejaVuSans-34\"/>\n       <use xlink:href=\"#DejaVuSans-2e\" x=\"63.623047\"/>\n       <use xlink:href=\"#DejaVuSans-35\" x=\"95.410156\"/>\n      </g>\n     </g>\n    </g>\n    <g id=\"xtick_2\">\n     <g id=\"line2d_2\">\n      <g>\n       <use xlink:href=\"#m3cefc5dff5\" x=\"123.14125\" y=\"288.430125\" style=\"stroke: #000000; stroke-width: 0.8\"/>\n      </g>\n     </g>\n     <g id=\"text_2\">\n      <!-- 5.0 -->\n      <g transform=\"translate(115.189688 303.028562) scale(0.1 -0.1)\">\n       <defs>\n        <path id=\"DejaVuSans-30\" d=\"M 2034 4250 \nQ 1547 4250 1301 3770 \nQ 1056 3291 1056 2328 \nQ 1056 1369 1301 889 \nQ 1547 409 2034 409 \nQ 2525 409 2770 889 \nQ 3016 1369 3016 2328 \nQ 3016 3291 2770 3770 \nQ 2525 4250 2034 4250 \nz\nM 2034 4750 \nQ 2819 4750 3233 4129 \nQ 3647 3509 3647 2328 \nQ 3647 1150 3233 529 \nQ 2819 -91 2034 -91 \nQ 1250 -91 836 529 \nQ 422 1150 422 2328 \nQ 422 3509 836 4129 \nQ 1250 4750 2034 4750 \nz\n\" transform=\"scale(0.015625)\"/>\n       </defs>\n       <use xlink:href=\"#DejaVuSans-35\"/>\n       <use xlink:href=\"#DejaVuSans-2e\" x=\"63.623047\"/>\n       <use xlink:href=\"#DejaVuSans-30\" x=\"95.410156\"/>\n      </g>\n     </g>\n    </g>\n    <g id=\"xtick_3\">\n     <g id=\"line2d_3\">\n      <g>\n       <use xlink:href=\"#m3cefc5dff5\" x=\"168.232159\" y=\"288.430125\" style=\"stroke: #000000; stroke-width: 0.8\"/>\n      </g>\n     </g>\n     <g id=\"text_3\">\n      <!-- 5.5 -->\n      <g transform=\"translate(160.280597 303.028562) scale(0.1 -0.1)\">\n       <use xlink:href=\"#DejaVuSans-35\"/>\n       <use xlink:href=\"#DejaVuSans-2e\" x=\"63.623047\"/>\n       <use xlink:href=\"#DejaVuSans-35\" x=\"95.410156\"/>\n      </g>\n     </g>\n    </g>\n    <g id=\"xtick_4\">\n     <g id=\"line2d_4\">\n      <g>\n       <use xlink:href=\"#m3cefc5dff5\" x=\"213.323068\" y=\"288.430125\" style=\"stroke: #000000; stroke-width: 0.8\"/>\n      </g>\n     </g>\n     <g id=\"text_4\">\n      <!-- 6.0 -->\n      <g transform=\"translate(205.371506 303.028562) scale(0.1 -0.1)\">\n       <defs>\n        <path id=\"DejaVuSans-36\" d=\"M 2113 2584 \nQ 1688 2584 1439 2293 \nQ 1191 2003 1191 1497 \nQ 1191 994 1439 701 \nQ 1688 409 2113 409 \nQ 2538 409 2786 701 \nQ 3034 994 3034 1497 \nQ 3034 2003 2786 2293 \nQ 2538 2584 2113 2584 \nz\nM 3366 4563 \nL 3366 3988 \nQ 3128 4100 2886 4159 \nQ 2644 4219 2406 4219 \nQ 1781 4219 1451 3797 \nQ 1122 3375 1075 2522 \nQ 1259 2794 1537 2939 \nQ 1816 3084 2150 3084 \nQ 2853 3084 3261 2657 \nQ 3669 2231 3669 1497 \nQ 3669 778 3244 343 \nQ 2819 -91 2113 -91 \nQ 1303 -91 875 529 \nQ 447 1150 447 2328 \nQ 447 3434 972 4092 \nQ 1497 4750 2381 4750 \nQ 2619 4750 2861 4703 \nQ 3103 4656 3366 4563 \nz\n\" transform=\"scale(0.015625)\"/>\n       </defs>\n       <use xlink:href=\"#DejaVuSans-36\"/>\n       <use xlink:href=\"#DejaVuSans-2e\" x=\"63.623047\"/>\n       <use xlink:href=\"#DejaVuSans-30\" x=\"95.410156\"/>\n      </g>\n     </g>\n    </g>\n    <g id=\"xtick_5\">\n     <g id=\"line2d_5\">\n      <g>\n       <use xlink:href=\"#m3cefc5dff5\" x=\"258.413977\" y=\"288.430125\" style=\"stroke: #000000; stroke-width: 0.8\"/>\n      </g>\n     </g>\n     <g id=\"text_5\">\n      <!-- 6.5 -->\n      <g transform=\"translate(250.462415 303.028562) scale(0.1 -0.1)\">\n       <use xlink:href=\"#DejaVuSans-36\"/>\n       <use xlink:href=\"#DejaVuSans-2e\" x=\"63.623047\"/>\n       <use xlink:href=\"#DejaVuSans-35\" x=\"95.410156\"/>\n      </g>\n     </g>\n    </g>\n    <g id=\"xtick_6\">\n     <g id=\"line2d_6\">\n      <g>\n       <use xlink:href=\"#m3cefc5dff5\" x=\"303.504886\" y=\"288.430125\" style=\"stroke: #000000; stroke-width: 0.8\"/>\n      </g>\n     </g>\n     <g id=\"text_6\">\n      <!-- 7.0 -->\n      <g transform=\"translate(295.553324 303.028562) scale(0.1 -0.1)\">\n       <defs>\n        <path id=\"DejaVuSans-37\" d=\"M 525 4666 \nL 3525 4666 \nL 3525 4397 \nL 1831 0 \nL 1172 0 \nL 2766 4134 \nL 525 4134 \nL 525 4666 \nz\n\" transform=\"scale(0.015625)\"/>\n       </defs>\n       <use xlink:href=\"#DejaVuSans-37\"/>\n       <use xlink:href=\"#DejaVuSans-2e\" x=\"63.623047\"/>\n       <use xlink:href=\"#DejaVuSans-30\" x=\"95.410156\"/>\n      </g>\n     </g>\n    </g>\n    <g id=\"xtick_7\">\n     <g id=\"line2d_7\">\n      <g>\n       <use xlink:href=\"#m3cefc5dff5\" x=\"348.595795\" y=\"288.430125\" style=\"stroke: #000000; stroke-width: 0.8\"/>\n      </g>\n     </g>\n     <g id=\"text_7\">\n      <!-- 7.5 -->\n      <g transform=\"translate(340.644233 303.028562) scale(0.1 -0.1)\">\n       <use xlink:href=\"#DejaVuSans-37\"/>\n       <use xlink:href=\"#DejaVuSans-2e\" x=\"63.623047\"/>\n       <use xlink:href=\"#DejaVuSans-35\" x=\"95.410156\"/>\n      </g>\n     </g>\n    </g>\n    <g id=\"xtick_8\">\n     <g id=\"line2d_8\">\n      <g>\n       <use xlink:href=\"#m3cefc5dff5\" x=\"393.686705\" y=\"288.430125\" style=\"stroke: #000000; stroke-width: 0.8\"/>\n      </g>\n     </g>\n     <g id=\"text_8\">\n      <!-- 8.0 -->\n      <g transform=\"translate(385.735142 303.028562) scale(0.1 -0.1)\">\n       <defs>\n        <path id=\"DejaVuSans-38\" d=\"M 2034 2216 \nQ 1584 2216 1326 1975 \nQ 1069 1734 1069 1313 \nQ 1069 891 1326 650 \nQ 1584 409 2034 409 \nQ 2484 409 2743 651 \nQ 3003 894 3003 1313 \nQ 3003 1734 2745 1975 \nQ 2488 2216 2034 2216 \nz\nM 1403 2484 \nQ 997 2584 770 2862 \nQ 544 3141 544 3541 \nQ 544 4100 942 4425 \nQ 1341 4750 2034 4750 \nQ 2731 4750 3128 4425 \nQ 3525 4100 3525 3541 \nQ 3525 3141 3298 2862 \nQ 3072 2584 2669 2484 \nQ 3125 2378 3379 2068 \nQ 3634 1759 3634 1313 \nQ 3634 634 3220 271 \nQ 2806 -91 2034 -91 \nQ 1263 -91 848 271 \nQ 434 634 434 1313 \nQ 434 1759 690 2068 \nQ 947 2378 1403 2484 \nz\nM 1172 3481 \nQ 1172 3119 1398 2916 \nQ 1625 2713 2034 2713 \nQ 2441 2713 2670 2916 \nQ 2900 3119 2900 3481 \nQ 2900 3844 2670 4047 \nQ 2441 4250 2034 4250 \nQ 1625 4250 1398 4047 \nQ 1172 3844 1172 3481 \nz\n\" transform=\"scale(0.015625)\"/>\n       </defs>\n       <use xlink:href=\"#DejaVuSans-38\"/>\n       <use xlink:href=\"#DejaVuSans-2e\" x=\"63.623047\"/>\n       <use xlink:href=\"#DejaVuSans-30\" x=\"95.410156\"/>\n      </g>\n     </g>\n    </g>\n    <g id=\"text_9\">\n     <!-- sepal length -->\n     <g transform=\"translate(191.506094 316.706687) scale(0.1 -0.1)\">\n      <defs>\n       <path id=\"DejaVuSans-73\" d=\"M 2834 3397 \nL 2834 2853 \nQ 2591 2978 2328 3040 \nQ 2066 3103 1784 3103 \nQ 1356 3103 1142 2972 \nQ 928 2841 928 2578 \nQ 928 2378 1081 2264 \nQ 1234 2150 1697 2047 \nL 1894 2003 \nQ 2506 1872 2764 1633 \nQ 3022 1394 3022 966 \nQ 3022 478 2636 193 \nQ 2250 -91 1575 -91 \nQ 1294 -91 989 -36 \nQ 684 19 347 128 \nL 347 722 \nQ 666 556 975 473 \nQ 1284 391 1588 391 \nQ 1994 391 2212 530 \nQ 2431 669 2431 922 \nQ 2431 1156 2273 1281 \nQ 2116 1406 1581 1522 \nL 1381 1569 \nQ 847 1681 609 1914 \nQ 372 2147 372 2553 \nQ 372 3047 722 3315 \nQ 1072 3584 1716 3584 \nQ 2034 3584 2315 3537 \nQ 2597 3491 2834 3397 \nz\n\" transform=\"scale(0.015625)\"/>\n       <path id=\"DejaVuSans-65\" d=\"M 3597 1894 \nL 3597 1613 \nL 953 1613 \nQ 991 1019 1311 708 \nQ 1631 397 2203 397 \nQ 2534 397 2845 478 \nQ 3156 559 3463 722 \nL 3463 178 \nQ 3153 47 2828 -22 \nQ 2503 -91 2169 -91 \nQ 1331 -91 842 396 \nQ 353 884 353 1716 \nQ 353 2575 817 3079 \nQ 1281 3584 2069 3584 \nQ 2775 3584 3186 3129 \nQ 3597 2675 3597 1894 \nz\nM 3022 2063 \nQ 3016 2534 2758 2815 \nQ 2500 3097 2075 3097 \nQ 1594 3097 1305 2825 \nQ 1016 2553 972 2059 \nL 3022 2063 \nz\n\" transform=\"scale(0.015625)\"/>\n       <path id=\"DejaVuSans-70\" d=\"M 1159 525 \nL 1159 -1331 \nL 581 -1331 \nL 581 3500 \nL 1159 3500 \nL 1159 2969 \nQ 1341 3281 1617 3432 \nQ 1894 3584 2278 3584 \nQ 2916 3584 3314 3078 \nQ 3713 2572 3713 1747 \nQ 3713 922 3314 415 \nQ 2916 -91 2278 -91 \nQ 1894 -91 1617 61 \nQ 1341 213 1159 525 \nz\nM 3116 1747 \nQ 3116 2381 2855 2742 \nQ 2594 3103 2138 3103 \nQ 1681 3103 1420 2742 \nQ 1159 2381 1159 1747 \nQ 1159 1113 1420 752 \nQ 1681 391 2138 391 \nQ 2594 391 2855 752 \nQ 3116 1113 3116 1747 \nz\n\" transform=\"scale(0.015625)\"/>\n       <path id=\"DejaVuSans-61\" d=\"M 2194 1759 \nQ 1497 1759 1228 1600 \nQ 959 1441 959 1056 \nQ 959 750 1161 570 \nQ 1363 391 1709 391 \nQ 2188 391 2477 730 \nQ 2766 1069 2766 1631 \nL 2766 1759 \nL 2194 1759 \nz\nM 3341 1997 \nL 3341 0 \nL 2766 0 \nL 2766 531 \nQ 2569 213 2275 61 \nQ 1981 -91 1556 -91 \nQ 1019 -91 701 211 \nQ 384 513 384 1019 \nQ 384 1609 779 1909 \nQ 1175 2209 1959 2209 \nL 2766 2209 \nL 2766 2266 \nQ 2766 2663 2505 2880 \nQ 2244 3097 1772 3097 \nQ 1472 3097 1187 3025 \nQ 903 2953 641 2809 \nL 641 3341 \nQ 956 3463 1253 3523 \nQ 1550 3584 1831 3584 \nQ 2591 3584 2966 3190 \nQ 3341 2797 3341 1997 \nz\n\" transform=\"scale(0.015625)\"/>\n       <path id=\"DejaVuSans-6c\" d=\"M 603 4863 \nL 1178 4863 \nL 1178 0 \nL 603 0 \nL 603 4863 \nz\n\" transform=\"scale(0.015625)\"/>\n       <path id=\"DejaVuSans-20\" transform=\"scale(0.015625)\"/>\n       <path id=\"DejaVuSans-6e\" d=\"M 3513 2113 \nL 3513 0 \nL 2938 0 \nL 2938 2094 \nQ 2938 2591 2744 2837 \nQ 2550 3084 2163 3084 \nQ 1697 3084 1428 2787 \nQ 1159 2491 1159 1978 \nL 1159 0 \nL 581 0 \nL 581 3500 \nL 1159 3500 \nL 1159 2956 \nQ 1366 3272 1645 3428 \nQ 1925 3584 2291 3584 \nQ 2894 3584 3203 3211 \nQ 3513 2838 3513 2113 \nz\n\" transform=\"scale(0.015625)\"/>\n       <path id=\"DejaVuSans-67\" d=\"M 2906 1791 \nQ 2906 2416 2648 2759 \nQ 2391 3103 1925 3103 \nQ 1463 3103 1205 2759 \nQ 947 2416 947 1791 \nQ 947 1169 1205 825 \nQ 1463 481 1925 481 \nQ 2391 481 2648 825 \nQ 2906 1169 2906 1791 \nz\nM 3481 434 \nQ 3481 -459 3084 -895 \nQ 2688 -1331 1869 -1331 \nQ 1566 -1331 1297 -1286 \nQ 1028 -1241 775 -1147 \nL 775 -588 \nQ 1028 -725 1275 -790 \nQ 1522 -856 1778 -856 \nQ 2344 -856 2625 -561 \nQ 2906 -266 2906 331 \nL 2906 616 \nQ 2728 306 2450 153 \nQ 2172 0 1784 0 \nQ 1141 0 747 490 \nQ 353 981 353 1791 \nQ 353 2603 747 3093 \nQ 1141 3584 1784 3584 \nQ 2172 3584 2450 3431 \nQ 2728 3278 2906 2969 \nL 2906 3500 \nL 3481 3500 \nL 3481 434 \nz\n\" transform=\"scale(0.015625)\"/>\n       <path id=\"DejaVuSans-74\" d=\"M 1172 4494 \nL 1172 3500 \nL 2356 3500 \nL 2356 3053 \nL 1172 3053 \nL 1172 1153 \nQ 1172 725 1289 603 \nQ 1406 481 1766 481 \nL 2356 481 \nL 2356 0 \nL 1766 0 \nQ 1100 0 847 248 \nQ 594 497 594 1153 \nL 594 3053 \nL 172 3053 \nL 172 3500 \nL 594 3500 \nL 594 4494 \nL 1172 4494 \nz\n\" transform=\"scale(0.015625)\"/>\n       <path id=\"DejaVuSans-68\" d=\"M 3513 2113 \nL 3513 0 \nL 2938 0 \nL 2938 2094 \nQ 2938 2591 2744 2837 \nQ 2550 3084 2163 3084 \nQ 1697 3084 1428 2787 \nQ 1159 2491 1159 1978 \nL 1159 0 \nL 581 0 \nL 581 4863 \nL 1159 4863 \nL 1159 2956 \nQ 1366 3272 1645 3428 \nQ 1925 3584 2291 3584 \nQ 2894 3584 3203 3211 \nQ 3513 2838 3513 2113 \nz\n\" transform=\"scale(0.015625)\"/>\n      </defs>\n      <use xlink:href=\"#DejaVuSans-73\"/>\n      <use xlink:href=\"#DejaVuSans-65\" x=\"52.099609\"/>\n      <use xlink:href=\"#DejaVuSans-70\" x=\"113.623047\"/>\n      <use xlink:href=\"#DejaVuSans-61\" x=\"177.099609\"/>\n      <use xlink:href=\"#DejaVuSans-6c\" x=\"238.378906\"/>\n      <use xlink:href=\"#DejaVuSans-20\" x=\"266.162109\"/>\n      <use xlink:href=\"#DejaVuSans-6c\" x=\"297.949219\"/>\n      <use xlink:href=\"#DejaVuSans-65\" x=\"325.732422\"/>\n      <use xlink:href=\"#DejaVuSans-6e\" x=\"387.255859\"/>\n      <use xlink:href=\"#DejaVuSans-67\" x=\"450.634766\"/>\n      <use xlink:href=\"#DejaVuSans-74\" x=\"514.111328\"/>\n      <use xlink:href=\"#DejaVuSans-68\" x=\"553.320312\"/>\n     </g>\n    </g>\n   </g>\n   <g id=\"matplotlib.axis_2\">\n    <g id=\"ytick_1\">\n     <g id=\"line2d_9\">\n      <defs>\n       <path id=\"m072b4980b1\" d=\"M 0 0 \nL -3.5 0 \n\" style=\"stroke: #000000; stroke-width: 0.8\"/>\n      </defs>\n      <g>\n       <use xlink:href=\"#m072b4980b1\" x=\"43.78125\" y=\"276.334125\" style=\"stroke: #000000; stroke-width: 0.8\"/>\n      </g>\n     </g>\n     <g id=\"text_10\">\n      <!-- 2.0 -->\n      <g transform=\"translate(20.878125 280.133344) scale(0.1 -0.1)\">\n       <defs>\n        <path id=\"DejaVuSans-32\" d=\"M 1228 531 \nL 3431 531 \nL 3431 0 \nL 469 0 \nL 469 531 \nQ 828 903 1448 1529 \nQ 2069 2156 2228 2338 \nQ 2531 2678 2651 2914 \nQ 2772 3150 2772 3378 \nQ 2772 3750 2511 3984 \nQ 2250 4219 1831 4219 \nQ 1534 4219 1204 4116 \nQ 875 4013 500 3803 \nL 500 4441 \nQ 881 4594 1212 4672 \nQ 1544 4750 1819 4750 \nQ 2544 4750 2975 4387 \nQ 3406 4025 3406 3419 \nQ 3406 3131 3298 2873 \nQ 3191 2616 2906 2266 \nQ 2828 2175 2409 1742 \nQ 1991 1309 1228 531 \nz\n\" transform=\"scale(0.015625)\"/>\n       </defs>\n       <use xlink:href=\"#DejaVuSans-32\"/>\n       <use xlink:href=\"#DejaVuSans-2e\" x=\"63.623047\"/>\n       <use xlink:href=\"#DejaVuSans-30\" x=\"95.410156\"/>\n      </g>\n     </g>\n    </g>\n    <g id=\"ytick_2\">\n     <g id=\"line2d_10\">\n      <g>\n       <use xlink:href=\"#m072b4980b1\" x=\"43.78125\" y=\"225.934125\" style=\"stroke: #000000; stroke-width: 0.8\"/>\n      </g>\n     </g>\n     <g id=\"text_11\">\n      <!-- 2.5 -->\n      <g transform=\"translate(20.878125 229.733344) scale(0.1 -0.1)\">\n       <use xlink:href=\"#DejaVuSans-32\"/>\n       <use xlink:href=\"#DejaVuSans-2e\" x=\"63.623047\"/>\n       <use xlink:href=\"#DejaVuSans-35\" x=\"95.410156\"/>\n      </g>\n     </g>\n    </g>\n    <g id=\"ytick_3\">\n     <g id=\"line2d_11\">\n      <g>\n       <use xlink:href=\"#m072b4980b1\" x=\"43.78125\" y=\"175.534125\" style=\"stroke: #000000; stroke-width: 0.8\"/>\n      </g>\n     </g>\n     <g id=\"text_12\">\n      <!-- 3.0 -->\n      <g transform=\"translate(20.878125 179.333344) scale(0.1 -0.1)\">\n       <defs>\n        <path id=\"DejaVuSans-33\" d=\"M 2597 2516 \nQ 3050 2419 3304 2112 \nQ 3559 1806 3559 1356 \nQ 3559 666 3084 287 \nQ 2609 -91 1734 -91 \nQ 1441 -91 1130 -33 \nQ 819 25 488 141 \nL 488 750 \nQ 750 597 1062 519 \nQ 1375 441 1716 441 \nQ 2309 441 2620 675 \nQ 2931 909 2931 1356 \nQ 2931 1769 2642 2001 \nQ 2353 2234 1838 2234 \nL 1294 2234 \nL 1294 2753 \nL 1863 2753 \nQ 2328 2753 2575 2939 \nQ 2822 3125 2822 3475 \nQ 2822 3834 2567 4026 \nQ 2313 4219 1838 4219 \nQ 1578 4219 1281 4162 \nQ 984 4106 628 3988 \nL 628 4550 \nQ 988 4650 1302 4700 \nQ 1616 4750 1894 4750 \nQ 2613 4750 3031 4423 \nQ 3450 4097 3450 3541 \nQ 3450 3153 3228 2886 \nQ 3006 2619 2597 2516 \nz\n\" transform=\"scale(0.015625)\"/>\n       </defs>\n       <use xlink:href=\"#DejaVuSans-33\"/>\n       <use xlink:href=\"#DejaVuSans-2e\" x=\"63.623047\"/>\n       <use xlink:href=\"#DejaVuSans-30\" x=\"95.410156\"/>\n      </g>\n     </g>\n    </g>\n    <g id=\"ytick_4\">\n     <g id=\"line2d_12\">\n      <g>\n       <use xlink:href=\"#m072b4980b1\" x=\"43.78125\" y=\"125.134125\" style=\"stroke: #000000; stroke-width: 0.8\"/>\n      </g>\n     </g>\n     <g id=\"text_13\">\n      <!-- 3.5 -->\n      <g transform=\"translate(20.878125 128.933344) scale(0.1 -0.1)\">\n       <use xlink:href=\"#DejaVuSans-33\"/>\n       <use xlink:href=\"#DejaVuSans-2e\" x=\"63.623047\"/>\n       <use xlink:href=\"#DejaVuSans-35\" x=\"95.410156\"/>\n      </g>\n     </g>\n    </g>\n    <g id=\"ytick_5\">\n     <g id=\"line2d_13\">\n      <g>\n       <use xlink:href=\"#m072b4980b1\" x=\"43.78125\" y=\"74.734125\" style=\"stroke: #000000; stroke-width: 0.8\"/>\n      </g>\n     </g>\n     <g id=\"text_14\">\n      <!-- 4.0 -->\n      <g transform=\"translate(20.878125 78.533344) scale(0.1 -0.1)\">\n       <use xlink:href=\"#DejaVuSans-34\"/>\n       <use xlink:href=\"#DejaVuSans-2e\" x=\"63.623047\"/>\n       <use xlink:href=\"#DejaVuSans-30\" x=\"95.410156\"/>\n      </g>\n     </g>\n    </g>\n    <g id=\"ytick_6\">\n     <g id=\"line2d_14\">\n      <g>\n       <use xlink:href=\"#m072b4980b1\" x=\"43.78125\" y=\"24.334125\" style=\"stroke: #000000; stroke-width: 0.8\"/>\n      </g>\n     </g>\n     <g id=\"text_15\">\n      <!-- 4.5 -->\n      <g transform=\"translate(20.878125 28.133344) scale(0.1 -0.1)\">\n       <use xlink:href=\"#DejaVuSans-34\"/>\n       <use xlink:href=\"#DejaVuSans-2e\" x=\"63.623047\"/>\n       <use xlink:href=\"#DejaVuSans-35\" x=\"95.410156\"/>\n      </g>\n     </g>\n    </g>\n    <g id=\"text_16\">\n     <!-- sepal width -->\n     <g transform=\"translate(14.798438 184.053031) rotate(-90) scale(0.1 -0.1)\">\n      <defs>\n       <path id=\"DejaVuSans-77\" d=\"M 269 3500 \nL 844 3500 \nL 1563 769 \nL 2278 3500 \nL 2956 3500 \nL 3675 769 \nL 4391 3500 \nL 4966 3500 \nL 4050 0 \nL 3372 0 \nL 2619 2869 \nL 1863 0 \nL 1184 0 \nL 269 3500 \nz\n\" transform=\"scale(0.015625)\"/>\n       <path id=\"DejaVuSans-69\" d=\"M 603 3500 \nL 1178 3500 \nL 1178 0 \nL 603 0 \nL 603 3500 \nz\nM 603 4863 \nL 1178 4863 \nL 1178 4134 \nL 603 4134 \nL 603 4863 \nz\n\" transform=\"scale(0.015625)\"/>\n       <path id=\"DejaVuSans-64\" d=\"M 2906 2969 \nL 2906 4863 \nL 3481 4863 \nL 3481 0 \nL 2906 0 \nL 2906 525 \nQ 2725 213 2448 61 \nQ 2172 -91 1784 -91 \nQ 1150 -91 751 415 \nQ 353 922 353 1747 \nQ 353 2572 751 3078 \nQ 1150 3584 1784 3584 \nQ 2172 3584 2448 3432 \nQ 2725 3281 2906 2969 \nz\nM 947 1747 \nQ 947 1113 1208 752 \nQ 1469 391 1925 391 \nQ 2381 391 2643 752 \nQ 2906 1113 2906 1747 \nQ 2906 2381 2643 2742 \nQ 2381 3103 1925 3103 \nQ 1469 3103 1208 2742 \nQ 947 2381 947 1747 \nz\n\" transform=\"scale(0.015625)\"/>\n      </defs>\n      <use xlink:href=\"#DejaVuSans-73\"/>\n      <use xlink:href=\"#DejaVuSans-65\" x=\"52.099609\"/>\n      <use xlink:href=\"#DejaVuSans-70\" x=\"113.623047\"/>\n      <use xlink:href=\"#DejaVuSans-61\" x=\"177.099609\"/>\n      <use xlink:href=\"#DejaVuSans-6c\" x=\"238.378906\"/>\n      <use xlink:href=\"#DejaVuSans-20\" x=\"266.162109\"/>\n      <use xlink:href=\"#DejaVuSans-77\" x=\"297.949219\"/>\n      <use xlink:href=\"#DejaVuSans-69\" x=\"379.736328\"/>\n      <use xlink:href=\"#DejaVuSans-64\" x=\"407.519531\"/>\n      <use xlink:href=\"#DejaVuSans-74\" x=\"470.996094\"/>\n      <use xlink:href=\"#DejaVuSans-68\" x=\"510.205078\"/>\n     </g>\n    </g>\n   </g>\n   <g id=\"patch_3\">\n    <path d=\"M 43.78125 288.430125 \nL 43.78125 22.318125 \n\" style=\"fill: none; stroke: #000000; stroke-width: 0.8; stroke-linejoin: miter; stroke-linecap: square\"/>\n   </g>\n   <g id=\"patch_4\">\n    <path d=\"M 400.90125 288.430125 \nL 400.90125 22.318125 \n\" style=\"fill: none; stroke: #000000; stroke-width: 0.8; stroke-linejoin: miter; stroke-linecap: square\"/>\n   </g>\n   <g id=\"patch_5\">\n    <path d=\"M 43.78125 288.430125 \nL 400.90125 288.430125 \n\" style=\"fill: none; stroke: #000000; stroke-width: 0.8; stroke-linejoin: miter; stroke-linecap: square\"/>\n   </g>\n   <g id=\"patch_6\">\n    <path d=\"M 43.78125 22.318125 \nL 400.90125 22.318125 \n\" style=\"fill: none; stroke: #000000; stroke-width: 0.8; stroke-linejoin: miter; stroke-linecap: square\"/>\n   </g>\n   <g id=\"text_17\">\n    <!-- sepal length and width scatter -->\n    <g transform=\"translate(130.828125 16.318125) scale(0.12 -0.12)\">\n     <defs>\n      <path id=\"DejaVuSans-63\" d=\"M 3122 3366 \nL 3122 2828 \nQ 2878 2963 2633 3030 \nQ 2388 3097 2138 3097 \nQ 1578 3097 1268 2742 \nQ 959 2388 959 1747 \nQ 959 1106 1268 751 \nQ 1578 397 2138 397 \nQ 2388 397 2633 464 \nQ 2878 531 3122 666 \nL 3122 134 \nQ 2881 22 2623 -34 \nQ 2366 -91 2075 -91 \nQ 1284 -91 818 406 \nQ 353 903 353 1747 \nQ 353 2603 823 3093 \nQ 1294 3584 2113 3584 \nQ 2378 3584 2631 3529 \nQ 2884 3475 3122 3366 \nz\n\" transform=\"scale(0.015625)\"/>\n      <path id=\"DejaVuSans-72\" d=\"M 2631 2963 \nQ 2534 3019 2420 3045 \nQ 2306 3072 2169 3072 \nQ 1681 3072 1420 2755 \nQ 1159 2438 1159 1844 \nL 1159 0 \nL 581 0 \nL 581 3500 \nL 1159 3500 \nL 1159 2956 \nQ 1341 3275 1631 3429 \nQ 1922 3584 2338 3584 \nQ 2397 3584 2469 3576 \nQ 2541 3569 2628 3553 \nL 2631 2963 \nz\n\" transform=\"scale(0.015625)\"/>\n     </defs>\n     <use xlink:href=\"#DejaVuSans-73\"/>\n     <use xlink:href=\"#DejaVuSans-65\" x=\"52.099609\"/>\n     <use xlink:href=\"#DejaVuSans-70\" x=\"113.623047\"/>\n     <use xlink:href=\"#DejaVuSans-61\" x=\"177.099609\"/>\n     <use xlink:href=\"#DejaVuSans-6c\" x=\"238.378906\"/>\n     <use xlink:href=\"#DejaVuSans-20\" x=\"266.162109\"/>\n     <use xlink:href=\"#DejaVuSans-6c\" x=\"297.949219\"/>\n     <use xlink:href=\"#DejaVuSans-65\" x=\"325.732422\"/>\n     <use xlink:href=\"#DejaVuSans-6e\" x=\"387.255859\"/>\n     <use xlink:href=\"#DejaVuSans-67\" x=\"450.634766\"/>\n     <use xlink:href=\"#DejaVuSans-74\" x=\"514.111328\"/>\n     <use xlink:href=\"#DejaVuSans-68\" x=\"553.320312\"/>\n     <use xlink:href=\"#DejaVuSans-20\" x=\"616.699219\"/>\n     <use xlink:href=\"#DejaVuSans-61\" x=\"648.486328\"/>\n     <use xlink:href=\"#DejaVuSans-6e\" x=\"709.765625\"/>\n     <use xlink:href=\"#DejaVuSans-64\" x=\"773.144531\"/>\n     <use xlink:href=\"#DejaVuSans-20\" x=\"836.621094\"/>\n     <use xlink:href=\"#DejaVuSans-77\" x=\"868.408203\"/>\n     <use xlink:href=\"#DejaVuSans-69\" x=\"950.195312\"/>\n     <use xlink:href=\"#DejaVuSans-64\" x=\"977.978516\"/>\n     <use xlink:href=\"#DejaVuSans-74\" x=\"1041.455078\"/>\n     <use xlink:href=\"#DejaVuSans-68\" x=\"1080.664062\"/>\n     <use xlink:href=\"#DejaVuSans-20\" x=\"1144.042969\"/>\n     <use xlink:href=\"#DejaVuSans-73\" x=\"1175.830078\"/>\n     <use xlink:href=\"#DejaVuSans-63\" x=\"1227.929688\"/>\n     <use xlink:href=\"#DejaVuSans-61\" x=\"1282.910156\"/>\n     <use xlink:href=\"#DejaVuSans-74\" x=\"1344.189453\"/>\n     <use xlink:href=\"#DejaVuSans-74\" x=\"1383.398438\"/>\n     <use xlink:href=\"#DejaVuSans-65\" x=\"1422.607422\"/>\n     <use xlink:href=\"#DejaVuSans-72\" x=\"1484.130859\"/>\n    </g>\n   </g>\n   <g id=\"legend_1\">\n    <g id=\"patch_7\">\n     <path d=\"M 306.621563 74.3525 \nL 393.90125 74.3525 \nQ 395.90125 74.3525 395.90125 72.3525 \nL 395.90125 29.318125 \nQ 395.90125 27.318125 393.90125 27.318125 \nL 306.621563 27.318125 \nQ 304.621563 27.318125 304.621563 29.318125 \nL 304.621563 72.3525 \nQ 304.621563 74.3525 306.621563 74.3525 \nz\n\" style=\"fill: #ffffff; opacity: 0.8; stroke: #cccccc; stroke-linejoin: miter\"/>\n    </g>\n    <g id=\"PathCollection_4\">\n     <g>\n      <use xlink:href=\"#mc47adf5495\" x=\"318.621563\" y=\"36.291562\" style=\"fill: #0000ff; stroke: #0000ff\"/>\n     </g>\n    </g>\n    <g id=\"text_18\">\n     <!-- Setosa -->\n     <g transform=\"translate(336.621563 38.916562) scale(0.1 -0.1)\">\n      <defs>\n       <path id=\"DejaVuSans-53\" d=\"M 3425 4513 \nL 3425 3897 \nQ 3066 4069 2747 4153 \nQ 2428 4238 2131 4238 \nQ 1616 4238 1336 4038 \nQ 1056 3838 1056 3469 \nQ 1056 3159 1242 3001 \nQ 1428 2844 1947 2747 \nL 2328 2669 \nQ 3034 2534 3370 2195 \nQ 3706 1856 3706 1288 \nQ 3706 609 3251 259 \nQ 2797 -91 1919 -91 \nQ 1588 -91 1214 -16 \nQ 841 59 441 206 \nL 441 856 \nQ 825 641 1194 531 \nQ 1563 422 1919 422 \nQ 2459 422 2753 634 \nQ 3047 847 3047 1241 \nQ 3047 1584 2836 1778 \nQ 2625 1972 2144 2069 \nL 1759 2144 \nQ 1053 2284 737 2584 \nQ 422 2884 422 3419 \nQ 422 4038 858 4394 \nQ 1294 4750 2059 4750 \nQ 2388 4750 2728 4690 \nQ 3069 4631 3425 4513 \nz\n\" transform=\"scale(0.015625)\"/>\n       <path id=\"DejaVuSans-6f\" d=\"M 1959 3097 \nQ 1497 3097 1228 2736 \nQ 959 2375 959 1747 \nQ 959 1119 1226 758 \nQ 1494 397 1959 397 \nQ 2419 397 2687 759 \nQ 2956 1122 2956 1747 \nQ 2956 2369 2687 2733 \nQ 2419 3097 1959 3097 \nz\nM 1959 3584 \nQ 2709 3584 3137 3096 \nQ 3566 2609 3566 1747 \nQ 3566 888 3137 398 \nQ 2709 -91 1959 -91 \nQ 1206 -91 779 398 \nQ 353 888 353 1747 \nQ 353 2609 779 3096 \nQ 1206 3584 1959 3584 \nz\n\" transform=\"scale(0.015625)\"/>\n      </defs>\n      <use xlink:href=\"#DejaVuSans-53\"/>\n      <use xlink:href=\"#DejaVuSans-65\" x=\"63.476562\"/>\n      <use xlink:href=\"#DejaVuSans-74\" x=\"125\"/>\n      <use xlink:href=\"#DejaVuSans-6f\" x=\"164.208984\"/>\n      <use xlink:href=\"#DejaVuSans-73\" x=\"225.390625\"/>\n      <use xlink:href=\"#DejaVuSans-61\" x=\"277.490234\"/>\n     </g>\n    </g>\n    <g id=\"PathCollection_5\">\n     <g>\n      <use xlink:href=\"#md6ad5a957b\" x=\"318.621563\" y=\"50.969688\" style=\"fill: #ff0000; stroke: #ff0000\"/>\n     </g>\n    </g>\n    <g id=\"text_19\">\n     <!-- Versicolour -->\n     <g transform=\"translate(336.621563 53.594688) scale(0.1 -0.1)\">\n      <defs>\n       <path id=\"DejaVuSans-56\" d=\"M 1831 0 \nL 50 4666 \nL 709 4666 \nL 2188 738 \nL 3669 4666 \nL 4325 4666 \nL 2547 0 \nL 1831 0 \nz\n\" transform=\"scale(0.015625)\"/>\n       <path id=\"DejaVuSans-75\" d=\"M 544 1381 \nL 544 3500 \nL 1119 3500 \nL 1119 1403 \nQ 1119 906 1312 657 \nQ 1506 409 1894 409 \nQ 2359 409 2629 706 \nQ 2900 1003 2900 1516 \nL 2900 3500 \nL 3475 3500 \nL 3475 0 \nL 2900 0 \nL 2900 538 \nQ 2691 219 2414 64 \nQ 2138 -91 1772 -91 \nQ 1169 -91 856 284 \nQ 544 659 544 1381 \nz\nM 1991 3584 \nL 1991 3584 \nz\n\" transform=\"scale(0.015625)\"/>\n      </defs>\n      <use xlink:href=\"#DejaVuSans-56\"/>\n      <use xlink:href=\"#DejaVuSans-65\" x=\"60.658203\"/>\n      <use xlink:href=\"#DejaVuSans-72\" x=\"122.181641\"/>\n      <use xlink:href=\"#DejaVuSans-73\" x=\"163.294922\"/>\n      <use xlink:href=\"#DejaVuSans-69\" x=\"215.394531\"/>\n      <use xlink:href=\"#DejaVuSans-63\" x=\"243.177734\"/>\n      <use xlink:href=\"#DejaVuSans-6f\" x=\"298.158203\"/>\n      <use xlink:href=\"#DejaVuSans-6c\" x=\"359.339844\"/>\n      <use xlink:href=\"#DejaVuSans-6f\" x=\"387.123047\"/>\n      <use xlink:href=\"#DejaVuSans-75\" x=\"448.304688\"/>\n      <use xlink:href=\"#DejaVuSans-72\" x=\"511.683594\"/>\n     </g>\n    </g>\n    <g id=\"PathCollection_6\">\n     <g>\n      <use xlink:href=\"#m373934e47d\" x=\"318.621563\" y=\"65.647812\" style=\"fill: #bfbf00; stroke: #bfbf00\"/>\n     </g>\n    </g>\n    <g id=\"text_20\">\n     <!-- Virginica -->\n     <g transform=\"translate(336.621563 68.272812) scale(0.1 -0.1)\">\n      <use xlink:href=\"#DejaVuSans-56\"/>\n      <use xlink:href=\"#DejaVuSans-69\" x=\"66.158203\"/>\n      <use xlink:href=\"#DejaVuSans-72\" x=\"93.941406\"/>\n      <use xlink:href=\"#DejaVuSans-67\" x=\"133.304688\"/>\n      <use xlink:href=\"#DejaVuSans-69\" x=\"196.78125\"/>\n      <use xlink:href=\"#DejaVuSans-6e\" x=\"224.564453\"/>\n      <use xlink:href=\"#DejaVuSans-69\" x=\"287.943359\"/>\n      <use xlink:href=\"#DejaVuSans-63\" x=\"315.726562\"/>\n      <use xlink:href=\"#DejaVuSans-61\" x=\"370.707031\"/>\n     </g>\n    </g>\n   </g>\n  </g>\n </g>\n <defs>\n  <clipPath id=\"pdec34a5125\">\n   <rect x=\"43.78125\" y=\"22.318125\" width=\"357.12\" height=\"266.112\"/>\n  </clipPath>\n </defs>\n</svg>\n",
      "text/plain": [
       "<Figure size 640x480 with 1 Axes>"
      ]
     },
     "metadata": {},
     "output_type": "display_data"
    }
   ],
   "source": [
    "import pandas as pd\n",
    "from matplotlib import pyplot\n",
    "\n",
    "from sklearn.datasets import load_iris\n",
    "\n",
    "iris = load_iris()\n",
    "setosa_sepal_len = iris.data[:50, 0]\n",
    "setosa_sepal_width = iris.data[:50, 1]\n",
    "\n",
    "versi_sepal_len = iris.data[50:100, 0]\n",
    "versi_sepal_width = iris.data[50:100, 1]\n",
    "\n",
    "vergi_sepal_len = iris.data[100:, 0]\n",
    "vergi_sepal_width = iris.data[100:, 1]\n",
    "\n",
    "pyplot.scatter(setosa_sepal_len, setosa_sepal_width, marker = 'o', c = 'b',  s = 30, label = 'Setosa')\n",
    "pyplot.scatter(versi_sepal_len, versi_sepal_width, marker = 'o', c = 'r',  s = 50, label = 'Versicolour')\n",
    "pyplot.scatter(vergi_sepal_len, vergi_sepal_width, marker = 'o', c = 'y',  s = 35, label = 'Virginica')\n",
    "pyplot.xlabel(\"sepal length\")\n",
    "pyplot.ylabel(\"sepal width\")\n",
    "pyplot.title(\"sepal length and width scatter\")\n",
    "pyplot.legend(loc = \"upper right\")\n"
   ]
  },
  {
   "cell_type": "code",
   "execution_count": 9,
   "metadata": {},
   "outputs": [],
   "source": [
    "#iris = pd.DataFrame(iris.data, columns=iris.feature_names)"
   ]
  },
  {
   "cell_type": "code",
   "execution_count": 17,
   "metadata": {},
   "outputs": [
    {
     "data": {
      "text/plain": [
       "{'data': array([[5.1, 3.5, 1.4, 0.2],\n",
       "        [4.9, 3. , 1.4, 0.2],\n",
       "        [4.7, 3.2, 1.3, 0.2],\n",
       "        [4.6, 3.1, 1.5, 0.2],\n",
       "        [5. , 3.6, 1.4, 0.2],\n",
       "        [5.4, 3.9, 1.7, 0.4],\n",
       "        [4.6, 3.4, 1.4, 0.3],\n",
       "        [5. , 3.4, 1.5, 0.2],\n",
       "        [4.4, 2.9, 1.4, 0.2],\n",
       "        [4.9, 3.1, 1.5, 0.1],\n",
       "        [5.4, 3.7, 1.5, 0.2],\n",
       "        [4.8, 3.4, 1.6, 0.2],\n",
       "        [4.8, 3. , 1.4, 0.1],\n",
       "        [4.3, 3. , 1.1, 0.1],\n",
       "        [5.8, 4. , 1.2, 0.2],\n",
       "        [5.7, 4.4, 1.5, 0.4],\n",
       "        [5.4, 3.9, 1.3, 0.4],\n",
       "        [5.1, 3.5, 1.4, 0.3],\n",
       "        [5.7, 3.8, 1.7, 0.3],\n",
       "        [5.1, 3.8, 1.5, 0.3],\n",
       "        [5.4, 3.4, 1.7, 0.2],\n",
       "        [5.1, 3.7, 1.5, 0.4],\n",
       "        [4.6, 3.6, 1. , 0.2],\n",
       "        [5.1, 3.3, 1.7, 0.5],\n",
       "        [4.8, 3.4, 1.9, 0.2],\n",
       "        [5. , 3. , 1.6, 0.2],\n",
       "        [5. , 3.4, 1.6, 0.4],\n",
       "        [5.2, 3.5, 1.5, 0.2],\n",
       "        [5.2, 3.4, 1.4, 0.2],\n",
       "        [4.7, 3.2, 1.6, 0.2],\n",
       "        [4.8, 3.1, 1.6, 0.2],\n",
       "        [5.4, 3.4, 1.5, 0.4],\n",
       "        [5.2, 4.1, 1.5, 0.1],\n",
       "        [5.5, 4.2, 1.4, 0.2],\n",
       "        [4.9, 3.1, 1.5, 0.2],\n",
       "        [5. , 3.2, 1.2, 0.2],\n",
       "        [5.5, 3.5, 1.3, 0.2],\n",
       "        [4.9, 3.6, 1.4, 0.1],\n",
       "        [4.4, 3. , 1.3, 0.2],\n",
       "        [5.1, 3.4, 1.5, 0.2],\n",
       "        [5. , 3.5, 1.3, 0.3],\n",
       "        [4.5, 2.3, 1.3, 0.3],\n",
       "        [4.4, 3.2, 1.3, 0.2],\n",
       "        [5. , 3.5, 1.6, 0.6],\n",
       "        [5.1, 3.8, 1.9, 0.4],\n",
       "        [4.8, 3. , 1.4, 0.3],\n",
       "        [5.1, 3.8, 1.6, 0.2],\n",
       "        [4.6, 3.2, 1.4, 0.2],\n",
       "        [5.3, 3.7, 1.5, 0.2],\n",
       "        [5. , 3.3, 1.4, 0.2],\n",
       "        [7. , 3.2, 4.7, 1.4],\n",
       "        [6.4, 3.2, 4.5, 1.5],\n",
       "        [6.9, 3.1, 4.9, 1.5],\n",
       "        [5.5, 2.3, 4. , 1.3],\n",
       "        [6.5, 2.8, 4.6, 1.5],\n",
       "        [5.7, 2.8, 4.5, 1.3],\n",
       "        [6.3, 3.3, 4.7, 1.6],\n",
       "        [4.9, 2.4, 3.3, 1. ],\n",
       "        [6.6, 2.9, 4.6, 1.3],\n",
       "        [5.2, 2.7, 3.9, 1.4],\n",
       "        [5. , 2. , 3.5, 1. ],\n",
       "        [5.9, 3. , 4.2, 1.5],\n",
       "        [6. , 2.2, 4. , 1. ],\n",
       "        [6.1, 2.9, 4.7, 1.4],\n",
       "        [5.6, 2.9, 3.6, 1.3],\n",
       "        [6.7, 3.1, 4.4, 1.4],\n",
       "        [5.6, 3. , 4.5, 1.5],\n",
       "        [5.8, 2.7, 4.1, 1. ],\n",
       "        [6.2, 2.2, 4.5, 1.5],\n",
       "        [5.6, 2.5, 3.9, 1.1],\n",
       "        [5.9, 3.2, 4.8, 1.8],\n",
       "        [6.1, 2.8, 4. , 1.3],\n",
       "        [6.3, 2.5, 4.9, 1.5],\n",
       "        [6.1, 2.8, 4.7, 1.2],\n",
       "        [6.4, 2.9, 4.3, 1.3],\n",
       "        [6.6, 3. , 4.4, 1.4],\n",
       "        [6.8, 2.8, 4.8, 1.4],\n",
       "        [6.7, 3. , 5. , 1.7],\n",
       "        [6. , 2.9, 4.5, 1.5],\n",
       "        [5.7, 2.6, 3.5, 1. ],\n",
       "        [5.5, 2.4, 3.8, 1.1],\n",
       "        [5.5, 2.4, 3.7, 1. ],\n",
       "        [5.8, 2.7, 3.9, 1.2],\n",
       "        [6. , 2.7, 5.1, 1.6],\n",
       "        [5.4, 3. , 4.5, 1.5],\n",
       "        [6. , 3.4, 4.5, 1.6],\n",
       "        [6.7, 3.1, 4.7, 1.5],\n",
       "        [6.3, 2.3, 4.4, 1.3],\n",
       "        [5.6, 3. , 4.1, 1.3],\n",
       "        [5.5, 2.5, 4. , 1.3],\n",
       "        [5.5, 2.6, 4.4, 1.2],\n",
       "        [6.1, 3. , 4.6, 1.4],\n",
       "        [5.8, 2.6, 4. , 1.2],\n",
       "        [5. , 2.3, 3.3, 1. ],\n",
       "        [5.6, 2.7, 4.2, 1.3],\n",
       "        [5.7, 3. , 4.2, 1.2],\n",
       "        [5.7, 2.9, 4.2, 1.3],\n",
       "        [6.2, 2.9, 4.3, 1.3],\n",
       "        [5.1, 2.5, 3. , 1.1],\n",
       "        [5.7, 2.8, 4.1, 1.3],\n",
       "        [6.3, 3.3, 6. , 2.5],\n",
       "        [5.8, 2.7, 5.1, 1.9],\n",
       "        [7.1, 3. , 5.9, 2.1],\n",
       "        [6.3, 2.9, 5.6, 1.8],\n",
       "        [6.5, 3. , 5.8, 2.2],\n",
       "        [7.6, 3. , 6.6, 2.1],\n",
       "        [4.9, 2.5, 4.5, 1.7],\n",
       "        [7.3, 2.9, 6.3, 1.8],\n",
       "        [6.7, 2.5, 5.8, 1.8],\n",
       "        [7.2, 3.6, 6.1, 2.5],\n",
       "        [6.5, 3.2, 5.1, 2. ],\n",
       "        [6.4, 2.7, 5.3, 1.9],\n",
       "        [6.8, 3. , 5.5, 2.1],\n",
       "        [5.7, 2.5, 5. , 2. ],\n",
       "        [5.8, 2.8, 5.1, 2.4],\n",
       "        [6.4, 3.2, 5.3, 2.3],\n",
       "        [6.5, 3. , 5.5, 1.8],\n",
       "        [7.7, 3.8, 6.7, 2.2],\n",
       "        [7.7, 2.6, 6.9, 2.3],\n",
       "        [6. , 2.2, 5. , 1.5],\n",
       "        [6.9, 3.2, 5.7, 2.3],\n",
       "        [5.6, 2.8, 4.9, 2. ],\n",
       "        [7.7, 2.8, 6.7, 2. ],\n",
       "        [6.3, 2.7, 4.9, 1.8],\n",
       "        [6.7, 3.3, 5.7, 2.1],\n",
       "        [7.2, 3.2, 6. , 1.8],\n",
       "        [6.2, 2.8, 4.8, 1.8],\n",
       "        [6.1, 3. , 4.9, 1.8],\n",
       "        [6.4, 2.8, 5.6, 2.1],\n",
       "        [7.2, 3. , 5.8, 1.6],\n",
       "        [7.4, 2.8, 6.1, 1.9],\n",
       "        [7.9, 3.8, 6.4, 2. ],\n",
       "        [6.4, 2.8, 5.6, 2.2],\n",
       "        [6.3, 2.8, 5.1, 1.5],\n",
       "        [6.1, 2.6, 5.6, 1.4],\n",
       "        [7.7, 3. , 6.1, 2.3],\n",
       "        [6.3, 3.4, 5.6, 2.4],\n",
       "        [6.4, 3.1, 5.5, 1.8],\n",
       "        [6. , 3. , 4.8, 1.8],\n",
       "        [6.9, 3.1, 5.4, 2.1],\n",
       "        [6.7, 3.1, 5.6, 2.4],\n",
       "        [6.9, 3.1, 5.1, 2.3],\n",
       "        [5.8, 2.7, 5.1, 1.9],\n",
       "        [6.8, 3.2, 5.9, 2.3],\n",
       "        [6.7, 3.3, 5.7, 2.5],\n",
       "        [6.7, 3. , 5.2, 2.3],\n",
       "        [6.3, 2.5, 5. , 1.9],\n",
       "        [6.5, 3. , 5.2, 2. ],\n",
       "        [6.2, 3.4, 5.4, 2.3],\n",
       "        [5.9, 3. , 5.1, 1.8]]),\n",
       " 'target': array([0, 0, 0, 0, 0, 0, 0, 0, 0, 0, 0, 0, 0, 0, 0, 0, 0, 0, 0, 0, 0, 0,\n",
       "        0, 0, 0, 0, 0, 0, 0, 0, 0, 0, 0, 0, 0, 0, 0, 0, 0, 0, 0, 0, 0, 0,\n",
       "        0, 0, 0, 0, 0, 0, 1, 1, 1, 1, 1, 1, 1, 1, 1, 1, 1, 1, 1, 1, 1, 1,\n",
       "        1, 1, 1, 1, 1, 1, 1, 1, 1, 1, 1, 1, 1, 1, 1, 1, 1, 1, 1, 1, 1, 1,\n",
       "        1, 1, 1, 1, 1, 1, 1, 1, 1, 1, 1, 1, 2, 2, 2, 2, 2, 2, 2, 2, 2, 2,\n",
       "        2, 2, 2, 2, 2, 2, 2, 2, 2, 2, 2, 2, 2, 2, 2, 2, 2, 2, 2, 2, 2, 2,\n",
       "        2, 2, 2, 2, 2, 2, 2, 2, 2, 2, 2, 2, 2, 2, 2, 2, 2, 2]),\n",
       " 'frame': None,\n",
       " 'target_names': array(['setosa', 'versicolor', 'virginica'], dtype='<U10'),\n",
       " 'DESCR': '.. _iris_dataset:\\n\\nIris plants dataset\\n--------------------\\n\\n**Data Set Characteristics:**\\n\\n    :Number of Instances: 150 (50 in each of three classes)\\n    :Number of Attributes: 4 numeric, predictive attributes and the class\\n    :Attribute Information:\\n        - sepal length in cm\\n        - sepal width in cm\\n        - petal length in cm\\n        - petal width in cm\\n        - class:\\n                - Iris-Setosa\\n                - Iris-Versicolour\\n                - Iris-Virginica\\n                \\n    :Summary Statistics:\\n\\n    ============== ==== ==== ======= ===== ====================\\n                    Min  Max   Mean    SD   Class Correlation\\n    ============== ==== ==== ======= ===== ====================\\n    sepal length:   4.3  7.9   5.84   0.83    0.7826\\n    sepal width:    2.0  4.4   3.05   0.43   -0.4194\\n    petal length:   1.0  6.9   3.76   1.76    0.9490  (high!)\\n    petal width:    0.1  2.5   1.20   0.76    0.9565  (high!)\\n    ============== ==== ==== ======= ===== ====================\\n\\n    :Missing Attribute Values: None\\n    :Class Distribution: 33.3% for each of 3 classes.\\n    :Creator: R.A. Fisher\\n    :Donor: Michael Marshall (MARSHALL%PLU@io.arc.nasa.gov)\\n    :Date: July, 1988\\n\\nThe famous Iris database, first used by Sir R.A. Fisher. The dataset is taken\\nfrom Fisher\\'s paper. Note that it\\'s the same as in R, but not as in the UCI\\nMachine Learning Repository, which has two wrong data points.\\n\\nThis is perhaps the best known database to be found in the\\npattern recognition literature.  Fisher\\'s paper is a classic in the field and\\nis referenced frequently to this day.  (See Duda & Hart, for example.)  The\\ndata set contains 3 classes of 50 instances each, where each class refers to a\\ntype of iris plant.  One class is linearly separable from the other 2; the\\nlatter are NOT linearly separable from each other.\\n\\n.. topic:: References\\n\\n   - Fisher, R.A. \"The use of multiple measurements in taxonomic problems\"\\n     Annual Eugenics, 7, Part II, 179-188 (1936); also in \"Contributions to\\n     Mathematical Statistics\" (John Wiley, NY, 1950).\\n   - Duda, R.O., & Hart, P.E. (1973) Pattern Classification and Scene Analysis.\\n     (Q327.D83) John Wiley & Sons.  ISBN 0-471-22361-1.  See page 218.\\n   - Dasarathy, B.V. (1980) \"Nosing Around the Neighborhood: A New System\\n     Structure and Classification Rule for Recognition in Partially Exposed\\n     Environments\".  IEEE Transactions on Pattern Analysis and Machine\\n     Intelligence, Vol. PAMI-2, No. 1, 67-71.\\n   - Gates, G.W. (1972) \"The Reduced Nearest Neighbor Rule\".  IEEE Transactions\\n     on Information Theory, May 1972, 431-433.\\n   - See also: 1988 MLC Proceedings, 54-64.  Cheeseman et al\"s AUTOCLASS II\\n     conceptual clustering system finds 3 classes in the data.\\n   - Many, many more ...',\n",
       " 'feature_names': ['sepal length (cm)',\n",
       "  'sepal width (cm)',\n",
       "  'petal length (cm)',\n",
       "  'petal width (cm)'],\n",
       " 'filename': 'iris.csv',\n",
       " 'data_module': 'sklearn.datasets.data'}"
      ]
     },
     "execution_count": 17,
     "metadata": {},
     "output_type": "execute_result"
    }
   ],
   "source": [
    "#iris.columns = ['sepal length', 'sepal width', 'petal length', 'petal width', 'label']\n",
    "iris #显示所有数据"
   ]
  }
 ],
 "metadata": {
  "kernelspec": {
   "display_name": "Python 3.11.0 64-bit",
   "language": "python",
   "name": "python3"
  },
  "language_info": {
   "codemirror_mode": {
    "name": "ipython",
    "version": 3
   },
   "file_extension": ".py",
   "mimetype": "text/x-python",
   "name": "python",
   "nbconvert_exporter": "python",
   "pygments_lexer": "ipython3",
   "version": "3.11.0"
  },
  "orig_nbformat": 4,
  "vscode": {
   "interpreter": {
    "hash": "5238573367df39f7286bb46f9ff5f08f63a01a80960060ce41e3c79b190280fa"
   }
  }
 },
 "nbformat": 4,
 "nbformat_minor": 2
}
